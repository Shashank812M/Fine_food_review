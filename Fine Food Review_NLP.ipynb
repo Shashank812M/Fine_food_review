{
 "cells": [
  {
   "cell_type": "markdown",
   "id": "4ee2bd91",
   "metadata": {},
   "source": [
    "## Objective: To classify the food review as Positive or not"
   ]
  },
  {
   "cell_type": "markdown",
   "id": "4157fa9c",
   "metadata": {},
   "source": [
    "### importing libraries"
   ]
  },
  {
   "cell_type": "code",
   "execution_count": 1,
   "id": "6bfb0803",
   "metadata": {},
   "outputs": [],
   "source": [
    "import numpy as np\n",
    "import pandas as pd\n",
    "import sklearn as sk\n",
    "import warnings\n",
    "warnings.filterwarnings('ignore')"
   ]
  },
  {
   "cell_type": "markdown",
   "id": "f8ff63d9",
   "metadata": {},
   "source": [
    "### importing dataset"
   ]
  },
  {
   "cell_type": "code",
   "execution_count": 2,
   "id": "bc3976c6",
   "metadata": {},
   "outputs": [],
   "source": [
    "data = pd.read_csv(\"C:\\\\Users\\\\shash\\\\Desktop\\\\Machine Learning A-Z (Codes and Datasets)\\\\Datasets for projects\\\\Reviews.csv\")"
   ]
  },
  {
   "cell_type": "code",
   "execution_count": 3,
   "id": "9064edf3",
   "metadata": {},
   "outputs": [
    {
     "data": {
      "text/html": [
       "<div>\n",
       "<style scoped>\n",
       "    .dataframe tbody tr th:only-of-type {\n",
       "        vertical-align: middle;\n",
       "    }\n",
       "\n",
       "    .dataframe tbody tr th {\n",
       "        vertical-align: top;\n",
       "    }\n",
       "\n",
       "    .dataframe thead th {\n",
       "        text-align: right;\n",
       "    }\n",
       "</style>\n",
       "<table border=\"1\" class=\"dataframe\">\n",
       "  <thead>\n",
       "    <tr style=\"text-align: right;\">\n",
       "      <th></th>\n",
       "      <th>Id</th>\n",
       "      <th>ProductId</th>\n",
       "      <th>UserId</th>\n",
       "      <th>ProfileName</th>\n",
       "      <th>HelpfulnessNumerator</th>\n",
       "      <th>HelpfulnessDenominator</th>\n",
       "      <th>Score</th>\n",
       "      <th>Time</th>\n",
       "      <th>Summary</th>\n",
       "      <th>Text</th>\n",
       "    </tr>\n",
       "  </thead>\n",
       "  <tbody>\n",
       "    <tr>\n",
       "      <th>0</th>\n",
       "      <td>1</td>\n",
       "      <td>B001E4KFG0</td>\n",
       "      <td>A3SGXH7AUHU8GW</td>\n",
       "      <td>delmartian</td>\n",
       "      <td>1</td>\n",
       "      <td>1</td>\n",
       "      <td>5</td>\n",
       "      <td>1303862400</td>\n",
       "      <td>Good Quality Dog Food</td>\n",
       "      <td>I have bought several of the Vitality canned d...</td>\n",
       "    </tr>\n",
       "    <tr>\n",
       "      <th>1</th>\n",
       "      <td>2</td>\n",
       "      <td>B00813GRG4</td>\n",
       "      <td>A1D87F6ZCVE5NK</td>\n",
       "      <td>dll pa</td>\n",
       "      <td>0</td>\n",
       "      <td>0</td>\n",
       "      <td>1</td>\n",
       "      <td>1346976000</td>\n",
       "      <td>Not as Advertised</td>\n",
       "      <td>Product arrived labeled as Jumbo Salted Peanut...</td>\n",
       "    </tr>\n",
       "    <tr>\n",
       "      <th>2</th>\n",
       "      <td>3</td>\n",
       "      <td>B000LQOCH0</td>\n",
       "      <td>ABXLMWJIXXAIN</td>\n",
       "      <td>Natalia Corres \"Natalia Corres\"</td>\n",
       "      <td>1</td>\n",
       "      <td>1</td>\n",
       "      <td>4</td>\n",
       "      <td>1219017600</td>\n",
       "      <td>\"Delight\" says it all</td>\n",
       "      <td>This is a confection that has been around a fe...</td>\n",
       "    </tr>\n",
       "    <tr>\n",
       "      <th>3</th>\n",
       "      <td>4</td>\n",
       "      <td>B000UA0QIQ</td>\n",
       "      <td>A395BORC6FGVXV</td>\n",
       "      <td>Karl</td>\n",
       "      <td>3</td>\n",
       "      <td>3</td>\n",
       "      <td>2</td>\n",
       "      <td>1307923200</td>\n",
       "      <td>Cough Medicine</td>\n",
       "      <td>If you are looking for the secret ingredient i...</td>\n",
       "    </tr>\n",
       "    <tr>\n",
       "      <th>4</th>\n",
       "      <td>5</td>\n",
       "      <td>B006K2ZZ7K</td>\n",
       "      <td>A1UQRSCLF8GW1T</td>\n",
       "      <td>Michael D. Bigham \"M. Wassir\"</td>\n",
       "      <td>0</td>\n",
       "      <td>0</td>\n",
       "      <td>5</td>\n",
       "      <td>1350777600</td>\n",
       "      <td>Great taffy</td>\n",
       "      <td>Great taffy at a great price.  There was a wid...</td>\n",
       "    </tr>\n",
       "  </tbody>\n",
       "</table>\n",
       "</div>"
      ],
      "text/plain": [
       "   Id   ProductId          UserId                      ProfileName  \\\n",
       "0   1  B001E4KFG0  A3SGXH7AUHU8GW                       delmartian   \n",
       "1   2  B00813GRG4  A1D87F6ZCVE5NK                           dll pa   \n",
       "2   3  B000LQOCH0   ABXLMWJIXXAIN  Natalia Corres \"Natalia Corres\"   \n",
       "3   4  B000UA0QIQ  A395BORC6FGVXV                             Karl   \n",
       "4   5  B006K2ZZ7K  A1UQRSCLF8GW1T    Michael D. Bigham \"M. Wassir\"   \n",
       "\n",
       "   HelpfulnessNumerator  HelpfulnessDenominator  Score        Time  \\\n",
       "0                     1                       1      5  1303862400   \n",
       "1                     0                       0      1  1346976000   \n",
       "2                     1                       1      4  1219017600   \n",
       "3                     3                       3      2  1307923200   \n",
       "4                     0                       0      5  1350777600   \n",
       "\n",
       "                 Summary                                               Text  \n",
       "0  Good Quality Dog Food  I have bought several of the Vitality canned d...  \n",
       "1      Not as Advertised  Product arrived labeled as Jumbo Salted Peanut...  \n",
       "2  \"Delight\" says it all  This is a confection that has been around a fe...  \n",
       "3         Cough Medicine  If you are looking for the secret ingredient i...  \n",
       "4            Great taffy  Great taffy at a great price.  There was a wid...  "
      ]
     },
     "execution_count": 3,
     "metadata": {},
     "output_type": "execute_result"
    }
   ],
   "source": [
    "data.head()"
   ]
  },
  {
   "cell_type": "code",
   "execution_count": 4,
   "id": "669e2c23",
   "metadata": {},
   "outputs": [
    {
     "data": {
      "text/plain": [
       "(568454, 10)"
      ]
     },
     "execution_count": 4,
     "metadata": {},
     "output_type": "execute_result"
    }
   ],
   "source": [
    "data.shape"
   ]
  },
  {
   "cell_type": "code",
   "execution_count": 5,
   "id": "8ad9d535",
   "metadata": {},
   "outputs": [
    {
     "name": "stdout",
     "output_type": "stream",
     "text": [
      "<class 'pandas.core.frame.DataFrame'>\n",
      "RangeIndex: 568454 entries, 0 to 568453\n",
      "Data columns (total 10 columns):\n",
      " #   Column                  Non-Null Count   Dtype \n",
      "---  ------                  --------------   ----- \n",
      " 0   Id                      568454 non-null  int64 \n",
      " 1   ProductId               568454 non-null  object\n",
      " 2   UserId                  568454 non-null  object\n",
      " 3   ProfileName             568438 non-null  object\n",
      " 4   HelpfulnessNumerator    568454 non-null  int64 \n",
      " 5   HelpfulnessDenominator  568454 non-null  int64 \n",
      " 6   Score                   568454 non-null  int64 \n",
      " 7   Time                    568454 non-null  int64 \n",
      " 8   Summary                 568427 non-null  object\n",
      " 9   Text                    568454 non-null  object\n",
      "dtypes: int64(5), object(5)\n",
      "memory usage: 43.4+ MB\n"
     ]
    }
   ],
   "source": [
    "data.info()"
   ]
  },
  {
   "cell_type": "code",
   "execution_count": 6,
   "id": "5eda006c",
   "metadata": {},
   "outputs": [
    {
     "data": {
      "text/plain": [
       "Id                         0\n",
       "ProductId                  0\n",
       "UserId                     0\n",
       "ProfileName               16\n",
       "HelpfulnessNumerator       0\n",
       "HelpfulnessDenominator     0\n",
       "Score                      0\n",
       "Time                       0\n",
       "Summary                   27\n",
       "Text                       0\n",
       "dtype: int64"
      ]
     },
     "execution_count": 6,
     "metadata": {},
     "output_type": "execute_result"
    }
   ],
   "source": [
    "data.isnull().sum()"
   ]
  },
  {
   "cell_type": "code",
   "execution_count": 7,
   "id": "df421292",
   "metadata": {},
   "outputs": [
    {
     "data": {
      "text/html": [
       "<div>\n",
       "<style scoped>\n",
       "    .dataframe tbody tr th:only-of-type {\n",
       "        vertical-align: middle;\n",
       "    }\n",
       "\n",
       "    .dataframe tbody tr th {\n",
       "        vertical-align: top;\n",
       "    }\n",
       "\n",
       "    .dataframe thead th {\n",
       "        text-align: right;\n",
       "    }\n",
       "</style>\n",
       "<table border=\"1\" class=\"dataframe\">\n",
       "  <thead>\n",
       "    <tr style=\"text-align: right;\">\n",
       "      <th></th>\n",
       "      <th>Id</th>\n",
       "      <th>ProductId</th>\n",
       "      <th>UserId</th>\n",
       "      <th>ProfileName</th>\n",
       "      <th>HelpfulnessNumerator</th>\n",
       "      <th>HelpfulnessDenominator</th>\n",
       "      <th>Score</th>\n",
       "      <th>Time</th>\n",
       "      <th>Summary</th>\n",
       "      <th>Text</th>\n",
       "    </tr>\n",
       "  </thead>\n",
       "  <tbody>\n",
       "    <tr>\n",
       "      <th>466</th>\n",
       "      <td>467</td>\n",
       "      <td>B000G6RYNE</td>\n",
       "      <td>A3PJZ8TU8FDQ1K</td>\n",
       "      <td>Jared Castle</td>\n",
       "      <td>0</td>\n",
       "      <td>0</td>\n",
       "      <td>5</td>\n",
       "      <td>1231718400</td>\n",
       "      <td>One bite and you'll become a \"chippoisseur\"</td>\n",
       "      <td>I'm addicted to salty and tangy flavors, so wh...</td>\n",
       "    </tr>\n",
       "    <tr>\n",
       "      <th>574</th>\n",
       "      <td>575</td>\n",
       "      <td>B000G6RYNE</td>\n",
       "      <td>A3PJZ8TU8FDQ1K</td>\n",
       "      <td>Jared Castle</td>\n",
       "      <td>2</td>\n",
       "      <td>2</td>\n",
       "      <td>5</td>\n",
       "      <td>1231718400</td>\n",
       "      <td>One bite and you'll become a \"chippoisseur\"</td>\n",
       "      <td>I'm addicted to salty and tangy flavors, so wh...</td>\n",
       "    </tr>\n",
       "    <tr>\n",
       "      <th>1084</th>\n",
       "      <td>1085</td>\n",
       "      <td>B0030N5K1I</td>\n",
       "      <td>A19U4T4I7UZGNM</td>\n",
       "      <td>3 dogs</td>\n",
       "      <td>3</td>\n",
       "      <td>3</td>\n",
       "      <td>1</td>\n",
       "      <td>1330992000</td>\n",
       "      <td>awful</td>\n",
       "      <td>This is not jerky, this is processed, hard lik...</td>\n",
       "    </tr>\n",
       "    <tr>\n",
       "      <th>1087</th>\n",
       "      <td>1088</td>\n",
       "      <td>B0030N5K1I</td>\n",
       "      <td>A19U4T4I7UZGNM</td>\n",
       "      <td>3 dogs</td>\n",
       "      <td>1</td>\n",
       "      <td>1</td>\n",
       "      <td>1</td>\n",
       "      <td>1330992000</td>\n",
       "      <td>awful</td>\n",
       "      <td>This is not jerky, this is processed, hard lik...</td>\n",
       "    </tr>\n",
       "    <tr>\n",
       "      <th>2630</th>\n",
       "      <td>2631</td>\n",
       "      <td>B0016FY6H6</td>\n",
       "      <td>A2NLZ3M0OJV9NX</td>\n",
       "      <td>Mark Bodzin</td>\n",
       "      <td>1</td>\n",
       "      <td>1</td>\n",
       "      <td>2</td>\n",
       "      <td>1313107200</td>\n",
       "      <td>Way too weak for my tastes</td>\n",
       "      <td>What can i say, I love iced tea. I drink a lot...</td>\n",
       "    </tr>\n",
       "    <tr>\n",
       "      <th>...</th>\n",
       "      <td>...</td>\n",
       "      <td>...</td>\n",
       "      <td>...</td>\n",
       "      <td>...</td>\n",
       "      <td>...</td>\n",
       "      <td>...</td>\n",
       "      <td>...</td>\n",
       "      <td>...</td>\n",
       "      <td>...</td>\n",
       "      <td>...</td>\n",
       "    </tr>\n",
       "    <tr>\n",
       "      <th>568007</th>\n",
       "      <td>568008</td>\n",
       "      <td>B0030VJ8YU</td>\n",
       "      <td>A20P8VC55KPPCT</td>\n",
       "      <td>FL Mom</td>\n",
       "      <td>3</td>\n",
       "      <td>3</td>\n",
       "      <td>5</td>\n",
       "      <td>1274486400</td>\n",
       "      <td>These pouches are great!</td>\n",
       "      <td>These pouches are so easy and convenient. They...</td>\n",
       "    </tr>\n",
       "    <tr>\n",
       "      <th>568008</th>\n",
       "      <td>568009</td>\n",
       "      <td>B0030VJ8YU</td>\n",
       "      <td>ATIHDHZYNQ0EI</td>\n",
       "      <td>Kristen O'donnell \"twinsmom\"</td>\n",
       "      <td>3</td>\n",
       "      <td>3</td>\n",
       "      <td>5</td>\n",
       "      <td>1270425600</td>\n",
       "      <td>Organic and Tasty!</td>\n",
       "      <td>I have 12 month olds and no time to write a gr...</td>\n",
       "    </tr>\n",
       "    <tr>\n",
       "      <th>568017</th>\n",
       "      <td>568018</td>\n",
       "      <td>B0030VJ8YU</td>\n",
       "      <td>A20P8VC55KPPCT</td>\n",
       "      <td>FL Mom</td>\n",
       "      <td>2</td>\n",
       "      <td>2</td>\n",
       "      <td>5</td>\n",
       "      <td>1274486400</td>\n",
       "      <td>These pouches are great!</td>\n",
       "      <td>These pouches are so easy and convenient. They...</td>\n",
       "    </tr>\n",
       "    <tr>\n",
       "      <th>568034</th>\n",
       "      <td>568035</td>\n",
       "      <td>B0030VJ8YU</td>\n",
       "      <td>A1S6HK2R1KUC5E</td>\n",
       "      <td>data1701</td>\n",
       "      <td>1</td>\n",
       "      <td>1</td>\n",
       "      <td>5</td>\n",
       "      <td>1318291200</td>\n",
       "      <td>Triplets love this!</td>\n",
       "      <td>This is very smooth and easy to feed to my tri...</td>\n",
       "    </tr>\n",
       "    <tr>\n",
       "      <th>568053</th>\n",
       "      <td>568054</td>\n",
       "      <td>B0030VJ8YU</td>\n",
       "      <td>A20P8VC55KPPCT</td>\n",
       "      <td>FL Mom</td>\n",
       "      <td>1</td>\n",
       "      <td>1</td>\n",
       "      <td>5</td>\n",
       "      <td>1274486400</td>\n",
       "      <td>These pouches are great!</td>\n",
       "      <td>These pouches are so easy and convenient.  The...</td>\n",
       "    </tr>\n",
       "  </tbody>\n",
       "</table>\n",
       "<p>2230 rows × 10 columns</p>\n",
       "</div>"
      ],
      "text/plain": [
       "            Id   ProductId          UserId                   ProfileName  \\\n",
       "466        467  B000G6RYNE  A3PJZ8TU8FDQ1K                  Jared Castle   \n",
       "574        575  B000G6RYNE  A3PJZ8TU8FDQ1K                  Jared Castle   \n",
       "1084      1085  B0030N5K1I  A19U4T4I7UZGNM                        3 dogs   \n",
       "1087      1088  B0030N5K1I  A19U4T4I7UZGNM                        3 dogs   \n",
       "2630      2631  B0016FY6H6  A2NLZ3M0OJV9NX                   Mark Bodzin   \n",
       "...        ...         ...             ...                           ...   \n",
       "568007  568008  B0030VJ8YU  A20P8VC55KPPCT                        FL Mom   \n",
       "568008  568009  B0030VJ8YU   ATIHDHZYNQ0EI  Kristen O'donnell \"twinsmom\"   \n",
       "568017  568018  B0030VJ8YU  A20P8VC55KPPCT                        FL Mom   \n",
       "568034  568035  B0030VJ8YU  A1S6HK2R1KUC5E                      data1701   \n",
       "568053  568054  B0030VJ8YU  A20P8VC55KPPCT                        FL Mom   \n",
       "\n",
       "        HelpfulnessNumerator  HelpfulnessDenominator  Score        Time  \\\n",
       "466                        0                       0      5  1231718400   \n",
       "574                        2                       2      5  1231718400   \n",
       "1084                       3                       3      1  1330992000   \n",
       "1087                       1                       1      1  1330992000   \n",
       "2630                       1                       1      2  1313107200   \n",
       "...                      ...                     ...    ...         ...   \n",
       "568007                     3                       3      5  1274486400   \n",
       "568008                     3                       3      5  1270425600   \n",
       "568017                     2                       2      5  1274486400   \n",
       "568034                     1                       1      5  1318291200   \n",
       "568053                     1                       1      5  1274486400   \n",
       "\n",
       "                                            Summary  \\\n",
       "466     One bite and you'll become a \"chippoisseur\"   \n",
       "574     One bite and you'll become a \"chippoisseur\"   \n",
       "1084                                          awful   \n",
       "1087                                          awful   \n",
       "2630                     Way too weak for my tastes   \n",
       "...                                             ...   \n",
       "568007                     These pouches are great!   \n",
       "568008                           Organic and Tasty!   \n",
       "568017                     These pouches are great!   \n",
       "568034                          Triplets love this!   \n",
       "568053                     These pouches are great!   \n",
       "\n",
       "                                                     Text  \n",
       "466     I'm addicted to salty and tangy flavors, so wh...  \n",
       "574     I'm addicted to salty and tangy flavors, so wh...  \n",
       "1084    This is not jerky, this is processed, hard lik...  \n",
       "1087    This is not jerky, this is processed, hard lik...  \n",
       "2630    What can i say, I love iced tea. I drink a lot...  \n",
       "...                                                   ...  \n",
       "568007  These pouches are so easy and convenient. They...  \n",
       "568008  I have 12 month olds and no time to write a gr...  \n",
       "568017  These pouches are so easy and convenient. They...  \n",
       "568034  This is very smooth and easy to feed to my tri...  \n",
       "568053  These pouches are so easy and convenient.  The...  \n",
       "\n",
       "[2230 rows x 10 columns]"
      ]
     },
     "execution_count": 7,
     "metadata": {},
     "output_type": "execute_result"
    }
   ],
   "source": [
    "data[data.duplicated(subset = [\"ProductId\",\"UserId\",\"ProfileName\",\"Score\", \"Time\", \"Summary\"], keep = False)] # keep = False, prints all the rows which contains all duplicates"
   ]
  },
  {
   "cell_type": "code",
   "execution_count": 8,
   "id": "e91a758a",
   "metadata": {},
   "outputs": [
    {
     "data": {
      "text/html": [
       "<div>\n",
       "<style scoped>\n",
       "    .dataframe tbody tr th:only-of-type {\n",
       "        vertical-align: middle;\n",
       "    }\n",
       "\n",
       "    .dataframe tbody tr th {\n",
       "        vertical-align: top;\n",
       "    }\n",
       "\n",
       "    .dataframe thead th {\n",
       "        text-align: right;\n",
       "    }\n",
       "</style>\n",
       "<table border=\"1\" class=\"dataframe\">\n",
       "  <thead>\n",
       "    <tr style=\"text-align: right;\">\n",
       "      <th></th>\n",
       "      <th>Id</th>\n",
       "      <th>ProductId</th>\n",
       "      <th>UserId</th>\n",
       "      <th>ProfileName</th>\n",
       "      <th>HelpfulnessNumerator</th>\n",
       "      <th>HelpfulnessDenominator</th>\n",
       "      <th>Score</th>\n",
       "      <th>Time</th>\n",
       "      <th>Summary</th>\n",
       "      <th>Text</th>\n",
       "    </tr>\n",
       "  </thead>\n",
       "  <tbody>\n",
       "    <tr>\n",
       "      <th>3306</th>\n",
       "      <td>3307</td>\n",
       "      <td>B005K4Q1VI</td>\n",
       "      <td>A3OXHLG6DIBRW8</td>\n",
       "      <td>C. F. Hill \"CFH\"</td>\n",
       "      <td>24</td>\n",
       "      <td>25</td>\n",
       "      <td>5</td>\n",
       "      <td>1321401600</td>\n",
       "      <td>Really Good Hot Cocoa - Highly Recommended</td>\n",
       "      <td>These Grove Square Hot Cocoa flavors are by fa...</td>\n",
       "    </tr>\n",
       "    <tr>\n",
       "      <th>3416</th>\n",
       "      <td>3417</td>\n",
       "      <td>B005K4Q1VI</td>\n",
       "      <td>A3OXHLG6DIBRW8</td>\n",
       "      <td>C. F. Hill \"CFH\"</td>\n",
       "      <td>5</td>\n",
       "      <td>5</td>\n",
       "      <td>5</td>\n",
       "      <td>1321401600</td>\n",
       "      <td>Really Good Hot Cocoa - Highly Recommended</td>\n",
       "      <td>These Grove Square Hot Cocoa flavors are by fa...</td>\n",
       "    </tr>\n",
       "  </tbody>\n",
       "</table>\n",
       "</div>"
      ],
      "text/plain": [
       "        Id   ProductId          UserId       ProfileName  \\\n",
       "3306  3307  B005K4Q1VI  A3OXHLG6DIBRW8  C. F. Hill \"CFH\"   \n",
       "3416  3417  B005K4Q1VI  A3OXHLG6DIBRW8  C. F. Hill \"CFH\"   \n",
       "\n",
       "      HelpfulnessNumerator  HelpfulnessDenominator  Score        Time  \\\n",
       "3306                    24                      25      5  1321401600   \n",
       "3416                     5                       5      5  1321401600   \n",
       "\n",
       "                                         Summary  \\\n",
       "3306  Really Good Hot Cocoa - Highly Recommended   \n",
       "3416  Really Good Hot Cocoa - Highly Recommended   \n",
       "\n",
       "                                                   Text  \n",
       "3306  These Grove Square Hot Cocoa flavors are by fa...  \n",
       "3416  These Grove Square Hot Cocoa flavors are by fa...  "
      ]
     },
     "execution_count": 8,
     "metadata": {},
     "output_type": "execute_result"
    }
   ],
   "source": [
    "data[data.duplicated(subset = [\"ProductId\",\"UserId\",\"ProfileName\",\"Score\", \"Time\", \"Summary\"], keep = False)].loc[data.ProductId=='B005K4Q1VI']"
   ]
  },
  {
   "cell_type": "markdown",
   "id": "38f2d3af",
   "metadata": {},
   "source": [
    "Here we can notice that, though two rows are duplicates but their HN, HD differs....these type of data has to be removed"
   ]
  },
  {
   "cell_type": "markdown",
   "id": "a9c0fc70",
   "metadata": {},
   "source": [
    "### dropping duplicate values"
   ]
  },
  {
   "cell_type": "code",
   "execution_count": 9,
   "id": "6f8ee19b",
   "metadata": {},
   "outputs": [],
   "source": [
    "sorted_data=data.sort_values('ProductId', axis=0, ascending=True, inplace=False, kind='quicksort', na_position='last')"
   ]
  },
  {
   "cell_type": "code",
   "execution_count": 10,
   "id": "42ee8e25",
   "metadata": {},
   "outputs": [
    {
     "data": {
      "text/plain": [
       "(393933, 10)"
      ]
     },
     "execution_count": 10,
     "metadata": {},
     "output_type": "execute_result"
    }
   ],
   "source": [
    "final = sorted_data.drop_duplicates(subset={\"UserId\",\"ProfileName\",\"Time\",\"Text\"}, keep='first', inplace=False)\n",
    "final.shape"
   ]
  },
  {
   "cell_type": "code",
   "execution_count": 11,
   "id": "ff38bcb6",
   "metadata": {},
   "outputs": [
    {
     "data": {
      "text/plain": [
       "0.6929901100176972"
      ]
     },
     "execution_count": 11,
     "metadata": {},
     "output_type": "execute_result"
    }
   ],
   "source": [
    "final['Id'].size/data['Id'].size"
   ]
  },
  {
   "cell_type": "markdown",
   "id": "217c4784",
   "metadata": {},
   "source": [
    "only 69% of the original data is considered after removing duplicates"
   ]
  },
  {
   "cell_type": "markdown",
   "id": "7e1e7bfa",
   "metadata": {},
   "source": [
    "#### Checking some constraints like helpfullness numerator should be greater than denominator. So checking on them"
   ]
  },
  {
   "cell_type": "code",
   "execution_count": 12,
   "id": "9d830bae",
   "metadata": {},
   "outputs": [
    {
     "data": {
      "text/html": [
       "<div>\n",
       "<style scoped>\n",
       "    .dataframe tbody tr th:only-of-type {\n",
       "        vertical-align: middle;\n",
       "    }\n",
       "\n",
       "    .dataframe tbody tr th {\n",
       "        vertical-align: top;\n",
       "    }\n",
       "\n",
       "    .dataframe thead th {\n",
       "        text-align: right;\n",
       "    }\n",
       "</style>\n",
       "<table border=\"1\" class=\"dataframe\">\n",
       "  <thead>\n",
       "    <tr style=\"text-align: right;\">\n",
       "      <th></th>\n",
       "      <th>Id</th>\n",
       "      <th>ProductId</th>\n",
       "      <th>UserId</th>\n",
       "      <th>ProfileName</th>\n",
       "      <th>HelpfulnessNumerator</th>\n",
       "      <th>HelpfulnessDenominator</th>\n",
       "      <th>Score</th>\n",
       "      <th>Time</th>\n",
       "      <th>Summary</th>\n",
       "      <th>Text</th>\n",
       "    </tr>\n",
       "  </thead>\n",
       "  <tbody>\n",
       "    <tr>\n",
       "      <th>64421</th>\n",
       "      <td>64422</td>\n",
       "      <td>B000MIDROQ</td>\n",
       "      <td>A161DK06JJMCYF</td>\n",
       "      <td>J. E. Stephens \"Jeanne\"</td>\n",
       "      <td>3</td>\n",
       "      <td>1</td>\n",
       "      <td>5</td>\n",
       "      <td>1224892800</td>\n",
       "      <td>Bought This for My Son at College</td>\n",
       "      <td>My son loves spaghetti so I didn't hesitate or...</td>\n",
       "    </tr>\n",
       "    <tr>\n",
       "      <th>44736</th>\n",
       "      <td>44737</td>\n",
       "      <td>B001EQ55RW</td>\n",
       "      <td>A2V0I904FH7ABY</td>\n",
       "      <td>Ram</td>\n",
       "      <td>3</td>\n",
       "      <td>2</td>\n",
       "      <td>4</td>\n",
       "      <td>1212883200</td>\n",
       "      <td>Pure cocoa taste with crunchy almonds inside</td>\n",
       "      <td>It was almost a 'love at first bite' - the per...</td>\n",
       "    </tr>\n",
       "  </tbody>\n",
       "</table>\n",
       "</div>"
      ],
      "text/plain": [
       "          Id   ProductId          UserId              ProfileName  \\\n",
       "64421  64422  B000MIDROQ  A161DK06JJMCYF  J. E. Stephens \"Jeanne\"   \n",
       "44736  44737  B001EQ55RW  A2V0I904FH7ABY                      Ram   \n",
       "\n",
       "       HelpfulnessNumerator  HelpfulnessDenominator  Score        Time  \\\n",
       "64421                     3                       1      5  1224892800   \n",
       "44736                     3                       2      4  1212883200   \n",
       "\n",
       "                                            Summary  \\\n",
       "64421             Bought This for My Son at College   \n",
       "44736  Pure cocoa taste with crunchy almonds inside   \n",
       "\n",
       "                                                    Text  \n",
       "64421  My son loves spaghetti so I didn't hesitate or...  \n",
       "44736  It was almost a 'love at first bite' - the per...  "
      ]
     },
     "execution_count": 12,
     "metadata": {},
     "output_type": "execute_result"
    }
   ],
   "source": [
    "final[final['HelpfulnessNumerator'] > final[\"HelpfulnessDenominator\"]]"
   ]
  },
  {
   "cell_type": "markdown",
   "id": "7a16334e",
   "metadata": {},
   "source": [
    "we'll be ignoring these above 2 rows"
   ]
  },
  {
   "cell_type": "code",
   "execution_count": 13,
   "id": "a12043f1",
   "metadata": {},
   "outputs": [
    {
     "data": {
      "text/html": [
       "<div>\n",
       "<style scoped>\n",
       "    .dataframe tbody tr th:only-of-type {\n",
       "        vertical-align: middle;\n",
       "    }\n",
       "\n",
       "    .dataframe tbody tr th {\n",
       "        vertical-align: top;\n",
       "    }\n",
       "\n",
       "    .dataframe thead th {\n",
       "        text-align: right;\n",
       "    }\n",
       "</style>\n",
       "<table border=\"1\" class=\"dataframe\">\n",
       "  <thead>\n",
       "    <tr style=\"text-align: right;\">\n",
       "      <th></th>\n",
       "      <th>Id</th>\n",
       "      <th>ProductId</th>\n",
       "      <th>UserId</th>\n",
       "      <th>ProfileName</th>\n",
       "      <th>HelpfulnessNumerator</th>\n",
       "      <th>HelpfulnessDenominator</th>\n",
       "      <th>Score</th>\n",
       "      <th>Time</th>\n",
       "      <th>Summary</th>\n",
       "      <th>Text</th>\n",
       "    </tr>\n",
       "  </thead>\n",
       "  <tbody>\n",
       "    <tr>\n",
       "      <th>150528</th>\n",
       "      <td>150529</td>\n",
       "      <td>0006641040</td>\n",
       "      <td>A25ACLV5KPB4W</td>\n",
       "      <td>Matt Hetling \"Matt\"</td>\n",
       "      <td>0</td>\n",
       "      <td>1</td>\n",
       "      <td>4</td>\n",
       "      <td>1108425600</td>\n",
       "      <td>Nice cadence, catchy rhymes</td>\n",
       "      <td>In June&lt;br /&gt;I saw a charming group&lt;br /&gt;of ro...</td>\n",
       "    </tr>\n",
       "    <tr>\n",
       "      <th>150506</th>\n",
       "      <td>150507</td>\n",
       "      <td>0006641040</td>\n",
       "      <td>A1S4A3IQ2MU7V4</td>\n",
       "      <td>sally sue \"sally sue\"</td>\n",
       "      <td>1</td>\n",
       "      <td>1</td>\n",
       "      <td>4</td>\n",
       "      <td>1191456000</td>\n",
       "      <td>chicken soup with rice months</td>\n",
       "      <td>This is a fun way for children to learn their ...</td>\n",
       "    </tr>\n",
       "    <tr>\n",
       "      <th>150505</th>\n",
       "      <td>150506</td>\n",
       "      <td>0006641040</td>\n",
       "      <td>A2IW4PEEKO2R0U</td>\n",
       "      <td>Tracy</td>\n",
       "      <td>1</td>\n",
       "      <td>1</td>\n",
       "      <td>4</td>\n",
       "      <td>1194739200</td>\n",
       "      <td>Love the book, miss the hard cover version</td>\n",
       "      <td>I grew up reading these Sendak books, and watc...</td>\n",
       "    </tr>\n",
       "    <tr>\n",
       "      <th>150504</th>\n",
       "      <td>150505</td>\n",
       "      <td>0006641040</td>\n",
       "      <td>A2PTSM496CF40Z</td>\n",
       "      <td>Jason A. Teeple \"Nobody made a greater mistak...</td>\n",
       "      <td>1</td>\n",
       "      <td>1</td>\n",
       "      <td>4</td>\n",
       "      <td>1210809600</td>\n",
       "      <td>A classic</td>\n",
       "      <td>Get the movie or sound track and sing along wi...</td>\n",
       "    </tr>\n",
       "    <tr>\n",
       "      <th>150503</th>\n",
       "      <td>150504</td>\n",
       "      <td>0006641040</td>\n",
       "      <td>AQEYF1AXARWJZ</td>\n",
       "      <td>Les Sinclair \"book maven\"</td>\n",
       "      <td>1</td>\n",
       "      <td>1</td>\n",
       "      <td>4</td>\n",
       "      <td>1212278400</td>\n",
       "      <td>Chicken Soup with Rice</td>\n",
       "      <td>A very entertaining rhyming story--cleaver and...</td>\n",
       "    </tr>\n",
       "    <tr>\n",
       "      <th>...</th>\n",
       "      <td>...</td>\n",
       "      <td>...</td>\n",
       "      <td>...</td>\n",
       "      <td>...</td>\n",
       "      <td>...</td>\n",
       "      <td>...</td>\n",
       "      <td>...</td>\n",
       "      <td>...</td>\n",
       "      <td>...</td>\n",
       "      <td>...</td>\n",
       "    </tr>\n",
       "    <tr>\n",
       "      <th>193171</th>\n",
       "      <td>193172</td>\n",
       "      <td>B009RSR8HO</td>\n",
       "      <td>A3JJTHP8T7A8LY</td>\n",
       "      <td>Joanne Eklund \"Joanne\"</td>\n",
       "      <td>0</td>\n",
       "      <td>0</td>\n",
       "      <td>5</td>\n",
       "      <td>1350432000</td>\n",
       "      <td>Zero</td>\n",
       "      <td>FTS Zero is the best sweetener I have ever tri...</td>\n",
       "    </tr>\n",
       "    <tr>\n",
       "      <th>188388</th>\n",
       "      <td>188389</td>\n",
       "      <td>B009SF0TN6</td>\n",
       "      <td>A1L0GWGRK4BYPT</td>\n",
       "      <td>Bety Robinson</td>\n",
       "      <td>0</td>\n",
       "      <td>0</td>\n",
       "      <td>5</td>\n",
       "      <td>1350518400</td>\n",
       "      <td>Amazing!! Great sauce for everything!</td>\n",
       "      <td>You have to try this sauce to believe it! It s...</td>\n",
       "    </tr>\n",
       "    <tr>\n",
       "      <th>221794</th>\n",
       "      <td>221795</td>\n",
       "      <td>B009SR4OQ2</td>\n",
       "      <td>A32A6X5KCP7ARG</td>\n",
       "      <td>sicamar</td>\n",
       "      <td>1</td>\n",
       "      <td>1</td>\n",
       "      <td>5</td>\n",
       "      <td>1350604800</td>\n",
       "      <td>Awesome Taste</td>\n",
       "      <td>I bought this Hazelnut Paste (Nocciola Spread)...</td>\n",
       "    </tr>\n",
       "    <tr>\n",
       "      <th>5702</th>\n",
       "      <td>5703</td>\n",
       "      <td>B009WSNWC4</td>\n",
       "      <td>AMP7K1O84DH1T</td>\n",
       "      <td>ESTY</td>\n",
       "      <td>0</td>\n",
       "      <td>0</td>\n",
       "      <td>5</td>\n",
       "      <td>1351209600</td>\n",
       "      <td>DELICIOUS</td>\n",
       "      <td>Purchased this product at a local store in NY ...</td>\n",
       "    </tr>\n",
       "    <tr>\n",
       "      <th>327600</th>\n",
       "      <td>327601</td>\n",
       "      <td>B009WVB40S</td>\n",
       "      <td>A3ME78KVX31T21</td>\n",
       "      <td>K'la</td>\n",
       "      <td>0</td>\n",
       "      <td>0</td>\n",
       "      <td>5</td>\n",
       "      <td>1351123200</td>\n",
       "      <td>Tasty!</td>\n",
       "      <td>I purchased this to send to my son who's away ...</td>\n",
       "    </tr>\n",
       "  </tbody>\n",
       "</table>\n",
       "<p>393931 rows × 10 columns</p>\n",
       "</div>"
      ],
      "text/plain": [
       "            Id   ProductId          UserId  \\\n",
       "150528  150529  0006641040   A25ACLV5KPB4W   \n",
       "150506  150507  0006641040  A1S4A3IQ2MU7V4   \n",
       "150505  150506  0006641040  A2IW4PEEKO2R0U   \n",
       "150504  150505  0006641040  A2PTSM496CF40Z   \n",
       "150503  150504  0006641040   AQEYF1AXARWJZ   \n",
       "...        ...         ...             ...   \n",
       "193171  193172  B009RSR8HO  A3JJTHP8T7A8LY   \n",
       "188388  188389  B009SF0TN6  A1L0GWGRK4BYPT   \n",
       "221794  221795  B009SR4OQ2  A32A6X5KCP7ARG   \n",
       "5702      5703  B009WSNWC4   AMP7K1O84DH1T   \n",
       "327600  327601  B009WVB40S  A3ME78KVX31T21   \n",
       "\n",
       "                                             ProfileName  \\\n",
       "150528                               Matt Hetling \"Matt\"   \n",
       "150506                             sally sue \"sally sue\"   \n",
       "150505                                             Tracy   \n",
       "150504  Jason A. Teeple \"Nobody made a greater mistak...   \n",
       "150503                         Les Sinclair \"book maven\"   \n",
       "...                                                  ...   \n",
       "193171                            Joanne Eklund \"Joanne\"   \n",
       "188388                                     Bety Robinson   \n",
       "221794                                           sicamar   \n",
       "5702                                                ESTY   \n",
       "327600                                              K'la   \n",
       "\n",
       "        HelpfulnessNumerator  HelpfulnessDenominator  Score        Time  \\\n",
       "150528                     0                       1      4  1108425600   \n",
       "150506                     1                       1      4  1191456000   \n",
       "150505                     1                       1      4  1194739200   \n",
       "150504                     1                       1      4  1210809600   \n",
       "150503                     1                       1      4  1212278400   \n",
       "...                      ...                     ...    ...         ...   \n",
       "193171                     0                       0      5  1350432000   \n",
       "188388                     0                       0      5  1350518400   \n",
       "221794                     1                       1      5  1350604800   \n",
       "5702                       0                       0      5  1351209600   \n",
       "327600                     0                       0      5  1351123200   \n",
       "\n",
       "                                           Summary  \\\n",
       "150528                 Nice cadence, catchy rhymes   \n",
       "150506               chicken soup with rice months   \n",
       "150505  Love the book, miss the hard cover version   \n",
       "150504                                   A classic   \n",
       "150503                      Chicken Soup with Rice   \n",
       "...                                            ...   \n",
       "193171                                        Zero   \n",
       "188388       Amazing!! Great sauce for everything!   \n",
       "221794                               Awesome Taste   \n",
       "5702                                     DELICIOUS   \n",
       "327600                                      Tasty!   \n",
       "\n",
       "                                                     Text  \n",
       "150528  In June<br />I saw a charming group<br />of ro...  \n",
       "150506  This is a fun way for children to learn their ...  \n",
       "150505  I grew up reading these Sendak books, and watc...  \n",
       "150504  Get the movie or sound track and sing along wi...  \n",
       "150503  A very entertaining rhyming story--cleaver and...  \n",
       "...                                                   ...  \n",
       "193171  FTS Zero is the best sweetener I have ever tri...  \n",
       "188388  You have to try this sauce to believe it! It s...  \n",
       "221794  I bought this Hazelnut Paste (Nocciola Spread)...  \n",
       "5702    Purchased this product at a local store in NY ...  \n",
       "327600  I purchased this to send to my son who's away ...  \n",
       "\n",
       "[393931 rows x 10 columns]"
      ]
     },
     "execution_count": 13,
     "metadata": {},
     "output_type": "execute_result"
    }
   ],
   "source": [
    "dup_ds = final[final['HelpfulnessNumerator']<=final['HelpfulnessDenominator']]\n",
    "dup_ds"
   ]
  },
  {
   "cell_type": "markdown",
   "id": "0a464e9d",
   "metadata": {},
   "source": [
    "### Data preprocessing"
   ]
  },
  {
   "cell_type": "markdown",
   "id": "a0507182",
   "metadata": {},
   "source": [
    "#### Assigning 1 and 0 to positive and negative reviews"
   ]
  },
  {
   "cell_type": "code",
   "execution_count": 14,
   "id": "a8106c11",
   "metadata": {},
   "outputs": [
    {
     "data": {
      "text/plain": [
       "(393931, 11)"
      ]
     },
     "execution_count": 14,
     "metadata": {},
     "output_type": "execute_result"
    }
   ],
   "source": [
    "def partition(x):\n",
    "    \n",
    "    if x>3:\n",
    "        return 1\n",
    "    return 0\n",
    "\n",
    "dup_ds['sentiment']=dup_ds['Score'].apply(partition)\n",
    "dup_ds.head(10)\n",
    "dup_ds.shape"
   ]
  },
  {
   "cell_type": "code",
   "execution_count": 15,
   "id": "e3125c31",
   "metadata": {},
   "outputs": [
    {
     "name": "stderr",
     "output_type": "stream",
     "text": [
      "IOPub data rate exceeded.\n",
      "The notebook server will temporarily stop sending output\n",
      "to the client in order to avoid crashing it.\n",
      "To change this limit, set the config variable\n",
      "`--NotebookApp.iopub_data_rate_limit`.\n",
      "\n",
      "Current values:\n",
      "NotebookApp.iopub_data_rate_limit=1000000.0 (bytes/sec)\n",
      "NotebookApp.rate_limit_window=3.0 (secs)\n",
      "\n"
     ]
    },
    {
     "name": "stdout",
     "output_type": "stream",
     "text": [
      "I recently bought a bag of these at Ghirardelli Square in San Francisco and they are DELICIOUS!  They are milk chocolate squares filled with a pumpkin flavored carmel.  This bag would be a great gift for someone whois hard to buy for.  They also pair quite nicely with after dinner coffee on a fall or winter evening!\n",
      "This Caponata is delicious and works on so many things.  My favorite way is so simple... just on saltine crackers.  Also, if you shred up some parmesean or similar cheese and sprinkle it on top.  We love to give it for hostess gifts, teacher gifts and just for fun! I wish this company made more products.\n",
      "Wanted to try this smoothie mix and am glad I did. It has great authentic banana taste and a fair amount of protein in a serving. Ihave had it plain-jane, added it to my regular vanilla whey protein powder with a few blueberries, and added some peanut butter powder to the banana powder and they are all good.\n",
      "Ihave been testing all the flavors I can find for our new Keurig machine, so the variety packs are a great thing in my view. This one was packed properly in a real box and had each of the listed flavors - no substitutions. I received 5 Chai Tea Latte, 5 Pumpkin Spice, 5 Apple Cider & 3 Hot Chocolate pods and all were in sealed condition and readily useable.\n",
      "Packaging was great, thank God, but the driver delivering threw (YES threw) the package out the window!  Mind you I live in a single family house with three stairs to the front door.  One can sustained a dent and the other three survived, thanks only to being well packaged.  PLEASE do not use this service again Kathryn S Voron.  You did not get my or your moneys worth!\n",
      "I would not recommend this snack. The flavor is there, but itis weak. I was expecting something bold like the flavor of chili cheese Fritos. Regarding the tecture, it reminds me of that foam at the bottom of flower pots.\n",
      "..I saw its'advertisement here<br />http://www.youtube.com/watch?v=K8k7CYaf00w<br />looked good and made me hungry too :) once got it, i ate all 10 packs in a few days.\n",
      "I ordered this assorted bartons turkish delight 6in1 it is delicious .I took it to my parents house for my sisteris birthday among her gifts which I also bought at amazon everyone at the party loved this Turkish delight so much they even wanted to buy it for them and I told them amazon go there they have everything,amazon thank you as allways bringing us International flavors without leaving our homes.\n",
      "Silky smooth and oatfully delicious, this chewy morsel makes for a wonderful breakfast or a hold-me-over snack that hits all the right notes of savory and sweet, utilizing the honey and oats to perfection.  I know there is a lot of hyperbole here, but itis deserved.  The bars a tad small, and so they may not be entirely filling for a meal, but the sharp sweetness that comes from this bar is probably too sharp for a larger bar.  As it is, this is the perfect bite (more like four) and for that Iam happy to munch away between lunch and dinner.\n",
      "Okay YES these granola bars are yummy and the perfect texture but.... Your getting RIPPED off!!! You can buy a box for under $2 at walmart!!! They have all flavors and they come in 10 packs!!!\n",
      "This candy is addictive. This is my first purchase of Simpkins candy and I bought the tropical fruit flavor. OMG.....if all of the other flavors taste as good as the tropical fruit, you have yourelf a lifelong buyer!\n",
      "Being diabetic, I cannot use sugar and seldom have a treat.  But my Birthday was coming up and I wanted a birthday cake.  The recipe called for strawberry stevia, which wasnot available at my local store.<br /><br />I found this on Amazon, and it tastes just like it should and works great in the straberry cake recipe.  The flavored stevias are wonderful in recipes and I highly reccommend them.  No bitter aftertaste, and a strong strawberry flavor.  Works great in smoothies, too.\n",
      "I tried this on a recommendation of a friend from work.  Well, I can honestly say that I am so happy I took her advice.  While I guess I knew people could have parasites I just never thought about the fact that I might have them.<br /><br />Well after taking this for two cleansing periods (each ten days) I can tell you that I have much more energy than before and I just plain feel better.  In the past I would frequently have stomach pain and sometimes diarrhea.  In my mind I always thought this was because of my diet or stress levels at work.  Right after I finished the first bottle I realized that this was not happening near as often as before.<br /><br />I would also get a small cold sore in the corner of my mouth at times.  It happened so frequently that I would keep a tube of Abreva at work and at home.  The cold sore has not come back since I finished the first bottle.  People have also commented that my skin looks healthier.  One of the younger women in my office even asked me if I had changed my face cream or been to the spa for a facial.  That really blew me away.  I would never have thought that a parasite could cause a cold sore or make you skin look more aged, but I guess it can.<br /><br />When I was taking the pills I did have times when I would have bad smelling gas and a somewhat uncomfortable feeling before having a bowel movement, but neither problem was very bad.  A couple of times I felt nauseous too.  Maybe this was when the parasites, worms or whatever dying in my system?  But none of the problems were very bad and definitely not bad enough to make me sorry I took the cleanse.  I am really impressed and happy my friend recommended this to me.\n",
      "Although I did not \"see\" any results I can tell you that I felt much better while taking it and after I finished the cleanse.  I also have noticed that I have more energy. I had got to where I felt bloated and had gas much of the the time and this really did the trick. Unlike some other things I have tried I did not have any side effects or bad reactions. I am going to order another bottle and repeat the cleanse in a couple of weeks.\n",
      "I have been having stomach problems for the last six months.  Not the kind of problems that would send you the doctor just alot of feeling bloated and uncomfortable.  After taking this for just the first five days I felt like a fog had lifted from around my body.  I feel more alert, the bloated feeling is gone, and my energy level is noticeably increased.  Towards the end of the ten days I did appear to pass something that looked like worms.  I know its gross to talk about looking at that, but it is even more gross thinking about worms living and feeding inside your body.  I have since learned that even though the worms seemed to pass when I went to the bathroom, there may still be eggs in my digestive system waiting to hatch.  Like others I plan on doing this again just to make sure.\n",
      "This was my first time trying a cleanse.  At the insistence of a friend I decided to give it a go.  I can honestly say this really worked for me.  I had gotten to where I felt run down and tired more often than I should have.  Well after my first cleanse I feel like I have been reenergized.  Not only do I have much more physical engery I am also more alert.  I guess when you think about it it really makes sense.  Over time our bodies must get exposed to more parasites than we can imagine.  I really feel like this has given them a knock out punch.  It also helped that there was a list of which foods to eat and which to avoid while doing the cleanse.\n",
      "I used to live in Winchester, KY as a kid...  I was actually born and raised there, but moved to Montana in my early 20is...  I moved back to Lexington, KY a while ago and can enjoy this anytime now...  Iam very fortunate in that aspect, but out west it was so hard to be w/o...  Canot say enough about how good this product is...  Very good for mixing w/ some good old Shine or Bourbon...  Itis a ginger ale, but nothing like your typical variety...<br /><br />give it a try and see for yourself!!!\n",
      "Ale 8 is the best thing about Kentucky! It far exceeds any other Ginger Ale product on the market - both because of the delicious taste and because unlike most other Ginger Ale drinks it includes caffeine for that extra shot of energy.\n",
      "so far the best gourmet coffee form Guatemala , and the prices is so cheaper if you compare whit other brands , fast delivery\n",
      "Had the Anniversary Blend coffee at starbucks and loved it.Bought  it in k-cups and regular coffee.  Iam sorry to say it was no where as good as the brewed coffee at Starbuckis.  Maybe their brewing process enchances the flavor.\n",
      "i love theses am glad i found them. they do smell like cake and taste like it to but they are good. and worth getting.\n",
      "Before these were sold out in our local Target, wehave managed to buy two packs of these cookies and they were quickly consumed due to their deliciousness!<br /><br />The cookie part is your standard Vanilla Oreo, of which if youhave had them before, they have of course a warm pleasant vanilla taste. The cream, contrary to other reviews Ihave read, is actually pretty good with itis vibrant half orange, half yellow coloring. The taste is near spot on and sweetly delicious with candy corn flavor. This is verified by me actually eating Candy Corn some time before eating a few of these cookies and then eating some candy corn roughly a bit later (Yes, Candy Corn is the favorite of my family!). The taste of the cream was unmistakeable Candy Corn as advertised! It was surprising to me at first as I just expected them to be a Candy Corn colored variant of the standard Vanilla Oreos. A wonderful surprise indeed!<br /><br />If you have a serious sweet tooth, these cookies are irresistible and you might find yourself constantly munching one. Plant one of these packages amongst a family and these will be gone quick (trust me, I know...).<br /><br />I will say that sugar tolerance varies from person to person, so if you couldnot already tell from all of the bright colors on the packaging, these may be a bit too sugary for some tongues, but for most others, these are definitely a treat to enjoy.... that is if you can get some before they sell out in your local Target or elsewhere!<br /><br />Bravo Nabisco, this was a wonderfully fun idea to put into cookie form. Iam almost sad that they are limited edition though...\n",
      "Regular oreos are about $3.00 for 15 oz.  These are $16.00 for 10 1/2 oz. How ridiculous to try to take advantage of people like this. I can buy a package of regular Oreo cookies and pounds of candy corn and eat them together and be just fine. I will be sure to never do business with this ripoff operation.\n",
      "Stop..think about it..move on...if you were to buy these. divide your hourly wage by the total of the product price, and ponder the answer of how much time you have to work to buy this product....If its one hour of your day, is it really worth it????\n",
      "I was informed by multiple Target employees (I visited 6-7 Target stores in search of these cookies) that they were unable to keep these Limited Edition Oreos in stock because they were bought in bulk by people selling them on Amazon at a huge markup (a 400% markup, to be precise).<br /><br />I realize price gouging is only illegal when it involves natural disasters and life essentials -- neither of which is the case here -- but it is always an unfair practice that makes it impossible for the average shopper to find Limited Edition and/or \"soon-to-be-discontinued\" items on the shelf, forcing us to pay ridiculous prices online (if weare inclined to be moved to such extremes).<br /><br />It seems this practice is particularly popular with the hottest toys during Christmas time (if the Amazon forums are any indication). The only way to put a stop to this practice? Speak with your dollars; donot give into the temptation; and spend your money on something else.<br /><br />Itis for that reason that I have no idea how these Candy Corn Oreos taste. As much as Iwould like to try them, no Oreo is worth $15 a box.\n",
      "If you close your eyes and try really hard, you *might* be able to pick up a feint hint of candy corn flavor in these Oreos. Otherwise, they just taste like overly sweet frosting and cheap cookies. (And letis face it, thatis what Oreos basically are.) Despite all the Internet hype, these were a huge let-down. I hope the good people at Nabisco decide not to give these a repeat appearance next fall.<br /><br />It should go without saying, but donot pay the absurd prices resellers are charging for this these. Heck, donot even waste your money if you see at them at Target (the exclusive distributor of this product)... itis just not worth it.\n",
      "$15 for ONE pack of Oreos?! You should be ashamed of yourself for taking advantage of people. Do not give your money to these money hungry people!!\n",
      "These Oreos are terrible. I was excited to try them as I love candy corn. Unfortunately the filling in these cookies tastes more like stale cotton candy and the smell is intolerable!<br />I was terribly disappointed.<br /><br />Nabisco, I say to you \"BLEH.\"\n",
      "Itis my fault for not looking into the quantity but I didnot expect for the price, I would only receive one box of oreos! The seller should be ashamed of his or herself for charging such a ridiculous price!  I have been a prime member for years and have never felt so ripped off. The candy corn oreos smell like candy corn but had absolutely no flavor like candy corn.\n",
      "There was a huge internet blow up over these candy corn Oreos. I love candy corn so I had to try them. I have only two Targets in my area and both were sold out. Luckily, Amazon has them available.<br /><br />They have a slight taste of candy corn but not overwhelming. On the sweet side. Interesting. I really like the vanilla cookie taste, so I enjoyed them. My husband thought they were a bit too sweet for his tastes. More for me!\n",
      "I was so excited to finally have hunted these oreos down and try them. Sadly, they werenot what I was expecting. If you have had the birthday cake oreos, donot buy these. They have the exact same smell and the only difference is its on the vanilla cookie. The icing tasted like birthday cake and no taste of candy corn at all. They look cooler than they taste. Save your money or just get a bag of actual candy corn, youwould be happier with that.\n",
      "15$  for oreos seriously this is way to much they should maybe charge 5$ but not no 15$ that is way to much :/ hope they lower the price\n",
      "i want to try these  (but not for $15) lower the price and maybe iwill buy and try them out for me myself and others\n",
      "This is one of my childhood favorites. Best if found fresh, but this is the next best things and goes perfect with walnuts.\n",
      "In eating low-carb, one of the real challenges is texture. Meatballs without any breadcrumbs, crabcakes without any breadcrumbs...theyare just too dense. LC Foods to the rescue! I had some leftover cooked salmon that was crying out to be made into fishcakes; I flaked it up, mixed it with an egg, some sauteed onion, and some of these breadcrumbs, and it was just SO good! Making the breadcrumbs is rather a pain: You have to make up the mix, bake it as a loaf, cut the loaf into slices, bake those, and then whiz them up in a processor. But to be honest, it took very little time, and the only real trick was to stop eating the baked slices -- which I was tasting, you know, for quality control -- before they got turned into crumbs. They are delish. All in all, this is a terrific product, and NO ONE will know itis low-carb.\n",
      "I do not eat sugar, and this is an excellent alternative to fudge with sugar. The only downside is when I ate a lot of it, I got really gassy.\n",
      "I am  a huge fan of this hot cereal, and I buy it by the bucketload. A serving of the cereal, with a pat of butter, some sweetener, a pinch of salt (my secret ingredient), a few berries, and some nuts, makes for a delicious breakfast that doesnot spike my blood sugar, and is terrifically filling. Itis not beautiful -- the chia seeds in the mix make for a....uh, call it an unlovely consistency -- so I wouldnot be feeding it to guests, but the taste is great, and I am big-time picky.\n",
      "THIS TASTE IS BETWEEN SOMETHING LIKE FLAX BREAD AND CORNBREAD..... EXCELLENT TOASTED WITH BUTTER AND JELLY...DID NOT RAISE MY BLOOD SUGAR AT ALL.... I LOVE IT.\n",
      "I just had a wonderful dinner: Fresh fluke fried in a tempura batter. The batter fried up perfectly lacy and crisp, both delicious and beautiful. AND low-carb; I floured my fish with the LC Foods Pan Bread Flour, and then used the same flour to make a batter with some low-carb beer, salt, and a little smoked paprika. An absolute knockout. You really will not believe itis low carb, but Iam about to test my blood sugar levels, and will report back in 90 minutes.\n",
      "If you love pasta the way I love pasta - you will hate this product.<br />i bought it because it was made by LC Foods who I have heard has a good reputation but this stuff i had to put in the garbage disposal...all i could taste was the flax meal.... i like flax meal but not when i am expecting the taste of pasta.\n",
      "We had the opportunity to sample Adam Tea. May favorite is Black Tea.  My wife loves the Peach Tea.  We both enjoy either both hot and cold.  My wife could be a tea aficionado as she is very particular about flavor.  We both enjoy a robust, flavorful, fresh tasting tea.  Adam Tea fills that desire for a wonderful bold clean flavor.  The Black Tea has a unique flavor almost like coffee except lighter and healthier or better for you.\n",
      "Considering I would have to drive to Costco to get almost the same item, it was great ordering it without shipping charges.  This will be my new way of feeding my cat.\n",
      "My cat loves this food.  She especially likes the whitefish.  I love that with subscribe and save it is about the same price as Walmart and I do not have to remember to buy it when it gets low, or haul cans of cat food around.\n",
      "Canot comment on the taste but cats love it. I can get it considerably cheaper from Amazon with subscription than I can at either Sams or Costco.\n",
      "I was feeding our cat 2 cans a day of Fancy Feast for six months. No snacks or treats or other food. Sheis very active and gained 1 and 1/2 pounds in that time. After speaking with our vet who was concerned about the weight gain she referred to Fancy Feast as the McDonalds of cat food. Junk food essentially. High in calories and fat. Sure your cat loves it.. but would you feed you kids McDonalds every day just because they like it? Find something better. Wellness, EVO, Avoderm, Purina Pro or Royal Canin are all better for your pet.\n",
      "this is the best cat food ever the cats love it a bit pricy but at least the furry<br />friends love it and there s nothing left in the dish<br />LC\n",
      "I started ordering these cases a few months ago and had to cancel after my cats threw up on two different occasions after eating this food... One of my cats NEVER EVER throws up and threw up from this-- and the only two cats who threw up were the ones who ate this! So Iam 99% sure it was from the food. Since it happened again a couple of weeks later, I decided I better stop ordering this food. Sure enough, no throwing up anymore.\n",
      "My Fancy Feast cat has always loved the classic best!  He can be anywhere and all I have to do is yell \"FANCY FEAST\" ...he is at his bowl in a flash.  Perhaps he knows his pic is on the can :)  Anyway I tell him it is...the resemblance is close.  Ihave tried the grill and the shredded stuff.  It is apparently not as yummy because my \"Feather\" (white fur-ball of a cat) picks at those versions.  Feather is going on 14 yrs of age so it must be healthy.\n",
      "My cats love this stuff.  They give it 5 stars.<br />The best thing about it, however, is buying it<br />using Amazonis subscription.  We get a box a month<br />at less then Costco prices and free shipping.\n",
      "No particular thanks to Amazon, my cat enjoys the Fancy Feast varieties after having been sick and not eating anything for three weeks.\n",
      "My one disclaimer is that my cat is not a picky eater with regards to cat food. He does, however, refuse to eat human food with the exception of anything milk-based. With that said, I have fed him all kinds of brands, and I feed him a mix of wet and dry food on a daily basis. Dry food is left out to keep him from starving (he does control his own intake instead of gorging), and a 1/2 can of this product is given a day as a treat, which he loves.<br /><br />The brand recommends you feed 1 can for every 3 pounds of weight (if I remember correctly) which seems ridiculous, but not an issue for me, as they are just used as treats for my cat.<br /><br />My only beef with this (and I guess all cat foods) is that it smells terrible. However, again, my cat seems to like it, so what can I say?\n",
      "When I first adopted my indoor cat, he was ill and refused to eat for several days. After using prescription food for initial weight-gain, I started feeding my cat FF on the vetis recommendation. He said it was one of the strongest smelling wet foods available and would probably lure my cat into eating more. It worked! I have been using this brand for the last 5 years as a treat. My cat enjoys 1/2 a can a few times a week along with Iams dry food as a reguar diet. We have not had any weight or health issues since.\n",
      "We have two very critical and expressive adult female cats -- if they donot like the food, they go through the motions of burying the food as though they are covering up their messes in the litter box.  They may walk away from the food, but return to eat it all up -- they are the true reviewers of this product.  While they cannot write or subscribe to Amazonis cat food subscription, they send us very clear messages about what they like and donot like.\n",
      "I bought the fancy feast from you because I like the idea I didnot have to pay shipping.  That was a lie though you guys charged me shipping.  Plus the price is the same in the local grocery store.  The toy Hagen Catit Design Senses Play Circuit was ok but centainly not as great as the company stated it was. Iam very disapointed with this purchase of both items and I donot believe Iwill be buying anymore for Amazon.\n",
      "I was having trouble with my cat not eating so I took her to the vet.  They suggested that I experiment with different kinds of food that she was more willing to eat.<br /><br />I learned that cats can just change there prefernce over time but she enjoys this and is starting to bulk up.<br /><br />A fat cat is a happy cat!\n",
      "I have an old kitty who will not eat anything but Fancy Feast.  Sara, my kitty, is 17 and developed the OLD CAT SYNDROM of not wanting to eat ANYTHING.  I tried every \"stinky\" (More aroma than the organic cat food) cat food there is, and something was wrong with all of them.  The texture wasnot right, too chunky, she didnot like the taste, just old persnickity cat tricks trying to make me beg her to eat.  Than I discovered Fancy Feast, at $1.00 per 3 OZ CAN!!!  She LOVED it.  It was a pate', the texture was great and she could actually smell it.  I try to get 2 cans a day in the cat, at pet food store prices, thatis $60.00 a month.  We have 3 other cats and a big dog, so that option would'n fly.  So I turned to Amazon.com, and behold, there I found Sarais Fancy Feast for less than 50 cents a can with the SUBSCRIBE and SAVE program.  Weare all happy now.  The coolest thing that I noticed about how Fancy Feast affected my Sara, is that her coat is lustrous again.  Sarais coat was getting kinda dull and her grey fur had turned brown and coarse, I just thought that this was due to ageing.  She is now mostly grey, and her fur is soft again. Coincidence?  Maybe, but I like her looking good and being excited about eating again.  Not bad for an old kitty.\n",
      "WHAT A GREAT PRODUCT FOR MY MOM'S CATS, THEY LOVE IT, BEST THING IS THE DIFFERENT FLAVORS, THE AMOUNT U GET, AND THE PRICE. I WOULD RECOMMEND IT 2 ALL.ALSO ORDERING ON LINE WAS THE BEST EXPERIENCE FOR ME, DIDN'T HAVE 2 LEAVE THE HOUSE, GREAT PRICE, AND QUICK DELIVERY.(I WILL BE BACK) THANKS!!1\n",
      "I order this on Subscribe and Save for my momis kitty. It is delivered to her door for a great price and saves her time and effort.\n",
      "Fancy Feast Gourmet Seafood variety pack<br />My kitties love FF Classics since they came on the market. A few times I tried another style, like flaked or grilled - no change theywould eat them. Also the medley kind are not appreciated.<br />But donot think that theyare finicky... Anyway, all my cats grew up on FF Classics and lead a healthy and happy life.<br /><br />Very good price with the 15% discount for Subscribe and Save.<br /><br />Edited 08/17/2011<br />In addition to TaiPanis reviews: One might be interested that in the latest Consumer Report the price of the FF was enclosed. They didnot mention that you can save some bucks by ordering on-line. At Amazon.com Subscribe and Save you pay now $ 0.549 per can. The cheapest mentioned in the August report was $ 0.54 at Walmart. But as pointed out before, there is the sales tax to be added, plus driving to Walmart (mine is 15 miles away from home and not my usual shop), you have to carry the pack to the car and up to the relative floor - who thinks it isnot easier to shop at Amazon ? And hello, YES, my UPS guy smiles...<br />And of course I disagree that not paying sales-tax is illegal! Where does that come from ???\n",
      "SUBSCRIBE & SAVE-- GETTING A CASE A MONTH.  THE ABILITY TO ORDER THE FANCY FEAST LINE IN BULK IS A REAL CONVENIENCE.\n",
      "If you are going to serve your feline wet cat food, I think this is the Catis paws.<br />My male shorthair absolutely loves Fancy Feast Seafood.<br /><br />The seller was so prompt that the \"complete purchase\" button had hardly been clicked on my pc when<br />the order arrived at the door.<br /><br />Thank you.  Iwill definitely order from this seller again.\n",
      "There are 3 flavors - both my cats loved one flavor (whitefish), one would eat all flavors (though not happy about the salmon), and one cat rejected 2 out of 3.  The can size is perfect for picky cats - less waste.\n",
      "Misty is about 1 1/2 years old and came from a large family.  As usual with cats, Misty is very picky.  Since I started her on Fancy Feast Gourmet she would rather go hungry than eat anything else. And sometimes she will not eat her dry food!!!  There was one time when she went a day and a half without eating ANYTHING!!!!  I had put another popular food in her bowl but it just sat there while she meowed at me.  Dumb me!!!  She is my angel as well as my pet.  She woke me up one time when I stopped breathing - she literally crawled all over me.  She isnot beautiful except to me - she has gray fur all over except for one hand-sized white round spot on her tummy. It is worth it to me to give her the best.\n",
      "You get a better deal for these if you order a subscription on Amazon.<br /><br />I have three seven month old kittens who devour Fancy Feast almost instantaneously, the moment I serve them a can.\n",
      "My 2 cats are pretty picky, but they gobbled this stuff up. Both of them have sensitive stomachs, & I havenot seen this up on my couch or carpet yet, haha. Itis very easy to mash up or cut up and itis not too stinky. My cats really enjoy the taste as well! Amazon has a great price too. I believe my local Costco has it for a little bit cheaper, but other than that, this is a great canned cat food for a great price on Amazon. Oh, I didnot give it a full 5-star even though I wanted to because I did notice that there is \"so & so BY-PRODUCT\" in the ingredients. Iam not 100% comfortable giving food like that to my pets so I sadly had to dock of a star.<br /><br />A couple of interesting tips Iwoulde like to give out about cat food is:<br /><br />- Cats are carnivores. They need actual meat. Canned cat food comes closet to that. Itis been proven that feeding cats wet food will improve their overall health & personality by a great deal. I have to admit that there has been less vomiting, healthy poops, & much more fun & interactive play time with each other & myself. I give half a cup of dry food with half a can of canned food to each cat everyday. [:<br /><br />- A lot of people have misinterpreted that cats need to graze on food all day. This in fact isnot true at all. Cats are more closely related to their wild cousins; wild cats like lions, cheetahs, cougars, etc, donot eat everyday either because of an unlucky catch or other natural related things. The same theory applies to our domestic feline friends. Feeding cats once a day is plenty for them. Plus it keeps them in shape so they donot over eat!<br /><br />(I read this in an old National Geographic. Iam also a graduate biological anthropologist).\n",
      "First thing first, I have noticed this is the only package/favor from Fancy Feast doesnot contain wheat gluten, while other favors have it list as #3 or 4 product on the list. I am not sure whether this is the reason why they only list out whatis in the can for this favor but not the others. In case you are wondering whatis in other favors, you can go on Fancy Feast website and you will find it on there.<br /><br />I was feeding my car with Natural Balance, she was loving it at the beginning but got tired of the tast pretty fast. Four months into it, she stop eating them, and threw water on it (I am not sure whether she think it was too dry, or just hate it). Now, I feeding her with half a can of Fancy Feast and half natural balance dry food, and  so far she is loving it.\n",
      "I have one cat who can only eat soft food because of teeth problems and this is the only food she consistently eats.  Price is very competitive when you can get it for under .50/can.\n",
      "I love the convenience of subscribing to things through Amazon.com and was very happy to find this online.<br /><br />My cat goes crazy for this stuff!\n",
      "Just found out that my wifeis cat has diabetes.<br />Vet prescribed insulin and modified diet.<br />The FF \"Classic\" varieties - at least every 'classic' Ihave checked so far, are the closest to a RX diet I can find.<br />More proteins and far less carbs than most animal feed.<br />Similar fat content to other canned foods.<br />Vet has yet to weigh in on this, but she was interested when I gave her a comparison breakdown of RX food vs FF Classic and a couple of other mass-market brands.<br /><br />I wish there was more info available online.<br />Nutrition info, for starters.. I can get that from Mfr,  but I know that formulations change - sometimes 2-3 times in a year.<br />Todayis formula may not be what I am grabbing from the shelf, or what is shipped to me.<br />Also, the amount of food -  FYI, these are smaller, 3oz cans  and the recommendation is 3 cans per 10lbs of cat each day.<br />  (Iam more of a dog or other larger animal person.. so 3oz cans are tiny to me.)<br />Looking at it another way, if you have a ~12lb cat, or lighter but active (or pregnant, or &lt; 2 years old), then this 24 pack is one week or less of food.  Buy more, or consider adding treats, dry, or other foods.<br /><br />Debates on price - well, I can get this \"on sale\" considerably cheaper ( 20% less) than Amazon with frequent local sales, coupons, coupon doubling, etc.<br />Amazon price is comparable to everyday price where I normally food shop, and I shop every week, on the way home from work.<br />I only pay about 3.5% sales tax, so tax & gas arenot a big issue for me.<br />I am a member of Amazon Prime, that makes free 2-day shipping & no tax pretty convenient.<br /><br />Good product, price is good enough,  and Prime makes it convenient.  It fits my current needs with a diabetic cat.<br />Food is gross to me, and I eat nearly any human food, even wouldelicacies'.  (Think of this stuff as\"pink slime\" with color & scent)<br />  If I were rating on appeal we wouldnot have gotten this far.<br />The cat seems to like it.  2nd cat with several teeth missing also likes it - very water-soluble, nearly dissolving without stirring.<br />More info would be the 5th star.<br /><br />.. debates about pricing belong in another forum, or maybe over coffee in your local *mart.\n",
      "Being as this is the type of cat food that my cats like, I started looking for the cheapest place to purchase it.  The price at Amazon is cheaper then at the big box store that I normally buy groceries at.  Plus it is delivered free to my door and on a regular schedule so I never run out and have to make an emergency trip to the grocery store.\n",
      "This is a direct response to the misleading, non-sensical review that starts with the headline: \"No Bargain\":<br /><br />First off, the \"No Bargain\" review is EXTREMELY MISLEADING.<br /><br />Hereis the two things the reviewer got right: 1) If you DO have the Fancy Feast cases delivered regularly via Amazonis \"Subscribe & Save\"-- you pay $14.02 a case. 2) If you buy 24 cans at Petsmart (at 53 cents per can) you pay $12.72 for a case.<br /><br />BUT HERE'S WHERE THEIR THEORY IMPLODES:<br /><br />If you buy your case at Petsmart (in CA-- specifically in Los Angeles where I live)-- YOU HAVE TO PAY SALES TAX... Adding as much as $1.24 to the total cost of a case.<br /><br />Now the Petsmart case costs $13.96. Since wehave agreed that the Amazon case purchased via Amazonis \"Subscribe & Save\" costs $14.02... That means there is only a SIX CENT DIFFERENCE PER CASE between Amazonis price and California Petsmart and Walmart prices.<br /><br />Plus, you also have to PAY FOR GAS if you go to Petsmart or Walmart. Plus, the extra travel time to and fro. Plus, you have to drag all that cat food to your car from the store and then drag it from your car to your house.<br /><br />MY Amazon Fancy Feast is DELIVERED TO MY FRONT DOOR BY A UPS DELIVERY PERSON.<br /><br />Iwill gladly pay a EXTRA SIX CENTS for DELIVERY TO MY DOOR.<br /><br />If folks follow your thinking-- theywill spend A LOT MORE MONEY for their cat food!<br /><br />Think it through! Fancy Feast is a PERFECTLY FINE DEAL HERE!\n",
      "Personally, I wish it smelled less fishy, but then Iam not eating it.  My 17 year old formerly outdoor cat thinks itis manna from heaven and thatis what counts :)\n",
      "My cat is very picky with her food. We used to feed her dry food with an occasional treat of wet food but now we are changing it to dry food in the morning and a can of wet food in the evening. Fancy feast classic is in pate form which my cat prefers. We usually get these in fish or seafood flavor, as she gets her chicken from the dry food. We have tried other brands and textures with my cat, and this is the one that she likes best. The pate is easier to eat for her. She hates the ones which have chunky pieces and will refuse to eat them. The smell of the food is strong too which cats like. This strong smell came in handy for us when we were trying to pill the cat. We crushed the pill(we checked to see that it was safe to do so) and mixed it with ff and she gobbled it up without any hassle. FF is my catis fav food!!!\n",
      "We have a 11 year old indoor cat who looks forward to her Fancy Feast every afternoon.  She eats dry food, but we give her half a can of Fancy Feast to add some extra calories to her diet.<br /><br />Wehave tried several other brands of canned cat food, only to have her turn her nose up at them.  For some reason she really likes the Fancy Feast.<br /><br />From my standpoint, all canned cat food is stinky stuff, but Iam writing the review for our cat who thinks it smells great.  She likes the Ocean Whitefish and Tuna variety the best, with the salmon and shrimp varieties both coming in second.<br /><br />I like getting this product on Amazon because I get a 15% discount for signing up for automatic delivery.  Plus the shipping is free.\n",
      "yes they are more expensive, but my cats love them. They donot always like all the  flavors, but I think it is the best quality can cat food out there. BTW, I give them mostly dry, natural cat food, which cuts down the overall cost\n",
      "The box arrives, perfectly intact. Delicious morsels of mystery meat tightly packed in lovely recyclable cans. With the familiar sound of the pop of the can, followed by the tearing of metal, my four-legged felines come running into the kitchen. The concert begins as their little voices sing for attention and soprano voices harmonize for their first meal of the day. Their eyes light up as I turn around with a bowl in each hand, they soon commence with the ritual to stand up on their hind legs. For this effort, they are presented with just the right sized portion of a tasty treat. The singing has stopped and is replaced by carnivorous groans, tongue smacking and at times an odd purr of happiness. I guess they like it!\n",
      "My 16 year old cat had been on dry food since I adopted her from the shelter 13 years ago. A couple of years or so ago she became very finicky and refused her regular brand. I then switched her to an 'all natuaral' version by the same maker. She did fine on that for awhile then out of the blue shewould have nothing more to do with it. I decided to give wet food a go. As sheis becoming more&more picky in her golden years that was a hit&miss ordeal. Seems as fast as Iwould  stock up on her favorite variety of a brand shewould decide she didnot want it anymore.  Every other day Iwould have to trek out to the store(in the harsh Michigan winter no less)to find something to feed her. I finally decided to pick up a few cans of Fancy Feast at CVS. I had steered clear of FF because of the  high price of those tiny cans. Since I was desperate to get food into kitty I caved. I bought every different variety my local CVS had on the shelf. She didnot want the flaked variety. She wouldnot touch the shredded meals. She loved the food in the gravy,actually she only loved the gravy. Finally I opened up a can of the Salmon and prayed for the best. To my relief she inhaled every bit of it and meowed for more. I moved on to the Cod,Shrimp,&Salmon and got the same positive response. She flipped over the Ocean Whitefish flavor.<br />Hallelulah! Iwould hit paydirt!!<br />I donot have a car at present and the trips to the store in a quest to find these 3 flavors of Fancy Feast got tiresome. I decided to use Amazonis Subscribe&Save option. What a life saver that is. I placed the order and received kittyis food in a couple a days. The next month I got an email saying the order was shipping and it arrived a few days later. The service is convienent and the price I pay through Amazon is a few dollars less than I was paying per case at the store,not to mention I didnot have to trek off to the store and haul the food home. It came right to my door without fail.<br />The one problem I ran into is my dear feline friend decided she no longer cares for the Ocean Whitefish or Cod/Shrimp/Salmon flavor. The stray cats outside cannot thank her enough for her pickiness lol.<br /> She still loves the Salmon flavor and the Salmon&Shrimp feast. Sadly Amazon doesnot offer the latter on the Subscibe&Save plan so I had to cancel my order here and order through Petco. Petco costs a little more but as we cat owners know we have to do what the 'boss' tells us to do ;)\n",
      "Okay, I have three cats, and like most cat owners I know, they have a dry food diet, and are given the canned stuff as a treat.  This really seems to by all my cats' favorite brand.  They used to come running when the can popped, but now they come running when I just merely open the cabinet I keep these in!  And at less than seven bucks, a DEFINITE great buy.  I love Amazonis clearance, thank you Amazon!\n",
      "My cat told me: \"Donot buy this type of food anymore, otherwise youare going to have to eat yourself\"<br />Ahhh, I know what you are thinking, she is bossy, right!<br />well, she is indeed bossy and picky.<br /><br />However, my neighboris cat seems to like the \"savory salmon feast\" flavor...\n",
      "My cat loves it. My neighbouris cat loves it. Just be aware that feeding fish product exclusively is unhealthy for your cat. I think aside from this pack, you should also get the chicken,etc. pack for a balanced diet.\n",
      "I can never figure out why cat food manufacturers add meat by-products and oddball items to fish catfood. Fortunately, this group has its listing of additives and byproducts down the line from the real food, and .... as mentioned before .... they like it. It is hard to get four little individual personalities to agree on anything, but they will eat this. I add it to the Natural Value base as seasoning and they go for it. So far so good.\n",
      "This is the equivalent of donuts for cats.  Ihave never met a cat who doesnot like it, but if you look at the ingredients, it is so bad for them.  The carbohydrate level is way above the need of any cats.  Cats donot digest carbohydrates, so technically do not need any in their diet.  And if you look at the \"meat\" in the food, itis all fillers and by-products.  But the folks at Fancy Feast sure know how to make delicious cat food.  When my cat had her cancer and wasnot eating anything, even she would lick the gravy of Fancy Feast.  So if you can afford it, please only use this as a once-in-awhile junk food.  I mean, you wouldnot eat a dozen of donut every day  would you?  I would only use this food to add in small amounts to healthy, but not as palatable, food so my cats will eat it.\n",
      "Every time we pop open a can, our cat is within inches of the can in an instant. Our cat loves this stuff!<br /><br />We usually buy a pack at a local Luckyis or Walmart. But, the Amazon price here is very good, so we may buy a pack here the next time we need one.<br /><br />Treat your cats to some fancy feast. Now, if only human food was this good.\n",
      "I have 3 rescue cats who love all 3 flavors of this food. Sometimes they seem to prefer one over the other but between the 3 cats and 3 flavors everything works out. I tried them on the other flavors like turkey and beef but they would usually leave it. I mix a little dry food with these flavors to stretch it out. I also keep plenty of water available because they drink a lot after eating. It must be salty and even though I rated this 4 stars (I like it), the rating is from the cats. I havenot tasted it personally. I was buying this at the grocery store, but since the price in the stores has recently gone up, Iam saving over $12.00/ month on this food using Amazonis subscription service...enough to pay for the 18lb bag of dry food which lasts 2 - 3 months.<br /><a href=\"http://www.amazon.com/gp/product/B0010B3FIC\">Fancy Feast Gourmet Cat Food, 3-Flavor Seafood Variety Pack, 3-Ounce Cans (Pack of 24)</a>\n",
      "Fancy feast is a good wet food for cats.  Iam not sure why everyone likes to pretend itis some kind of candy for cats- the ingredient list is far superior to any dry food you can feed them, including your extra carby \"holistic\" options.  My cats like all three flavors in this package, but I worry about feeding it to them too often with the rising mercury levels in fish.  I end up getting one seafood variety pack for every three cases of the other \"Classic\" varieties of Fancy Feast.<br /><br />I actually can find this pack for 10.87 locally at my grocery store so I buy it there, but comparing it to pet stores, this is great deal when using the subscribe and save option.<br /><br />I used to pay a bit more for Call of The Wild dry food, a wonderful high protein option for those of us concerned with convenience, but I finally decided my furbabies liquid intake was a bit more important than my desire to free feed.\n",
      "Finally, cat food that my cats are willing to consume without the side effects of diarrhea, nausea, or vomiting.<br />I will continue to purchase unless my kitty cats are requesting something else, instead.\n",
      "This was the only wet food my two cats were happy to eat. If it wasnot for the fact that they are now eating prescription food, I would still be buying it for them and I hope, at some point, I can again.\n",
      "A very convenient product. This package of Fancy Feast cat food is convenient delivered to your front door. It is comparable in price to the cat food purchased in the local grocery store in a favorable way.\n",
      "My cats like the food but my wallet does not like the continually climbing prices.  For the first year I bought this the price was pretty stable but it is now going up every month or every other month.  Tooooooooo expensive.  :-(\n",
      "This box has the varieties my female likes.  The cod, sole, and shrimp one is the top-of-the-line in her opinion.  The rest of them she likes too and eats them almost daily.  Since she was a rescue, Iam cautious about what she eats and this product has been very successful in both her palate choices as well as her coat and strength development.  Canot thank the good folks at Friskies enough for this stuff - itis helped restore her to the gorgeous cat that sheis become.  Highly recommend!\n",
      "My cat goes crazy for this food.  He eats it all and seems to be happy and healthy so I am going to keep ordering it and have done so with scheduled purchases.\n",
      "all the cats seem to have their own preferences so I cannot guarantee that since my cat likes this brand, yours will.\n",
      "I wanted to try Fancy Feast because it is one of the products that have a high % of water in it, which my cat needed for his flaky skin.  And it worked!  He constantly drank water before, now he has cut that down.  Nice variety too.\n",
      "I have a lovely snowshoe siamese named Mocha and she loves this.  she isnt a big eater....as in she likes to eat little bits here and there with all types of food offered to her.  I feed about 1/3 a can of this and sometimes mix in fresh cooked meat or fresh green vegetables for her nightly meal.  i do want her eating fresh food as i believe any processed food isnt good for anyone--man or animal.  Mocha isnt a fan of fresh food, unfortunately...and loves dry kibble.  :(<br /><br />Anyway, as stinky as this classic fancy feast is, she seems to like it.  she will either devour the whole serving i give her or will eat a bit at a time until itis all gone in the AM.<br /><br />Of all fancy feast foods, these classic types are the 'better' ones if your cat is diabetic (do google search) as this has more protein (13% crude protein) compared to grilled version.  I havent tried those tuscany, mediteranean newer ones yet though.  however, these classic fancy feast versions are really stinky to the human nose compared to other versions.<br /><br />i myself do subscribe and save (SS) cause i save so much more this way.  i notice in grocery stores, the sale price for fancy feast is usually around $10 excluding tax.  So doing the math, SS saves alot of money.  I also do an online reward program that allows me to get $25 in monthly amazon gift cards for free so really, i get this for free.  yay!  thanks amazon.\n",
      "A friendis research to find a good food for her diabetic cat revealed that the choices specifically in the FF Classic are lower in carbs than most on the market. Her catis diabetes resolved and she attributed it to the FF Classic.<br />Canot beat the price through this seller and shipping arrangement!\n",
      "In Florida andNew Hampshire (where we live) FF sells for 45 cents a can, $11.98 a case. There is no way I would pay more through Amazon for this. I love and use Amazon all the time, but not for this. Check your supermarket and Petsmart first. I rate the food a 5 but the cost is a 3.\n",
      "My cats will vote with their feet if I do not provide a dinner-time snack of Fancy Feast.  It is a rich, obviously delicious, cat food with (check the label) good, healthy ingredients.  I feed wet food as a treat twice a day along with kibble.  Cats get their water from the wet food and living in a desert environment, I consider this essential for their well being.\n",
      "At $16.49 a case, thatis $.68 a can. NOT a deal. Even if you sign up to have this product delivered regularly for $14.02, thatis still $.58 a can, which is still no bargain. PetsMart sells this product for $.53 if you have a PetPerks card; Walmart sells it for $.53 period. If you live in an area that has no Walmart or PetsMart, I suggest shopping around a bit -- thereis bound to be a better deal somewhere on the Internet.\n",
      "Meow!  Meow,meow, meow!!  MEOW!!  Meow?  MEOW! MEOW! *hiss, hiss* MEOW!!  *Purring*<br />Yes, this is the communication from our cat, Alyssia.  She is so happy to get this food and meows for it.  However, our other cat, Henry, tries to take it away from her and she gets a little angry.  I help her out and she purrs with delight!<br /><br />This is so worth the few extra cents for me.  Free shipping and no sales tax, but no hassles to go shopping.  Itis a good deal for me, my family and our cats!\n",
      "There is no need to go to supermarket for catfood that often anymore. In fact itis even cheaper than retailers can offer. The only thing I wish - if catfood came in in smaller box, it such a waste of paper.\n",
      "My two cats usually like Fancy Feast the most. I think it is because this brand doesnot add bread or corn as filler so it smells better. The seafood variety is my favorite.<br /><br />I like to buy this from amazon because the price is about 1/3 to 1/2 less than at store and you get 3 varieties in one box, so its a good deal.\n",
      "This is the only food I will feed my cats. They love it , Itis the best thing to give your pets\n",
      "I paid for 2-3 day delivery. The item is now scheduled for 5 day delivery. If I had agreed to five day delivery, I would not have been charged shipping. I have been charged for 2-3 day delivery and received 5 day service.\n",
      "This flavor is very intense. I cannot drink it without making funny faces and I prefer the grape or original flavors but I love the concept of donating to Avon Foundation for Women Breast Cancer Crusade.<br /><br />Mammograms are not an efficient way to diagnose breast cancer but itis really all we have. You can literally have breast cancer for years before it shows on a mammogram. What we need is a blood test, much like the PSA test men have to diagnose prostate cancer.<br /><br />Thatis why I support donating to the Avon Foundation. They are more upfront about what they spend the donations on (unlike another popular breast cancer foundation) and they are pro cure but they are also for finding better ways of diagnosing because the earlier breast cancer is treated, the better the survival rates.<br /><br />Anyway, this flavor of 5 hour Energy works every bit as well as their other flavors and part of your money will go for a great cause.\n",
      "FLAVOR: PINK LEMONADE<br />-it definitely tastes like pink lemonade<br />-consistency is thick, itis like youare drinking lemon syrup<br />-i hate the orange flavor, this is definitely an improvement<br /><br />EFFECTIVENESS: FAST, I DID FEEL TIRED AFTER A FEW HOURS THOUGH<br />-perks you up within 15-20 minutes<br />-after 3-4 hours, I definitely noticed my limbs feeling like lead (felt sluggish)<br /><br />PRICE: DECENT<br />-12 bottles (24 oz)<br />-can find cheaper energy supplements that are just effective<br /><br />OVERALL: if youare a big fan of 5 hour energy but not the flavor, you might enjoy this... there are cheaper alternatives on amazon though, I prefer<a href=\"http://www.amazon.com/gp/product/B0017O19Q2\">STAY ALERT Military Caffeine Energy Gum - ARCTIC MINT </a> (caffeine-based) since it works faster (and freshens my breath! but doesnot last as long), and if you donot like caffeine/gum, <a href=\"http://www.amazon.com/gp/product/B000LKTQAE\">Hansenis Energy Pro Drink</a> (works better than 5 hour energy).\n",
      "While the product it self is great. Only takes a few minutes after drinking it i feel like i can take on anything. However, I rated this 3 stars because of the seller. I just moved and forgot to change the shipping address the seller REFUSED to contact the shipping company so they can reticulated my order to get it shipped to me. I even called UPS and asked if I could just change it, but to no avil. Alot of communication between me and the seller, most of it bad. I was well aware it was my fault, and i was trying to correct my mistake but like I said, the seller refused to help a paying customer and told me \"You provided us the wrong Address and informed us too late to changed it. Itis your fault not giving us the wright shipping address.We cannot Refund you at this time.\"<br /><br />As i previously said, I even contacted UPS to have my address changed. This indicates to me that the seller doseinot care about good ol fashion customer support.<br /><br />The seller did not even care that I would not be receiving my order. I would have payed for a product I would not even receive, Yeah, the seller did not care one bit. But thanks to Amazon support i got my refund<br /><br />While a great product, i drink this stuff everyday! Id just go buy it at your local store\n",
      "With a family of 5 vegetarians this product is a fantastic and inexpensive way to make seitan. Great quality product.\n",
      "Iam not much for writing reviews, especially long ones.<br /><br />This is the best packaged soup I have ever had. Each one was like I was sitting in a restaurant that just made it for me. I highly recommend this and hope they never stop making it. It is the easiest meal, and tastes 100% real<br /><br />The only problem is the price, especially here on Amazon itis WAY to high... I just bought them for $2.50 at Dominickis\n",
      "Decided to give the Moroccan soup a try.  Wow!  Great flavor and texture.  Robust and thick.  Would highly recommend it.  Canot wait to try the other flavors.\n",
      "I donot even know where to begin... this is honestly the best soup I have ever had... and out of a bag!!  The flavor is amazing... its spicy but sweet, tangy but creamy all at the same time. I am a texture freak and the texture of this soup is unbelievable... its everything you would expect from soup but so much more with added crunchy and mushy veggies. I was skeptical of the bag that this soup is packaged in... but it actually cooks better than heating your soup in a bowl (it is actually entire hot... no cold or warm patches)... Campbells also added flaps on each side of the bag (where it is natural to grab while getting it out of the microwave) that make it so you donot burn your fingers. Letis just say I am in love... everyone should give these soups a try... I will be going back to the store to purchase more flavors to try!!!\n",
      "I just happened to see this item at the store when I was looking for Chunky soup, and decided to try it.  IT IS AWESOME!  It bursts with flavor and texture.  It is easy to heat in the pouch, then consume.  This item will definitely be added to my regular lunch rotation.  I have only tried Curry Coconut Chicken so far, but the others look good, too.  This stuff is really good.  (I hope it doesnot turn out to be \"The Stuff\".)<br /><br />NOTE: This item, like all prepared soups, is high in sodium--not recommended for the sodium-restricted.\n",
      "Bought several of the different flavors of this new line of soups, and the Coconut Curry Chicken Mushroom was the first I tried. Soup was great, but I did have a bit of malfuction with the bag falling over in the microwave and about 1/2 the soup ending up getting thrown out. Next time I will pour the soup into a bowl before heating. I will be adding this to my rotation of choices for lunch.\n",
      "I saw these pouched soups while I was shopping at Wal-Mart and was surprised to see that they were not only Campbellis brand soups but how  out of left field the flavor choices were for Campbellis. While different, that didnot immediately make me confident that the flavors would actually be successful.<br /><br />I decided to buy only one pouch of the Coconut Curry Chicken to try it out. I like curry so if this worked out yay me! Well Yay Me! This was RIDICULOUSLY good. While it was heating in the microwave (as it said to do in the directions) the fragrant aromas started seeping out. I was shocked. This smelled almost exactly like when I make coconut curry sauce on my own. It smelled so fresh and authentic, the only thing left to doubt was the taste. Surely the aroma was just some canned, chemically manufactured olfactory trick. I was happily proven wrong. The taste and the smell all fit together. And unlike Campbellis canned soups, where you had small pieces of of mushy vegetables or meat, here you had big pieces of carrots and chicken and crunchy water chestnuts, the shittake mushrooms were small however, but not negligible.<br /><br />Seriously try it out for yourself. You will not be disappointed. As for me Iam going to go buy a heck of a lot more.\n",
      "As the previous poster described - I was shopping at Wal-Mart and noticed these pouches in the soup aisle.  The first I tried was the Golden Lentil with Madras Curry.  I too am a sucker for good curry.  I tried it today and OMG it is freaking delicious.  Campbellis GO Soups will be SOLID in my lunch rotation.\n",
      "I have tried the coconut curry one and I absolutely loved it. The flavors are amazing. This is not your same old same old boring soup. I could eat it every day. Now I want to try all their other flavors from Campbell Go.\n",
      "This has all kinds of goodies in it, and I was excited to try it.  I learned quickly that it *needs* a sweetener.  Iwill eat plain oatmeal, but all the cocoa in this stuff is pretty awful without something sweet.  I eat this at work, so I cheated and used a flavored coffee creamer, which instantly made any quantity of the stuff pretty yummy.<br /><br />Itis good.  It tastes good, itis made of good stuff, and Iam pretty happy with it.<br /><br />It has \"WHEAT-FREE\" in all caps on the front (along with VEGAN, SUPERFOOD, and some other marketing words), but notes that itis made in a facility that also processes wheat.  Iam not as sensitive as some and more sensitive than others, but I didnot die or explode, so thatis good.<br /><br />My big complaint about the stuff is that the nuts and oils seem a little stale.  I hate rancid oil and can pick it out a mile away, so Iam pickier about that than some people would be.  My parents are older now and eat all kinds of things I consider past their prime.  The expiration date on my can of chocolate hot cereal (letis call it what it is:  itis oatmeal with lots of other fun stuff mixed in) is over a year into the future and Ihave always stored it sensibly, but Iam just not crazy about the quality of the ingredients.  I know the ingredient list is awesome, but theyhave really suffered from bad storage, old age, or maybe just getting a sub-par crop mixed in.<br /><br />My review is based on only one can of the stuff, so perhaps my experience is unusual.  Itis impossible to tell without buying a second can, and based on the too-far-gone smell of this one, Iam not sure thatis going to happen any time soon.  If youare familiar with rancid oil or nuts that are past their prime and have a different experience with your own batch of this stuff as you get toward the end of your can, Iwould love to hear about it.  This is the kind of food I really *want* to like, as itis convenient for work breakfasts and full of ingredients that should be healthy and delicious.\n",
      "Ihave tried many of the Coffee Fool coffees and flavors, and Blueberry Cinnamon Swirl is one of my favorites.  It seems like a weird flavor for coffee, but itis surprisingly delicious, and pairs very well with coffee.  If you enjoy flavored coffees, Coffee Fool makes some of the best Ihave tried -- and Ihave been on a mission!<br />And in case it matters to you as much as it does to me, their customer service is outstanding.  They are also very quick to ship, so you donot have to wait too long to get your brew on :)<br />I heartily recommend Coffee Fool.\n",
      "My baby is 10 months old. Teeth are coming, fever is present, fussiness is there, whatis better than teething biscuits, right? organic, all natural, etc, right? Well, I gave one to her. She was gnawing away happily. Then she took a too big of a bite and a chunk fell down, and I tried it. To my shock I discovered that this biscuit is sweeter than the doughnut you would get at Dunkin, and sweeter than any danish you would have. It is sweeter than animal crackers, and I just had a few myself, as it was late at night, my baby asleep, and I wanted something sweet with my tea - I will NEVER give another one of these to my baby. Complete sugar rush and therefore, I cannot imagine it is good for her. If you are a sensible parent and donot feed your child McDonalds - these 'all natural' and 'organic' biscuits are a waste of your money. I cannot imagine anything that sweet is good for your baby.\n",
      "I really love this item. The taste is great. You can smell it when you open the bag.<br />Yumy Yumy gummies are the best gummies I have ever eaten.\n",
      "Those this sour candies come in one or all of this in the picture just wanted to kno cus my friend order one n it came as only one candy not all of the candy not fair!? Expain that? Plus 1.69 shipping wht do u think we r RICH!!\n",
      "I am what you could say a coffee drinker. I have been drinking coffee since I was 15 years of age, when I had my moms permission to drink it at the time. I am 53 now. We are a family of coffee drinkers. I have been going to Panerais  about a year now. I have come to love their dark roast coffee. I too was a Starbucks fan and drank a lot of their coffee. I then tasted Seattleis best and preferred drinking their coffee for years. But now I prefer the Panerais dark roast coffee over both. It has a more full flavor and smooth at the same time. It does not make me feel that I have to much caffeine in me . But some people like the caffeine hyper feeling. Do not get me wrong. I still drink Starbucks coffee, but I do it for the convenience. Everywhere I go there is a Starbucks around. If their was a Panera near by I would choose Panera though. Just my humble opinion.\n",
      "I love this meal for an easy and healthy lunch. In addition, it is halal, vegetarian, low-sodium, gluten-free and diet-friendly, which means that I have been able to share with my co-workers and friends who have dietary restrictions, much to their amazement and delight. It is manufactured in a facility that processes milk, nuts, sesame, mustard and soya products if you need to know that info.<br /><br />I tend to eat half one day, refrigerate the leftovers, and eat the other half the next day since each package contains 2 servings.  Here are the nutrition facts:<br /><br />Serving size: half pack (175g)<br />Servings per pack: 2<br /><br />Calories: 262<br />Calories from fat:54<br /><br />Fat: 6g<br />Saturated Fat: 1g<br />Trans Fat: 0g<br />Cholesterol: 0g<br />Sodium: 165mg<br />Total Carbohydrates: 44g<br />Dietary Fiber: 8g<br />Sugar: 0.5g<br />Protein: 8g<br /><br />(Also, no preservatives, no artificial colors, and no MSG)<br /><br />I am looking forward to trying their other meals, but I havenot found them at a reasonable enough price just yet.  This flavor was available at Costco just long enough to get me hooked, so I thought I should let everyone know how fantastic these really are.\n",
      "My kids sent me this gift for my birthday last week, and Iam practically still crying about it. Itis so sweet, and the flowers are amazing. Ihave still got it on my dining room table!\n",
      "This BBQ sauce is very tasty. Not very spicy but very good adds the BBQ flavor needed in pulled pork and ribs.\n",
      "I just received my order of the 27 pack (earlier than expected). I actually received 28 K-Cups (this is good). I had expected them to be in a box from the manufacturer, labeled as a limited edition. They were all just in a box from the post office (not so good), but the box smells delish.\n",
      "I typically cook for just myself and since I donot cook for a lot of people I donot use large quantities of ingredients. With this paste I simply use a little, tighten cap and store in refrigerator for next use. First time I used it, I added a teaspoon or so to a simple Spanish rice recipe and absolutely loved it! Yea for Olois Chipotle Paste!\n",
      "Great way to add smoky flavor to my Mexican recipes! So easy to use and not too spicy. I have found so many ways to use this product it has been well worth the price.\n",
      "I cannot tell you how nice it is to have Chipotle paste in my fridge. I have never been able to be spontaneous with chipotle peppers  and now I add chipotle paste to mayo when making burgers and sandwiches, sour cream to top any mexican dish, egg scrambles, salad dressings, and I keep finding more and more fun uses for it.  It adds such a wonderful smokey kick and I cannot get enough!  I will probably never buy (and throw away most of) another little can of chipotle peppers.  Thank you!\n",
      "I cannot tell you how many times I have purchased Chipotles in adobe and throw away most of the can because recipes call for such a small amount.  Itis not easy to freeze the remainder, so this product is a lifesaver!\n",
      "Most of the recipes I use only call for one or two chipotle peppers so I often find myself throwing the rest away.  Not only that, I have to dirty the food processor to make my own paste.  I found Olois Chipotle Paste and it is the perfect solution!!  The tube keeps well in the fridge and Iam able to use as much or as little as I need, without any waste or mess.  Itis now my go-to choice whenever I cook with chipotle peppers.\n",
      "Art Deco in my fridge. Tastes great. Lunch pail discussion starter. Buy once use, many times. Great Christmas stocking stuffer idea for food literate friends and relatives. Sandwich, eggs force multiplier.<a href=\"http://www.amazon.com/gp/product/B0097UW3EK\">Olois Chipotle Paste</a>\n",
      "Great taste and great if you are on a low carb diet!! Gives you the crunch of a chip without the carb. The BBQ is the BEST!\n",
      "I just broke one of these muffins into a bowl of creamy tomato soup...like<br />having a blt/grilled cheese yummy and warms your belly.\n",
      "This was a unique party favor at my daughters 12th birthday.  The kids enjoyed them and even grandpa wanted a box for himself.  They were really jumpy!!\n",
      "I must admit, when it said \"Grafted Citrus Tree\" I was expecting more than a stick with a few leaves and roots.  Iam sure it will grow, but a picture of what I was actually going to get would have been nice - so, I posted one so everyone is aware that it will be a while (maybe years) before they can actually use this as a source of kaffir lime leaves for cooking.\n",
      "I received the plants in good condition and they have thrived since transplanting. They are now three times the size as when I got them. I would buy them again.\n",
      "I bought these for baseball camp this summer and we ate these things while traveling to Cincinnati and back for a week!  Golly, are they good!  They are a wafer, like those kind that have the creme in the middle, chocolate though, covered in dark mint chocolate.  SO good and they even unmelt quickly when held in front of the caris air conditioner blower!  Ahh, sugar.  The mother of invention!  Theyare not overpowering in the mint category either. Just a very light cookie, two separate pieces that you can share (oh yeah, like THATis going to happen!).  Just bought 4 more today - thatis how fast they disappear in this house. Highly recommend!\n",
      "Crunch needs to continue to make them because they are so tasty it makes me think I am eatint thin mint cookies.\n",
      "The coffee is delicious and the perfect blend for a morning cup of coffee.  Unfortunately, it is taking over month to ship (I still donot have it), so I probably will not order again.\n",
      "My wife and I use this to flavor protein/milk shakes, and it has worked fairly well.  It requires at least 2 tablespoons to adequately flavor each serving, but itis nice to have the flavor without all of the calories and fat grams.  I would not, however, use this product as an alternative for real pb on a sandwich.\n",
      "I always hated the diet peanut butters in the store.  You either got high fat and no sweetness, or all sweetness and totally unsatisfying because of the missing fat.  This one is totally nails the taste of real peanut butter so that you arnot missing out on anything.  The chocolate one is just heavenly.  Not too sweet like Nutella, but just right.  Best of all, you can add as much or as little water as you want to get exactly the consistency you like.  You can even add your own peanut pieces, if you want chunky.  You also can make it up in just the quantity you want, so it isnot sitting around as a constant temptation.  Probably has a pretty long shelf life as well, being a powder.\n",
      "Finally, a guilt free version of one of my favorite spreads. You can read up on the nutritional info, how they make this as well as find recipes on the manufactureris website [...].<br /><br />In short, you get all the flavor and all the health benefits with a fraction of the fat calories. I donot find the chocolate version very chocolaty but you do get a hint of dark chocolate specks.<br /><br />I have used this the regular way on sliced bread as well as in baking. Try a chocolate PB2 bread pudding or even stir a teaspoon into your morning oatmeal. The opportunities are endless.\n",
      "This product is awesome!!!  Love it in shakes and on rice cakes.  Easy to mix, tastes great, good for you!!!  Inexpensive, fast shipping with Amazon.  No issues here.  Love it!\n",
      "PB2 Powered Peanut Butter is a god-send!<br />Iam on Weight Watchers and a tablespoon full of PB2<br />makes my Protein Shake powder so much better!<br />And at only 2 points on the new PPV point system,<br />I can still get that P&B taste that I love for a reasonable<br />point count..... I tried both the regular and cocoa flavors<br />and both are equally as good --- now I have even<br />more choices.....<br />  If you love peanut butter but donot want the extra<br />calories --- try this great product!\n",
      "I bought the PB2 & PB2 chocolate...and both are completely wonderful! I was astounded by how tasty these 2 products are. I add peanut butter to protein powders and yogurts,etc., but the calorie content is often too high in total for the snack. PB2 allows me to enjoy the peanut butter along with my snack for a fraction of the calories:  There is no sacrifice of taste!  It does not have the thick consistency of regular peanut butter but the taste is there so it is wonderful to add to items.  It was also tasty by the spoonful!  Excellent!\n",
      "If you like peanut butter, but donot want all the fat and calories, you will not be disappointed.  I am buying it for my 2 sisters and brother as gifts, since we are all doing WW.\n",
      "This is pretty amazing stuff.  I stay away from typical processed \"diet\" food because of the fake, chemical taste, but this product tastes like the real thing.  I guess it is the real thing, just without all the fat and calories.  Latest research has been showing that a calorie is a calorie regardless of the source, so anything that tastes this good and has relatively low calories is a very good thing.\n",
      "This has all the consistency, smell, and texture of peanut butter without all the fat.  It is light enough to spread on brownies for an amazing desert.  Really great for cooking.  However, itis not quite peanut butter.  If youare looking for a low-fat PBJ sandwich you might be disappointed.  I added much less water than what they call for.  It also helps to let it sit for 10-15 minutes after mixing.<br /><br />Bottom line: give it a try.\n",
      "This stuff is awesome, but at $7 for a relatively small jar it is very expensive.  Also keep in mind that this powder is very fluffy and will lose a lot of volume when reconstituted.<br /><br />If you take out the entire jar and mix water until itis the consistency of peanut butter, you will wind up with about 1/2 or less the original volume, so 2 jars (at $14) is about the same volume peanut butter as one jar full... ouch.<br /><br />That being said, looking past the outrageous price, the product is GREAT, my two jars ended up being gobbled down in a matter of days.\n",
      "I have counting calories and have lost 100 pounds in 13 months.  I CRAVE peanut butter and PB2 gives me the PB fix I need and with less than half the calories....tastes great, I love it, healthy, satisfying.  Peanut butter lovers who are trying to lose weight, this stuff will definitely help!<br /><br />Only thing is I wish it was available in a local store and it is a little pricey...\n",
      "This product is great.I loved the chocolate  peanut butter the best it is so good the reg peanut butter was very good but not as good as the chocolate. I am. a peanut butter addict thought I was going to have to give it up because of my diet untill I read other reviews. this peanut butter is recommendet on my diet plan have lost 30 lbs so far . Will keep ordering this product.\n",
      "In hearing about this I decided to give it a try.  This product is amazing! I add it to oatmeal each morning and keep it powdered.  It allows me to love peanut butter with out all the fat.\n",
      "PB2 is absolutely the best low calorie substitute for peanut butter on the market. It has great flavor and mouthfeel.  You will not notice the difference in a PB&J sandwich!! As for the Cocoa PB2, I had it instead of nutella on crepes this morning and it was phenomenal.  All the taste without the guilt.  For this constant dieter/picky eater itis like getting the gift of peanut butter!\n",
      "The chocolate is my favorite.  I mix it quite thick.  Very easy to mix.  Great low cal- high protein peanut butter.  Very good peanut flavor.\n",
      "After a couple of days to try out these 2 Peanut butter substitutes I can say Iam a convert. I LOVE peanut butter, for me itis a trigger food. If I eat it, I tend to want to eat half the jar at once and it can lead to wanting to eat other things I know I shouldnot. Ihave worked damn hard to shed 170lb this past year and half and indulging in PB is something I very rarely do anymore. Iwould all but given it up. So actually finding something like this, which will allow me to enjoy the occasional PB&J sandwich without the feelings of guilt and remorse is a godsend!<br />The reg. version of PB2 does have a roasted peanut taste to it, so itis not quite like regular PB, you donot get the salty sweeter taste of Jiff or Skippy. JUST the roasted peanut taste. But itis quickly adapted to. And the Chocolate version (which I was more skeptical of) was even better! You can eat either one right after you mix them with water, but I think theyare best when added to something else.<br />First of all I like to mix a base of reg PB2 with the chocolate version since I prefer a bit more of the nutty flavor to the chocolate. When just eating the chocolate my first thought was this would be great on whole wheat with a smear of marshmallow creme. And I donot even like marshmallow creme. But I will probably try it out one day to see if Iam right.<br />Either spread works great on fruit. Ihave tried apples and bananas so far. I also tried a PB&J with reduced calorie jelly and it worked very well. Good enough to replace the high calorie reg. PB&J sandwiches.<br /><br />It might sound strange but one combo I REALLY like is to scoop a bit of the powdered PB onto a fat free potato chip (I use Pringles fat free sour cream) and no there wasnot a taste clash or anything. Iam sure you could use the reg Pringles fat free, I just happen to think the sour cream ones taste better. Anyway turn the chip upside down and scoop a bit of powder into the \"bowl\" of the underside and eat. The salt of the chip is the first thing that hits your tongue and then the PB powered crumbs. And the combo is just....yumm!!!! Like that, it really does taste like any PB you could buy. I tried it with the chocolate version too, and there itis really like eating a peanut butter cup. And surprisingly the salty chip and powered PB isnot dry in the mouth. Quite the opposite actually. Now on the other hand, I tried adding the powdered PB2 as a topping to my skinny cow ice cream as I do on occasion like some melted PB on my ice cream, but there it DID dry out my mouth completely. Very strange. So I decided to try and mix the PB2 with water then heat it up in the microwave to see if it would melt like reg PB. It didnot. It got hot, but ended up dry like the cookie dough for peanut butter cookies where you can basically ball it up in your hands. I guess without all the fat the PB2 cannot melt like standard peanut butter. So as for ice cream topping, at least so far, it hasnot worked.<br />I am looking forward to seeing what else these 2 powdered products would work with and am already planning on ordering the larger sizes as Iwould like to try some baking with them too.<br /><br />All in all, I highly recommend them!<br /><br />Edit; Okay so it DOES work as a melted peanut butter substitute on ice cream. The key is to start with a base of water and gradually add powder to it until you get a very creamy consistency that will run off a spoon, just like melted pb *then* heat it up in the microwave. My first attempt with this method I used far too much water so be careful there. I kept adding bits of powder including the chocolate version for fear Iwould use all my pb2 up. But it was so much water I couldnot thicken it up enough and decided to start over. However, rather than just throw it all out, I decided to try it out as a drink. And you know, heated up, it was like a super rich cup of cocoa....delish! Even with no added sweetener it was sweet enough. And as a plus, since itis just water you can save those calories there. Not to mention, if youare lactose intolerant like me, regular hot chocolate is out anyway.<br /><br />Now even though this stuff is 85% less than regular peanut butter it does have some calories and fat, so I wouldnot over do it. But as an occasional indulgence, Iam so happy I found this!<br /><br />PS: I just want to add since purchasing PB2 from Amazon Ihave found a site called \"netrition.com\" and I highly recommend buying food stuffs from them. Amazon is great for pretty much everything else, but they are way over priced on their food.<br />I bought the large 16oz pack of PB2 from netrition for only 7.99 per bag. the same price Amazon charges for the small 6.5oz size! They donot have free shipping like Amazon, but they only charge $4.95 flat shipping fee no matter how much you buy. So itis not bad. Maybe because I bought so much, or it was my first time ordering but they also sent me a free low cal. quick cook cake mix. They were also way WAY cheaper on PB2 peanut butter crackers and everything else I ordered from them.<br /><br />So like I said, Amazon is great for most things, but when it comes to food, Netrition is a whole lot better!\n",
      "The following review I wrote last week.  The title was  \"better than so so\" --without the awesome part which I just added. In the week I have had the product I have found a new use that totally makes the product beyond spectacular at least for me.  So here is the \"original\" review--oh at that time I gave it 3 stars:<br />I bought this product based on a review in \"Nutrition in Action\" magazine, supplemented by the positive reviews here.  Having been in the Army for 20 years Iam used to the \"Unusual Presentation of Usual\" foods.  While I would still give this product a positive review..you will NOT mistake this product for peanut butter!  Yes, itis peanut buttery, convenient, and calorie saving.  It is not however cheap. and as a slim athletic guy, I donot need to count calories so much--so this will NOT be my go to product for PB.  I like the concept, but realistically it has an unusual \"mouth feel\".  Somebody else said, if you want to use it on a PB&J sandwich you will be disappointed.  I agree.  Also--I was disappointed by putting it on celery,  and if you let it set out after mixing for an hour or so the texture becomes very \"set up\".  Still, If youare craving a tablespoon of PB it IS worth a try, and the chocolate one is better..kinda like mixing Nutella with PB..but not quite as good.<br />OK--that was the original review--I had tried the chocolate by itself, and it doesnot have a huge chocolate taste but itis there--anyway, I decided to use the chocolate with celery, and what a better stirrer than the celery stick.  Anyway, when the chocolate and celery comes together there is magic, and it totally elevates this product to a new level.  The chocolate peanut butter, placed in the celery rib after stirring is like eating chocolate frosting from the bowl without the guilt! It is such a nutritious, filling, guilt free snack--Iam sold!\n",
      "Just tried the chocolate peanut-butter and itis amazing.  This is a must have for every person out there, especially if your interested in loosing or maintaing your weight.  Who ever invented this product is a god! In addition my order came extremely fast (I made some other purchases with this item and they havenot even been shipped yet).  I couldnot be happier with this product.  Iam mean peanut-butter that is healthy, great for your waist line, and taste AMAZING...what more could you ask for?\n",
      "This stuff is surprisingly good. I was skeptical at first but I have to agree with what others are saying about the powdered PB. It is really good mixed in with shakes, cooking ect. I have never tried it by adding water and spread on bread though. My guess it would't be the best that way. I highly recommend it for PB lovers who are calorie conscious.\n",
      "Iam a huge peanut butter fan, and I bought this imagining all of the delicious things I could make with this.  It absolutely failed the first test: eating it by the spoonful.  It just doesnot mix up into good tasting peanut butter.  So how about adding it to flavor other things?  I made some cookies with it, and they werenot very good either.  It provides neither an authentic peanut taste, nor even an authentic ultra-processed peanut butter taste.  So far, the best use Ihave found for it is mixing it up with yogurt.  Thatis not bad, but Iam left wondering why?  I was always perfectly content to eat yogurt without peanut butter flavoring, and it didnot actually taste better than the yogurt without it, it just didnot taste worse like everything else Ihave been flavoring with pb2.\n",
      "This product is just okay, boardering on gross. It tasted stale and is not a good replacement for peanut butter at all, in my humble opinion. Very overpriced with the shipping cost. I will not buy it ever again even if I didnot<br />have to pay to ship it! My entire family agreed too.\n",
      "I received the Pb2 in just a few days of ordering and I also got some peanut butter crackers with order which are good.<br />The problem I had was when I open the jar of the chocolate peanut butter it had already been used and 1/4 of it was gone and there was chocolate residue on the side of the jar. The product is vary good and I will keep using it but I will probably order it elseware. I would not send an open used jar of food to anyone, it was a turn off. I will eat the other jar which was not opened and the taste is really good. If it hadnot been for the open jar I would have given 5 stars and a thumbs up.\n",
      "i personally wasnt impressed with this imitation peanut butter esp. for the price. it was very chalky tasting. thumbs down!!\n",
      "I heard about this PB2 powdered peanut butter at Weight Watchers and ordered it out of curiosity.  I am no longer curious.  We got the two-pack (regular and chocolate).  You take 2T of the powder and mix it with 1T of water.  Itis not bad, but itis definitely not good.  The regular flavor was really thick and pasty.  The chocolate was smoother, but still wasnot that great.  I would prefer to eat the real thing and exercise portion control.  While weare at it, Iam not a fan of baked chips either.\n",
      "I was a little disappointed by the taste. I did not really taste much peanut flavor, in fact, I was not sure if it had any flavor at all. Consistency was okay. Probably will not reorder this.\n",
      "I had high hopes for this product when I purchased it since everyone was singing its praises.  Some background on me; I donot eat gluten or dairy of any kind.  I have food sensitivities so Iam used to eating things that donot taste great.  I watch my weight and love peanut butter so I thought this would be perfect for me.  I first tried it mixed with a little water like the instructions said.  It was horrible and I didnot eat it.  Next I made the peanut butter cookies on the PB2 website.  They were not good.  I could barely eat one.  I shared it with my dog and she liked it.  Maybe if you make your own dog treats it would work for that.  Lastly, I tried it in my morning protein drink and it was fine.  I may add it from time to time to have some extra protein.  This is the only way I will use it.  I cannot believe so many people liked it.\n",
      "PB2 is gross. I would definitely not buy again.  Ever. The texture is nasty and the flavor is not like peanut butter.  Iwill stick to real, natural peanut butter.  Itis worth the calories.\n",
      "I was very dissapointed when I received the product and read the ingredients. It lists sugar in both plain and chocolate PB2. There was no proper disclosure of all ingredient on the amazon page. The description lead you to believe that there is nothing else but PB powder from peanuts with cocoa powder added for chocolete taste.\n",
      "This product smells and tastes like real peanut butter. My husband did not notice the difference when I made it for Sunday breakfast. The best thing is that my husband started to eat apples (dipping them into PB2) because of this product. I like both PB2: Powdered Peanut Butter and Powdered Cocoa Peanut Butter, but the last one is my favorite.\n",
      "This stuff is really good actually! I saw this on Dr. Oz and thought I would try it out. Has a great taste and it is better for you than regular peanut butter. You have to mix it with water so itis not convenient as regular peanut butter, but worth it as a health alternative.\n",
      "Love this low calorie delicious peanut butter.  Both chocolate and plain are really good and filling. I highly recommend both.\n",
      "I love peanut butter, always have and always will. And as a Peanaholic who is also concerned about calories and the quality of food she puts in her mouth, I have been searching for a nutritional and delicious peanut butter for years. I have tried everything from all natural nut butters to pastes, light butters and almond butters, but have yet to find anything under 180 calories for 2 tbs (which I can double in one sitting).<br /><br />Then I found PB2. I was slightly nervous by the idea of trying powdered peanut butter, but for only 45 calories/serving--why the heck not?<br /><br />DELICOUS! SO YUMMY! Creamy, not chalky, not oily and ALL NATURAL!<br /><br />I will never buy anything else and have already been back to the store to buy more for friends to try! Rave reviews from even the most pickiest little mouths in my house!<br /><br />2 thumbs up!\n",
      "I bought this product based on other reviews.  I really like to add it to a smoothie with frozen bananas and protein powder, flax & wheatgerm.  I have also mixed a bit with Jam and spread it on toast.  Yummy.\n",
      "Great way to get peanut butter goodness with out the extra pounds.  I also discovered this stuff is great for making spicy peanut sauce and for use in dressings.  I love this stuff.\n",
      "Absolutely love it!!!! I didnot think it would taste that good!!!!! The chocolate is my favorite.  Iam going to try it in baking things like peanut butter muffins. The chocolate is good on banana.\n",
      "I cannot say enough good about this deliciously healthy option to peanut butter! Low in fat and calories...great by itself, in chia pudding, and other recipes too! If you prefer it too be a little creamier,just add a drop or two of safflower oil, or another favorite.\n",
      "I am trying to lose weight, and though I love peanut butter, the high fat content has kept me away for the last few months.  I came across this quite by accident, thought about it for a few days after reading reviews, and decided to go ahead an order.  I am SO GLAD I DID!  This stuff is fantastic!!!<br /><br />The cool thing is itis a powder, so you are in control of what consistency you make it.  I started with too much water and it was runny, but tasted great.  Iam thinking this would be good on a dessert type thing, maybe frozen yogurt or my new-found treat, frozen bananas processed in my Vitamix (too cheap to buy the yonana when I already have a Vitamix!).  Then I added some powder and got it the consistency of peanut butter, which was equally good.  Not maybe as creamy rich because it doesnot have the fat, but certainly a worthy substitute.  Finally, I made a batch that was very thick and this was like eating a buckeye.  I had this one made out of the cocoa version and wow!!  It was incredible!!<br /><br />I have already recommended this to about 15 people and it just arrived within the last hour.  I am certainly pleased.<br /><br />The only thing I would add is though the jar appears to be the same size as a standard peanut butter jar in the picture, at 6.5 oz they are really about the size of a parmesan cheese container.  I recommend this actual listing though so you can try both flavors, and if you want to purchase a larger quantity, they are available on Amazon at a lower price.\n",
      "I purchased this product a few times from the Newark Natural Foods store located in my area. Sadly the price was insane for just one of these. I use it, I love it, and I stand by this product.Great in protein shakes, baking, and other various dishes.\n",
      "Both of these are so yummy! Canot tell a difference from regular peanut butter with the way it tastes. However, texture is a bit thicker and not as smooth, but not problematic at all. The chocolate one tastes just like a Reeseis candy!\n",
      "I bought the pb2 and powdered cocoa peanut butter for my Yonana machine and love it.  I havenot made these into butter yet. I put the dry mix with my bananas in my Yonana machine to make peanut butter/banana ice cream. I did really like the flavor with not alot of fat and calories.  I want to try to mix it with water and try it in pb sandwiches.  It will really be handy on our next back packing and canoe trip.\n",
      "This is the best invention known to man!!!  Regular peanut butter is loaded with sugar and can really derail you from your healthy lifestyle.  The powdered peanut butter is 85% less fat...all you have to do is mix it with water AND it actually tastes like peanut butter.  Pretty amazing if you ask me.  And at only 45 calories per serving, you cannot beat it.\n",
      "What a great addition to my shakes!  The flavor of peanut butter with a small amount of calories and fat.  Iwill be buying this again and again.\n",
      "I have a real weakness for peanut butter. If I have a jar in my house I will eat the entire thing in one sitting, so I try to avoid buying it. That said, when it muse be had, this is an excellent alternative. I oarticularly like is as a dessert helper with low fat frozen yogurt/ice cream/fudge pops. I am Celiac and havenot eaten bread in nearly 10 years, so I cannot speak to what it does for a classic PB&J!\n",
      "I have this on my toasts every morning and throw some into my protein shakes occasionally and i have to say it is so good! tastes just like peanut butter or even better really and you can make it whatever consistency you want! I absolutely love it!!\n",
      "The best PB ever. I use PB2 to make protein shake for my breakfast. It is tasty and does not have much calories!\n",
      "Iam such a PB addict.  This removes most of the fat and none of the flavor.  A single serving is only 1 point on Weight Watchers!  Gotta love that!\n",
      "Glad I discovered this new Peanut Butter. Itis very easy to mix in a small bowl and spreads VERY easy. Taste is actually a bit better to me than normal peanut butter and I can use more than a trace amount without feeling guilty! I do prefer the straight peanut butter flavor over the chocolate. Finally a nice PB&J sandwhich on whole wheat as a nice snack.\n",
      "My sister introduced me to this product and we both love it, in fact our other sister loves it to.  Has many uses and keeps the fat down.  We three are on a quest to lose weight so it fits right in to our plan. Try mixing in to cool whip...yummy.  Glad we were able to find it on Amazon..Try it\n",
      "PB2 peanut butter and peanut butter chocolate are a great find.  I love the fact that it tastes great in Protein shakes or just mixed with water for my morning toast.  This came highly recommended to me and and I am glad I ordered one of each flavor.  The only thing that was a negative was the date of the use life of the product; it was a short time frame to use it which tells me it has been on the shelf for a  bit longer than normal.  No biggie, I will use it up before that date anyway. The product is great otherwise!\n",
      "A coworker of mine had recommended the PB2 products.  Both of the chocolate and the original were great!  I have blended them with bananas and spread it on toast, added to a smoothie, or used in stir-fry.  There are amazing ideas on their website for uses.  Next time I just need to buy the bigger container.\n",
      "Loved this product! For us who love peanut butter but not all the fat! I add this to my smoothies in the morning.\n",
      "I purchased this when I was on a big health kick a few months ago. It is actually pretty tasty. I have tried it simply mixed with water and wasnot completely in love with the taste. However, mixed in other things (yogurt, smoothies, etc) it is actually really good. It gives just enough of a peanut butter taste. In my opinion nothing is as good as just regular ole peanut butter, but this is a good runner-up.\n",
      "Personally, I will never go back to eating typical peanut butter again. I never liked the consistency of regular pb. PB2 is less sugary and it has a more prominent peanut flavor. I prefer the texture AND its 25% of the calories (and 85% less fat). I use this is everything - smoothies, baking, sandwiches, on slices of fruit. I love the original and cocoa flavor. You cannot go wrong with either of them so why not get both!<br /><br />Yes, it is a little pricey, but its worth it (especially if you are watching calories and fat content trying to lose weight or just eat healthier in general). You can by it by the 1 pound bags at a discount. I have seen many organic and natural peanut butters that are the same price plus some.<br /><br />Give it a shot on your pbj sandwich and your baking, at least you can say you tried it! But I promise that most you will not be disappointed!\n",
      "To say the least, I was disappointed in the product.....not just because of the sugar content, but the fact was far different than I anticipated.  I would not buy the product again.\n",
      "I was hesitant based on some of the reviews.  I am not a huge PB fan.  I just started a low carb diet and was just craving PB.  I picked this up in a local store(paying way too much).  Netrition has much better prices but I was leery of buying too much and hating it.<br /><br />Oh my!  This is wonderful.  Better N PB is yuck compared to this stuff.  Granted, I havenot tried mixing to make PB just yet.  I mixed with vanilla yogurt and it made a wonderfully tasty wouldessert'.  I cannot wait to try in other recipes.\n",
      "I was happily impressed with the taste, texture and quality of these peanut butters!  Awesomely low in fat and super delicious.  Use a popsicle sitck for best mixing. Would definitely recommend to anyone looking to cut fat (and some calories) from their diet.\n",
      "Even with the good reviews, I was not expecting much.  It was easy to mix and had the proper texture and taste.  The cocoa was not as good but will be put to good use adding flavor without fat.  Now I can put peanut butter on apples and not blow my calorie budget for the day.\n",
      "I use it to put in a protein shake. One scoop thatis all it takes. Less calories than others. It is very reasonable ! I will buy again !\n",
      "I love this stuff!  Ihave never actually made a sandwich with it, but I add it to smoothies. It tastes delicious!!  You determine the consistency by how much water you add.  I would happy to just eat it by itself. Ihave tried both the plain and the chocolate flavors and you just cannot beat the fact that you are getting so much less fat than regular peanut butter.\n",
      "I had heard about the product and I wanted to try it<br /><br />It taste delicious and I like the multiple flavors.  Fast shipping and there were no problems. I will order again.\n",
      "Trying to follow J. Hudsonis weight loss success, I have joined the battle of the bulge.  But I have some items in my regular diet that I am not ready to give up yet.  Enter PB2!  I found it while absentmindedly flipping through Amazon grocery products and I am so glad that I did!  I have tried brand after brand of low-fat, reduced-fat, natural, etc. peanut butters and the nutritional information doesnot really vary that much.<br /><br />One brand stood out (Better'n) with half the fat/calories.  But PB2 is HALF of what that was!  Who wouldnot love a rich peanut butter taste for 45 calories???  Tried both the regular and chocolate with FF Cool Whip and it was so yummy.  My husband and I both agreed that we actually like the slight texture that adding the powder to the cream created.  Tonightis dessert will be sugar-free white chocolate pudding with some PB2 in it and we cannot wait.<br /><br />I havenot yet reconstituted it to gauge that, but I am loving the product in itis initial state as something to add to pudding, Cool Whip, smoothies, etc.  The fun is in the limitless options for using it.<br /><br />I am just so amazed that I can get my peanut butter fix for 45 calories (or even less, because 1 TB is more than enough in certain recipes!).<br /><br />I know itis a little pricey versus regular peanut butter, but I certainly donot plan on using it on the kids' sandwiches. :) But for a dieter who wants a peanut butter fix, itis worth every penny.\n",
      "I am addicted to Peanut Butter so when I found this it was such a relief for my diet! I can now eat my daily snack of peanut butter and apple slices without guilt. I highly recommend that anyone who loves peanut butter check out PB2!\n",
      "Could not be any happier with this product! I love putting peanut butter on a banana for a filling snack and now I can have it for a whole lot less fat and calories. Raw energy.  Great taste Hooray!!\n",
      "I am VERY fitness minded. My goals are to maintain lean muscle mass and a flat stomach!<br />I absolutely LOVE peanut butter. This is a GODSEND. I have completely replaced my fatty, carb heavy, standard peanut butter with this<br />and I can have my cake and eat it too!<br /><br />If you KNOW peanut butter You will love the taste of this.<br />Also, this is a deal out of this world if you have amazon PRIME\n",
      "I was skeptical at first about 'powdered' peanut butter, but after getting this Iam hooked!  Itis 100% peanuts that are ground to a powder consistency - and in the process 85% of the fat is removed.  Iam a peanut butter lover, but even the reduced fat or sugar free butters on the market can put me over my daily goal for fat or sugar.  I drink chocolate protein shakes and as a treat every once in a while, I would add a spoonful of peanut butter to satisfy my cravings for a Reeses.<br /><br />I no longer have to deprive myself!  I added the PB2 into my shake, it fully dissolved and I can now enjoy my chocolate peanut butter without guilt.<br /><br />I have both the plain and the chocolate flavored and they are both fantastic.  I havenot tried to mix it and put in on bread, Iwould rather use my regular peanut butter for that.  But I fully intend to try to concoct some recipes using this powder so I can expand my diet options.<br /><br />I highly recommend this!\n",
      "Ihave been trying to lose weight and have been using a meal replacement shake that comes in sweet cream flavor.  To jazz things up, Ihave been adding fruit, peanut butter, coffee, etc.  When I heard about PB2, I decided to give it a try.  The 6.5 oz sizes allow you to give the product a try before committing to a large quantity.  PB2 is very light and powdery.  It takes 2 Tbsp. (45 cal) to give a good peanut flavor.  The regular PB2 is better than the chocolate variety.  The chocolate flavor isnot very intense with more pronounced PB flavor.  It mixes well with the shake mix and tastes good.  The price is high considering the small number of servings youwould get per jar.  This was an ingenious way to make the by-product of pressing peanuts for oil into a valuable commodity!\n",
      "I LOVE PB2!!  It has replaced peanut butter in my morning oatmeal and saves me 50-100 calories and still tastes great.  I also mix it with greek yogurt.  The only reason I am giving it 4 stars is because I wish it came in bigger containers.  I know you can buy the shrink wrapped packages but those are hard to open/keep clean.\n",
      "I have a problem with willpower. I had to stop buying regular peanut butter because it was too easy to grab a spoon and go to town. But I do love a PB&J sandwich from time to time, so this stuff is a perfect compromise. It makes a good sandwich, but it doesnot taste quite good enough that Iam tempted to eat it by itself (maybe because the texture is slightly off as well). Also I tend to be lazy when Iam satisfying my cravings, so Iam more likely to grab something that doesnot require work (i.e. mixing). As a result, Iam only halfway through both of these jars after quite a few months. The price is probably a little high, but itis so much more healthy than regular peanut butter...itis definitely worth it to me, hence the 5-star rating. For taste and texture, Iwould give it 3.5 stars (compared to real peanut butter).\n",
      "Iam a big peanut butter lover, but I always afraid of gaining weight from eating too much peanut butter. this is the best peanut butter for me! it fit my diet plan perfectly, and allow me to eat it without guilty.<br /><br />i really like the original flavor,but not a big fan of chocolate one\n",
      "I love peanut butter but it is very high in calories. Itis a great product, I need to make it with different amounts of water toget the thickness I want. Will buy again!!!!\n",
      "I have ordered this product before, it is such a great substitute for pre-made peanut butter!  Itis a little more expensive than the pre-made, but much healthier, and tase great.\n",
      "So worth the price, mix it with my isagenix, and love it. taste like im drinking reeses pieces cups.. Yummy so good. Glad I got it, shipping came super fast.\n",
      "Its amazing. Its not quite as sweet as regular PB but I enjoy it just the same!! For only 45 calories it is worth it!! I havenot had peanut butter in 2 years because its not worth the calories and now all I eat is PB and J sandwiches, PB apples, celery with PB...the list goes on. I am in heaven. Buy it and you will not regret it!\n",
      "This stuff tastes great! But if youare trying to loose weight, wouldnot it be better if there really werenot any \"additives\" like sugar and salt?  That way if you wanted to add it yourself, you could control the amount.  Salt can add water weight, and sugar can raise your glycemic index, which can promote weight gain. IMHO peanut butter with no added salt or sugar tastes better. So thatis my bias.\n",
      "The peanut butter was too bland even for my daughter. Added things like cinnamon and splenda to make it taste better.  My daughter liked the cocoa peanut butter.\n",
      "I like putting peanut butter in my protein shakes and was hoping PB2 would be the answer. It doesnot taste quite as good as creamy peanut butter and there is tiny hard lumps in my protein shake.  I havenot tried using it in a blender to get the lumps out.  I just use a shaker cup.\n",
      "I love this product so much! It is low in fat, full of protein and tastes like regular peanut butter! The chocolate one is my favorite!\n",
      "I saw this product on \"DR.OZ\" TV show & thought I would give it a try. After adding water as directed, it makes a pretty good reconstituted peanut butter, although not as moist as store bought because most of the oil has been removed.<br />Ihave only tried it on crackers, etc....but I think it would probably incorporate well into recipes or other food applications.\n",
      "This product tastes great..just like the real thing, minus the fat and calories.<br />You should try it!<br /><br />Dr. Oz even says so!\n",
      "I have to watch what I eat. I really missed peanut butter....a lot! When I saw this, I told myself that I HAD to get it. Peanut butter taste at 85% less fat??? Hello! Sign me up. When I first tried it, I used my spoon to dig up some of the powder and attempted to eat it like that. Not a good idea lol. Since itis in powder form, it will clump in your mouth if eaten dry. No problem! I have found that I can sprinkle it on my jelly for pb&j sandwiches. It also tastes great mixed in with low fat cottage cheese with a bit of jelly  strirred in as well. I HIGHLY recommend this product. As a matter of fact, Iam about to order some more!\n",
      "Really love PB2! So glad someone told me about it! It came on time and tasted great. It was sealed properly and we had no problems with anything.\n",
      "this stuff is delicious....I cant believe it took somebody so long to come up with such an awesome choice for peanut butter!!\n",
      "I love these products.  This may seem expensive at first, but when you add water back in, there is a lot of peanut butter!  The Cocoa Peanut Butter is really tasty.  Will order again (if I ever run out).\n",
      "Peanut butter is delicious. A wonderful idea for people watching their fat intake.Very low calories without giving up on taste.\n",
      "People have their opinion but I like it.  I add some Truvia to is and itis cool.  you have to play with the water to make thicker but I can get pass that.  I am on a mission and you cannot have it all.  The flavor is great and it tastes like peanuts because it is.  what more could I ask!\n",
      "Not on your life.  This stuff was fabulous.  I crave peanut butter and I could eat one serving of it for a snack and be totally satisfied.  compare to regular peanut butter: 180 calories and 16gms fat for 2 tbs.  PB2: 45 calories and 1.5gms fat.  It tastes just like regular peanut butter.  The chocolate one didnot have much chocolate flavor but it tasted okay.  This time around I am just buying the regular flavor.  Yum.  So many things you can use it in.  I cannot wait to experiment more.\n",
      "Ihave been hearing recommendations for PB2 for quite some time, but I couldnot find it in my local stores. I finally broke down and ordered it here.<br /><br />If youare into things like smoothies or cooking with peanut butter, this is a great product! It significantly cuts down the calories and fat without forgoing taste.<br /><br />I think for straight up eating the texture leaves a bit to be desired. So if youare looking for an alternative for your PB&J sandwich, give ONE container a shot and see what you think before spending too much for a bunch.<br /><br />As for the \"cocoa\" flavored version - it isnot overly chocolatey.\n",
      "Exactly as descibed.  tastes great, easy to mix. TSA approved for air travel as a carry on.  Not certain about regular peanut butter and didnot want to take the chance of losing it.  There is sugar in it which is the only other thing besides peanuts.<br /><br />I like it!\n",
      "Receive my stuff in 3 days time i was impressed. As part of my  cleaning i use PB2 its much healthier than regular peanut butter with half the fat  great in shakes or smoothies\n",
      "Taking all the fat out of peanut butter and chocolate, but leaving those great flavors. What a great product! Iam using it to make my iced coffee drinks...and the blender isnot all greasy using PB2. I recommend these products to everyone.\n",
      "Interesting concept! Very tasty too, I used the chocolate PB2 in my vanilla ice cream and it was a lean alternative to flavored syrups. I purchased these products to cut down on the fat from regular peanut butter. I would order it again although it is a bit pricey.\n",
      "This is the best substitute for full fat peanut butter that I have found.  Since I use Weight Watchers plan, there is a need to keep the points low (1 point for 2 tablespoons).\n",
      "It tastes just like peanut butter without all the fat.  I like it and would recommend it to anyone who is watching the amount of fat in their diet but love the taste of peanut butter.\n",
      "I love this product. It tastes a lot like natural peanut butter. The powdered form works great in smoothies or recipes, too. I really enjoy being able to have peanut butter w/o all the extra fat that comes from regular peanut butter. The chocolate PB2 reminds me a bit of Nutella.\n",
      "I just recently started a Weight Watchers diet, and I was fortunate enough to come across this product.  Regular peanut butter is 5 points per 2 tbsp.  This peanut butter is only 1 point; and the taste is just as good!  I have made this peanut butter for sandwiches, and to put on top of crackers or rice cakes.  I am able to get my peanut-butter craving in, all while being healthy with it being so low-fat.  Itis not hard to make.  I just measure out 2 tbsp of powder in a bowl, add a little bit of water to the consistancy I want, and there I have it!!!<br /><br />I just tried the chocolate peanut butter recently too, putting that on crackers and rice cakes as well.  It was equally as delcious as the PB2 peanut butter.  Iam so happy I discovered this product.  The fact that itis only 1 Weight Watcher point, as opposed to 5, makes up for the price of the product.\n",
      "Hi, my name is Eric and I am a peanut butter addict. Recently, I decided to change my diet and eat healthier. I thought that peanut butter was now off my menu. That thought brought sadness and despair. But, I discovered PB2! Now I can enjoy low calorie peanut butter in desserts, protein shakes or Thai dishes without worrying about peanut butteris usual high calorie (not to mention killer transfats) content. Thank you, PB2!\n",
      "My husband and I are on Weight Watchers and peanut butter just has too many points. However, this is a great alternative and has much less points. My husband said he likes it just as much as regular peanut butter.\n",
      "I have tried many peanut butter alternatives, and this one beats anything Ihave ever tried.  I highly recommend PB2 and PB2 w/ chocolate.  If youare familiar with Weight Watchers points, one serving of either product is 1pp.  This is a delicious way to keep peanut butter a part of your healthy diet.  I highly recommend!\n",
      "I have tried both the plain and the chocolate flavors, and I like both. I think in a blind taste test, you could probably pick out the \"diet\" version. Itis just a bit less rich than traditional PB. That said, this peanut butter powder mixes up quickly and easily, tastes exactly like peanut butter should, is creamy enough to be satisfying right off the spoon, is much healthier for you than traditional PB, and has no chemicals added to it. They just squeeze the oil out of the roasted peanuts, turning it into a powder with all the fat squeezed out. Thatis it, no crazy chemicals. The peanuts are grown in the USA, which I also like. Iam a vegetarian who is on the road a lot, and I need healthy non-perishable lunch items. Itis great to have a PB sandwich back in the rotation!\n",
      "I purchased both the regular Peanut Butter and the Cocoa Peanut Butter.  I use them both in my energy drinks and they taste great.\n",
      "This stuff is amazing.  2 tablespoons for 45 calories!  It tastes great in Fat Free Cool Whip.  It is such a treat.  I cannot wait to try new recipes using PB2 and PB2 Chocolate one too.\n",
      "This stuff is AWESOME!  My husband and I love the taste of both the regular peanut butter and the cocoa version.  The only reason I didnot rate it 5 stars is because it is pricy and because a 2 tablespoon serving of this is not equal to a 2 tablespoon serving of traditional peanut butter (not sure why this is, maybe when the water is added it condenses more??), so we have to double the serving which means the jar doesnot go as far, making it pretty darn expensive.  Still, a double serving of this stuff is 100 cals less than just one serving of traditional... not to mention the fat!  So weare lifetime fans for sure, but we do limit the amount of times we indulge throughout the week because of the cost.\n",
      "This was ok on its own mixed with water. I much prefer 'better n peanut butter. 'However, this does taste amazing if you throw in a blender for a smoothie. Try banana, milk, and two scoops of this. Yum!\n",
      "At first I was really excited by the nutritional facts and bought the PB2 right away! Upon receiving it I was a little unsure of how to incorporate it into my diet. But you will become more and more creative and figure it out as you go! I use it in my protein shakes which were AMAZING! My fav recipe Ihave come up with so far is to get a Betty Crocker sugar cookie mix, put about 2 teaspoons of ground flaxseed- which is totally optional if youare not a health nut and just keep that around the house, substitute plain nonfat greek yogurt for the butter and oil (1 cup approx) and sprinkle in the PB2 and bake accordingly! OMG!!!!! The greek yogurt made the so light and fluffy it was ridiculous! Not only are you cutting calories but youhave got a delicious fluffy peanut butter cookie that you donot have to feel guilty about! AMAZING! Definitely worth a try if youare curious about using it! :)\n",
      "I am a bodybuilder and this stuff is great in my shakes. I use ON Natural Whey chocolate protein powder and put two tablespoons of PB2 in there. It tastes great. Then the chocolate PB2 is great for a low calorie dessert. Just mix it with enough water and it makes a pudding consistency. Great for people who love peanut butter and want to live a healthy lifestyle.\n",
      "This stuff is great, I mean really great. The peanut butter tastes like the inside of a reeseis peanut butter cup (the chocolate peanut butter tastes like a reeseis peanut butter cup). A quick shake on a salad and it turns an otherwise uninteresting salad into a flavor extravaganza. Ihave found a ton of uses for this, from sandwiches to toppings for ice cream this magic powder is sure to impress.<br /><br />Must try!\n",
      "PB2 was recommended to me by a weight watchers leader. I ordered this 2-pack and I love it so much that Ihave already ordered a pound of the traditional variety! Even my husband (who barely tolerates peanut butter) likes PB2. He says it tastes more like peanuts than traditional peanut butter (and I think heis right).<br /><br />The chocolate variety was originally described to me as \"similar to nutella\" and unfortunately, I donot think it is. Itis just a slightly sweeter, vaguely chocolatey version of the original PB2. Itis good, but it will never be as satisfying as nutella.<br /><br />Overall, I love both varieties of PB2. Theyare best mixed in with other ingredients, like in a PBJ sandwich or in baked goods. My favorite use is to put 2 tablespoons in a berry smoothie, which adds protein and makes it taste like a PBJ. If you try to eat PB2 solo, by the spoonful, you might be disappointed. They are lacking a bit of the richness that makes peanut butter so addictive.<br /><br />Lastly, this stuff is pricier than regular peanut butter (especially when you consider that the powder is fluffy and it loses volume when you mix it with water), but I think itis well worth the cost.\n",
      "I made two tablespoons worth and it didnt make much:-(  I just spead it on a rice cake. Surprizingly enough it is very Tasty!!!! 45 calories vs 180 for reduced fat ...what more can you ask for?\n",
      "Delicious!  Too bad you get so little for your money.  Maybe it is expensive to produce.  But, frankly, I will just use regular peanut butter from now on.<br />rs\n",
      "Peanut butter is a trigger food of mine - once I start eating it, itis tough to stop - so itis been banned from home for the past 6 months or so while Ihave been trying to lose weight. Recently, though, Ihave missed the flavor and started researching low-cal substitutes and came across the excellent reviews for PB2.<br /><br />Iam SHOCKED at how good this is. Not only does it taste good for 1/4 the calories of regular PB, but thereis nothing artificial in the ingredients at all. Just peanuts, sugar, and salt! And 5g of protein and 2g of fiber! Ihave never been so excited about a food in my life!<br /><br />A few things Ihave learned in the few days Ihave enjoyed my PB2:<br />- The chocolate is a bit sweeter. I find the regular PB2 a little bit plain but one packet of Truvia per 2 Tbsp fixes it for me.<br />- The ratio of 2 Tbsp PB2 to 1 Tbsp water does make it a bit runny for my tastes. A little less water can get you a pretty normal PB consistency.<br />- It can be messy. The powder is so light it seems Iam losing it all over the place. Use a narrow measuring spoon.<br /><br />I do agree with others that this is an expensive product, but Iam finding if you shop around a bit and buy in bulk (which I totally plan to do next time) the price comes down considerably. It will never be as cheap as regular PB, but Iam okay paying an extra quarter or so per serving to save 135 cals and still have PB in my life.\n",
      "Taste and consistency of peanut butter without the calories. No, it is not EXACTLY the same but it is close enough that I can feel good about eating it while not ingesting so many calories that my diet is completely blown.\n",
      "This is so good! i cant beleave it is low in fat. i ordered one and will order a case next.\n",
      "Iam very happy with PB2.. I use it everyday in my protein shakes and I mix it with some water and dip apple slices in it. It is delicious! I will be purchasing more for me and my family.\n",
      "The peanut butter is easy to mix together and spread on bread.  However, the taste is only ok.  Iwill use what I have but would not order more.\n",
      "Product isnot going to set the world on fire.<br /><br />It is exactly what it says, powdered peanut butter.<br /><br />Actually ,itis processed even finer than that itis more like peanut butter dust.<br /><br />Mixes well, tastes nice, not as sweet as commercial products, but a peanut flavor that is quite pleasant.<br /><br />Only downside, once opened the peanut butter has a tendency to clump from I think moisture in the room.<br /><br />Not a real issue as it breaks up very easily and is still good to go.\n",
      "I was anxious to try this lower calorie version of one of my favorite foods. Overall, texture is fine, but taste is bland and seems to lack depth of real peanut butter. I would use this in recipes, but was sad to say it wasnot my favorite and I would eat regular peanut butter instead.\n",
      "Ihave never liked peanut butter growing up. My parents never had a lot of money and with four kids we lived off PBJ sandwiches. After you eat something over and over you begin to hate it. Now Iam 21 years old and recently starting dieting. Ihave lost 55 lbs and still losing. So sometimes when Iam going to work I want to grab a snack that will keep me full and be low on calories. I looked into those 100 calories bars and snack bags. Let me tell you the portions in those things is enough to feed a hamster. I spent the night at my friends house. We ate PBJ sandwiches. Surprising it was really good. After eating diet food for 5-6 months you can amazed how good peanut butter taste to someone who hated it for a long time. It taste like the real thing too and I donot need to go off my diet.<br /><br />If you are a calorie counter hereis a way you can spoil your love for PBJ sandwiches.<br />Two slices of Natureis Own White 40 calorie bread - 80 calories<br />Two spoonfuls of PB2 - 45 calories<br />One spoonful of Smuckers Sugar Free Jelly - 10 calories<br /><br />Total: 135 calories for a whole sandwich<br /><br />A regular PBJ sandwich would be:<br />Two slices of white bread - 130+ calories<br />Two tablespoons of peanut butter - 190 calories<br />One tablespoon of regular Jelly - 50 calories<br /><br />Total - 370 calories (ah..)<br /><br />Tell me is it worth it? Well not to me. I eat it almost everyday, Iam now a proud PBJ lover. I bought the chocolate too. But donot buy these inflated prices. Itis $3.99 on the Netrition website or $7.98 for both of them plus shipping.\n",
      "but if you go on the bell plantations website and order from there you can get four jars for 15$ so i think i was jipped off a little but it was my first time trying the product so i didnt want too much of it just enough to try out both flavors! & i love it!\n",
      "I highly recommend this product.  It is awesome mixed with yogurt!  Very easy to use and you came up with alot of ideas to make a great snack for yourself.  It is also low in fact - a real plus!\n",
      "I love peanut butter, I eat too much and itis very fattening. Itis one of the foods we have in our home all the time, therefore I eat it all the time. I have tried so many shakes, drinks, mixes, low fat this, low carb that, appetite controllers, bars and diets that I figured this couldnot be any worse, especially given the reviews. It came today and we have made one PB@ & J sammy, one smoothie and one low carb wrap with PB2. A 9 year old, a 21 year old and mom (me) love it. It tastes like peanut butter right out of the jar. We have stuck to the natural peanut butters with no added oil or sugars so the less sweet taste is perfect. If you use sweetened peanut butter, you may find it not sweet enough. Iam never going to buy regular peanut butter ever again. This stuff rocks, try it, you will not be sorry.\n",
      "This is a miracle! If you enjoy fresh peanut butter, not the store-bought preserved kind (which I like as well), then this is the product you want to be eating!<br /><br />For weight watchers, it is 1 point per serving. It tastes amazing. I thought being powdered, it would be weird. I recall reading a post about it being chalky or something, but it absolutely is not. Unless you donot know how to mix things, maybe.<br /><br />Judge the amount of water to your liking. There is no need to strictly stay with the equal ratio. If you want it creamier, use a bit more water.<br /><br />End of story: this stuff is a miracle, i love it, if you are undecided just try it - youwill be hooked.\n",
      "This powdered peanut butter is pretty good. Yeah itis not as rich as regular fatty peanut butter, but itis fine by me :) The chocolate one is my favorite!\n",
      "You donot mind losing creaminess along with the fat. It smells great but tastes quite different than my usual natural peanut butter. I do enjoy adding it to protein shakes and in my oatmeal. I just find the texture undesirable as a dip or on a sandwich.\n",
      "I purchased this product after reading a raving review of it in Nutrition Action Health Letter which is a newsletter published by the respectable Center for Science in the Public Interest (CSPI).  They recommend it for being tasty and a healthy (low-cal) alternative to regular peanut butter.<br /><br />[...]<br />(donot let the web address mislead you)<br /><br />I have eaten peanut butter almost every day for the past many decades--usually for breakfast.  The regular version of PB2 actually tastes pretty good.  In fact Iwould say it tastes better than some cheaper brands of peanut butter--you know, the oily store brands.  The chocolate version is okay, but itis not as nutty and itis not chocolaty enough to get your chocolate fix.<br /><br />However, I take issue with consuming this alternative for health reasons.  It definitely does have far less fat and calories than regular peanut butter.  However, the fat in quality peanut butter is about half MUFAs or monounsaturated fat.  This is some of the healthiest fat you can consume. The American Heart Association notes that MUFAs are associated with reducing of the \"bad\" LDL cholesterol.  A little more than a quarter of the fat is also polyunsaturated fat.<br /><br />The sugar content of regular PB2 is the same as Jif for an equivalent serving size.  The chocolate version actually has a little more sugar and a little less protein.  So you give up the healthy fat and keep the refined sugar.<br /><br />2 TBS of PB2 mixed with one TBS of water actually only yields 1.5 TBS of spreadable product.  So while you do save A LOT of calories with PB2 you donot save a lot of calories for very long.<br /><br />The bottom line is this:  Peanut butter can be a very healthy food IF eaten in moderation.  If you buy PB2, you WILL eat it in moderation because you get very little for a lot of money.  If you are trying to severely restrict your calorie intake to lose weight, there might be a place for PB2 in your meal plan.  If you just want to eat healthy, use 2 TBS of normal peanut butter at a time and enjoy it.<br /><br />Finally, a note about the cost:  3 of these 6.5 oz. jars should give you almost as many prepared servings as one 40 ounce jar of regular peanut butter.  So itis roughly 3 times the cost of Jif which is my regular brand in case you hadnot figured that out (crunchy, actually).<br /><br />Read more: [...]\n",
      "this stuff is disgusting. Im ex military which means i lived off mreis for months at a time and this crap doesnot even compare to that grade of that food. I would honestly slap any parent in the face who made their kid eat this junk. honey cant even mask the nasty taste of this garbage. PB has been round since my grandfathers grandfathers, there is a reason why the taste has never changed. Maybe people should get off their fat asses to exercise instead of changing a great thing. And no a black man did not create PB. the Mayans did 1200 years ago u f'ing fool!\n",
      "This product is very weird. I mixed the powder with water like it says in the directions and it doesnot have a good taste at all in my opinion. You can go to the companyis website and get recipes from people. I tried the PB2 in a muffin/cupcake recipe and they were delicious, I also really liked it in my oatmeal. Overall I would not buy this item again; I donot think its worth it when I can just go to the grocery store and buy regular peanut butter.\n",
      "I donot really like this product. IT tasted like dry roasted peanuts at first, but then it just didnot taste good.\n",
      "I wanted to like this since itis only 45 calories per 2 tablespoons, but itis simply lacking the peanuty flavor I expect from peanut butter.  Sad.  Iam going back to eating regular peanut butter in moderation (ie 1 tablespoon in my oatmeal in the mornings and thatis all).  Not sure what Iam going to do with these jars of PB2, maybe give to my brother in law to mix in his whey protein shakes.\n",
      "This product is awesome. It works extremely well in shakes and very well as a spread. It saves a ton of calories without sacrificing flavors! I love it in oatmeal or in peanut sauces for Thai style dishes!\n",
      "I love how this has a lot less fat and itis not processed as much as regular store bought peanut butter is. I like being able to make it as thick or soupy as I want. Iwould recommend this to any peanut butter lover. The chocolate one is great for dipping oreos into.\n",
      "Iam a peanut butter addict and trying to lose weight, so trying this out was a no-brainer.  Ihave been using both for about a month now (and yes, Ihave lost weight).  Initially, I only liked the chocolate one, though it was a tad sweeter than \"real\" peanut butter.  The plain PB2 did not taste good to me, even when I tried adding a wee bit of real peanut oil to see if that would help.  But after a month of experimenting and adjusting, I have found that mixing the two about half and half comes out just right.  If I want to use it on a sandwich, I add less water; if I want to dip fruit or veggies in it, I add a bit more water.  It has satisfied my desire for peanut butter more than I expected and I can even feed regular peanut butter to my dogs or husband without cheating!  An earlier review mentioned that 2 Tb weighed more than it stated on the label; I only found this to be true if I pack down the powder tightly, so I donot.  2 Tb seems an adequate amount for a sandwich or a snack.  I feel lucky to have found this and just wish our local grocery story would carry it (theyare looking into it).  Why only 4 stars?  The plain is not perfect, and the need to mix it each time you want some.  Iwill deal with it, though, for guilt-free peanut butter.\n",
      "I see quite a few people mentioning how this is not a good value after reconstituting it. Yes, you can reconstitute it to regular peanut butter form but.....<br /><br />You guys are all missing the point. This is not Peanut Butter thatis meant to be reconstituted, it is meant to be used in other applications where its powder form is relevant. Smoothies, yogurt...etc. Basically anything you want to add Peanut Butter flavor to without the extra fat and calories of peanut butter.<br /><br />Still doesnot serve my purposes however haha. I am usually eating 2-4 tbsp of regular peanut butter at the end of the day to fill up my calorie intake to proper levels and get some healthy fats in before Iam done eating for the night.\n",
      "I am the type of person that has been addicted to PB my whole life.  So when I saw this, believe me I had my doubts as to whether it was going to be good.  Well, I cannot say enough good about this product, it comes out just like creamy PB and it tastes just as good as the regular PB.\n",
      "Way too expensive for how much you get.  I use it in smoothies and I ordered 2 and they lasted less then a month.  Tastes good, not quite as strong of the flavor either.\n",
      "I really like the idea of this. I have made peanut butter with it and it turned out really good. I rolled homemade truffles in it, sprinkled it in oatmeal. I look forward to trying it in smoothies and cookies, lots of possibilities. I plan on taking this with me on a 2 month trip to India and use it for a quick snack. I have ordered this twice now from the same Amazon vendor and using the free shipping (not Prime)it has arrived within 2 business days of me ordering it. Very happy customer!\n",
      "Loooove, love, love this product! The only reason I didnot give it 5 stars is the small inconvenience of having to mix it first. The taste and consistency is definitely 5 stars.<br />And you cannot beat 45 calories for 2 tbs of peanut butter!!<br />Itis a little expensive on Amazon, cheaper elsewhere online, but itis well worth the money. Iam switching to auto-delivery :)\n",
      "I was taken back when my friend had this product on her counter and share this with me. Wow instant PB less fat taste just like its name I Luv Luv it!! I have told everyone I can about it. You see I am on this 90 day challenge to better health & fitness, so I need good flavor and less fat but want to change up my flavor sometimes I use a shake mix and this is perfect.  PB2 Powdered Peanut Butter and Powdered Cocoa Peanut Butter - 85% Less Fat and Calories - 6.5 Oz Each - 2 Pack thank you....\n",
      "this peanutbutter tastes really really good and just like real peanutbutter but the only problem I have is that is is wayyyy toooo overpriced! the serving size is all wrong on the label. I use only .75 tablespoon water for 2tbs powder.\n",
      "Peanut butter without guilt! I am a diabetic and this fits in perfectly with my diet restrictions.  It is great!  I mix it up , put it in the fridge for about a half hour and it is perfect for a PB&J sandwich!  Love it!\n",
      "The peanut butter is awesome.  I use it in meal replacement shakes and it tastes just like regular peanut butter without so much fat.  The chocolate peanut butter is terrible!  I made it exactly according to package instructions and used it as a spread on top of a rice cake with sliced bananas.  It was so bad I threw it away.  To rate them individually, the peanut butter gets 5 stars and the chocolate peanut butter 0 stars.\n",
      "I bought this because I love peanut butter and all the good reviews. Holy cow this stuff is terrible. I feel like I got totally riped off as it is very expensive. Maybe its good in recipes but mixed with water and eaten on a cracker its terrible. I guess Ill stick to fruit for my low fat snacks.\n",
      "I was able to find this product much cheaper on Bell Plantationis Website.  Only reason I am giving it 3 stars if for the price here.\n",
      "Am a peanut butter junkie, but hate the calories.  This item is great....just add water for reconstitute the powder into yummy peanut butter...without the guilt.\n",
      "<span class=\"tiny\"> Length:: 0:17 Mins<br /><br /></span>\n",
      "Awesome!!!! This stuff is great! I highly recommend it if you love a low fat version of PB. The chocolate version is just as good\n",
      "I have tried both, the regular and the chocolate and I think I may be the first person to prefer the regular lol. The chocolate is ok, but I am not a fan of dark chocolate, which this reminds me of. I would be willing to say that the regular is about as close to peter pan peanut butter as I have tasted and that is probably my favorite peanut butter. I will also say this, If someone made you a PB&J sandwich with this, you would be very hard pressed to tell that this was a low fat, low calorie peanut butter. I use the regular and Walden Farms zero calorie, zero carb grabe jelly for a very nice, guilt free PB&J sandwich. I am extremely pleased with the original and will buy it in a bigger quantity when I run out!\n",
      "This is a good product, but not exactly what I thought it would be.  Itis a little grainy, and not as satisfying as you might hope.  I like it in recipes especially.  I expect that it will very useful when more recipes for this product are developed, but straight up, it doesnot really have a lot of flavor punch.  Itis hard to explain, but it really is a decent product, but it just doesnot have the satiation of real peanut butter, and not because itis light, but because itis just kind of lacking in flavor.  I would probably buy it again, but not often.  As Ihave stated, itis good in recipes.  I made a pudding with it, and it actually turned out pretty good.  It was a recipe that called for cocoa, and I substituted the PB2 powder, and it was tasty.  Itis just not that good straight up.  Donot expect a healthier substitute in your PB&J sandwich.\n",
      "This is a great product. Opening up the jar, it smells just like peanut butter. The instructions on the package state to mix 2 Tbl. powder with 1 Tbl. water. I played around and mixed the 2 Tbl. powder with 1 tsp canola oil and 2 tsp of water. The consistancy is perfect and the taste is amazing! Plus, it gives me 1 tsp of my \"healthy\" oil for the day, as recommended per WW.  Great on crackers, bananas, or any other way that youwould enjoy peanut butter. Definately will be purchasing this again!\n",
      "These PB2 products are definitely a low calorie alternative if you are willing to give up some of the flavor and texture that you get with original PB. I wasnot a big fan of the regular PB flavor as it was just too different for me from regular PB, and I only used reduced fat PB normally as well. I enjoyed the chocolate flavor a bit better than the regular.<br /><br />Also, it should be noted that because you mix 2 tablespoons of the powder with a tablespoon of water, this actually creates probably half of a jar of PB in the end so this regular sized PB jars go much more quickly.<br /><br />All in all, Iam not sure I will be purchasing this product again. The grainy texture and difference in flavor, along with the fact that you have to do measuring and mixing to get your PB is just not worth it to me. Iwill take reduced fat PB.\n",
      "I havenot used this as a peanut butter replacement on sandwiches, but as a mix-in to post-workout protein shakes, this stuff is incredible! A teaspoon added to my vanilla protein shake turned it into a decadent-tasting peanutty wonder. I am so glad I found this product.\n",
      "This powdered peanut butter is awesome when mixed with water, tastes like to real thing. Much less fat. I like to use the chocolate peanut butter kind in chocolate peanut butter banana smoothies!!\n",
      "I was skeptical about this, but it really is very good! No gross chemical ingredients, but still super low fat. A great alternative to traditional peanut butter.\n",
      "I am so glad to find this product, I love peanut butter and this I can eat without guilt, I have found a new snack\n",
      "This stuff surprised me I have to say. It is really good with no fat or calories to speak of. Just mix 2 to 1 with water and you are good to go.<br /><br />This is not imitation peanut butter it is real peanuts with the oil removed. VERY GOOD!<br />Will buy again!\n",
      "These are great products for protein or meal replacement shakes!! Awesome taste and love that they are 85% less fat and calories than regular peanut butter!!\n",
      "Love them for shakes! Not bad on toast. Chocolate pb is delicious! The regular pb is good too. Less calories is always a plus!\n",
      "I love thiis stuff! Affordable and great as an addition for protein shakes? Addicted to the great flavor.  You will not be disappointed\n",
      "Ihave read so much about this product that I was anxious to try it! I basically bought it to use in baking, but the directions are for making a few tablespoons.  When did a baking recipe ever call for a  tablespoon or two of peanut butter? And if I wanted to use This in a cooked dish such as pad Thai, can I, and how would I go about doing that?<br /><br />Helpful feedback appreciated.\n",
      "This stuff is like peanut butter-flavored crack.  You can control how thick or thin you make it, so itis just as perfect to pack in sandwiches without ending up with a gooey mess by noon as it is to drizzle over ice cream.  I usually mix the cocoa flavor with a little chocolate soymilk and eat it right out of the bowl for an indulgent-tasting afternoon snack.\n",
      "I bought this product to use in smoothies and I love it.  It adds a great PB flavor without all the calories and fat.  It mixed in really well and tastes just like regular PB.  I havenot used it for anything else so I cannot give any reviews for anything other than smoothies.  I will definitely being buying more of this product.\n",
      "I purchased this product trying to cut fat and not really thinking that it would taste that good.  It is absolutely wonderful and I use it almost every day.  Thank you.\n",
      "I bought the Nutribullet and use this in my shakes for protein. Itis hard to get the raw nuts all the way powdered, but this fits the bill for me. Didnot think of the fact that you could make peanut butter with this, but cool too.\n",
      "the chocolate is much better than the regular. i also thought i would be getting four jars because this costs more than buying two not bundled together. because of this i wasted money and am not fully satisfied. product itself is decent\n",
      "I bought this to add some flavor to my protein shakes and while it does taste good its too salty for a shake. I end up feeling thirsty after I finish.<br /><br />As peanut butter it very easy to make, tastes amazing, and is low in calories. However since I started dieting I have found my salt intake to be way to high so it will not be something I can use on a regular basis.\n",
      "I was skeptical but it really dose turn into peanut butter and on top of that it delicious. I like to sprinkle it on my morning toast. I watch calories so peanut butters been off limits for a long long time but now i can eat it whenever i want. travels well too. I bring my lunch to work and on a hot day anything with peanut butter turns to soup but not this, bring the powder and add a little water and instant fresh amazing peanut butter. highly recommended.\n",
      "I love PB2. Itis a great alternative to other peanut butters and tastes just as good! My husband isnot on board with my clean eating but he will actually eat this.\n",
      "I love this stuff. I love peanut butter, but cannot afford the calories of regular peanut butter, this is a great product.  You could use it in lots of ways. I donot really follow recipes, but I love to play with my food and come up with healthy things that taste good. This stuff is the bomb diggity.\n",
      "Love it.  Im on a 1400 calorie diet and i found this to be great help.  I have 2 tbsp on 1 slice of wheat bread for<br />Snack, 85 calories total  it helps me stay feeling satisfied and its creamy.  Its only slightly thinner than regular peanut butter in consistency.  A the chocolate is really good too.\n",
      "I just bought this and was really surprised at how good it tasted. I havenot tried the recipes yet but it was good on toasted English muffins.\n",
      "I bought as a potential replacement for peanut butter that i like on apples, bagels, and in chocolate oatmeal.  It is ok for the apples,and good just off the spoon as  treat, but I don' t like its texture on bread, is fine as a lower-calorie mix-in for chocolate oatmeal.  I do very much like the cocoa peanut better one, I think more than the plain peanut butter one.<br />Cost is rather pricey, but there arenot many alternatives for this type of product.  Easy to prepare.\n",
      "This product is simply amazing.  So very good, just like regular peanut butter but with way less fat.  I am completely hooked!!!\n",
      "I bought some of this to add to my Vi shake, and I love it! Had it this morning and tasted like a Reeseis. :) Iam sold and would recommend this to anyone who is looking to add flavor without the fat.\n",
      "These are really good.  I cannot believe that these are almost fat free.  I can have the taste of peanut butter without all the calories or fat.  If only they would start making almond better this way!\n",
      "Love both the chocolate and peanut butter products!  I eat them as a dessert after dinner mainly on the nights I workout.  Ihave also added them to my protein shakes and it adds nice bulk to the shake!!  Awesome find!!\n",
      "You might think that this would taste wierd.  Itis de-fatted dried peanut powder.  But it is just fantastic.  I just stir a spoonful into my hot cereal.  Great stuff.\n",
      "I absolutely love this product!I was so excited when I found this!The great taste of peanut butter without the calories!I especially love putting this into my smoothies!I love it!!!\n",
      "This product is easy to use and great in sauces and smoothies.  Great peanut butter flavor.The chocolate peanut butter adds a good flavor to coffee hot or iced.\n",
      "I love this product.  Both the plain and chocolate flavor.  If you are expecting something that tastes like peanut butter this is not it.  It is basically dried peanuts.  It is a nice substitute for peanut butter with much less calories and a good source of protein.  I will be buying this again.\n",
      "I LOVE Peanut Butter.....and I was hesitant to order for fear these products would be a BIG disappointment....I am pleased to say....I was wrong....they taste pretty good...the chocolate one on a cracker.... is very \"sweet satisfying\"....and way less calories and fat than the real things....I will definitely buy these again .\n",
      "I absolutely love this stuff! I bought both the original and chocolate and the kids and I love it. The flavor is great almost unbelievable especially with only a fraction of the calories. No complaints here..I will surely order more!\n",
      "I simply love this powdered peanut butter dry for smoothies and protien shakes or wet for spreading on bread or crackers. Love all the calories, fat, and carbs that are cut with flavor still there.\n",
      "I am currently on Weight Watchers and love peanut butter.  When I saw this I figured I would try it.  Well the regular peanut butter is not bad but the cocoa was not tasty at all.\n",
      "Peanut butter is my downfall for any diet. So PB2 has been a God send.  I prefer the chocolate PB2. It tastes just like regular peanut butter. The regular PB2 tastes like natural/unsweetened peanut butter.\n",
      "This stuff is awesome.  I made myself a PB&J this afternoon with the PB2 for the first time.  I was munching on it and thinking it was fine; my mind wandered and I found myself thinking \"Mmm, good PB&J!\" before doing a mental double take and realizing I was using the powdered PB and finding it delicious.  Iam anxious to use it in cooking in place of normal peanut butter to add the nutty flavor without the extra calories and fat.<br />It is rather expensive, so not necessarily a good purchase if you have a peanut butter problem.  I donot eat peanut butter very often, so I expect these containers to last me a while.\n",
      "This is so delicious!  I bought both plain and chocolate and they so yummy.  What a great addition to smoothies and soft serve.\n",
      "Seriously.  Why would I, or anyone, want to eat regular peanut butter when they can have this??  The difference in calories is amazing.  It tastes soo good as well!  I tried both and I must say both are real good.  Plus since, it is only for me I actually like mixing it at the moment and keeping the rest powdered.  Seems sort of \"fresher\".  Recommended.  The taste is very similar to natural peanut butter (not that stuff that has corn syrup).\n",
      "I love this PB2. It tastes just like peanut butter and itis about a third of the calories. Perfect for adding to shakes. I will say though that you donot need as much of it as it suggests to get the flavor. I love peanut butter so I use the recommended amount. Iwill be ordering more!\n",
      "Donot expect this to taste EXACTLY like peanut butter because it doesnot.  However, it still is pretty tasty.  Itis great if youare dieting to add a little extra flavor to something (I usually have some with a banana or sprinkle a little on my cheerios).  The companyis website has several recipes which is nice too.\n",
      "This PB2 is one of my favorite things!  I LOVE peanut butter but regular PB has so many calories and being very calories conscious I never used to get any, but that has all changed.  I put a little of this in my chocolate protein shake and it gives a little umph + tastes awesome! If you are contemplating trying this out just do it, you will not regret it! And the PB2 Chocolate, WOW! Move over Nutella thereis a new kid in town!\n",
      "I like to use this stuff on a low-fat brownie I have. Itis pretty good! Gives me the peanut butter flavor. Iam not sure about spreading this on some toast or anything.\n",
      "I love it!! I am an avid peanut butter lover, but needed to reduce the fat in my diet. This is the answer to my cravings! I am excited and ordering more today! As an aside, you may have to experiment with the amount of water added to get just the right texture for your taste.\n",
      "PB2 is amazing! So much lower in calories than regular peanut butter but tastes just as good! Has a natural flavor without the oily texture. This will be the only PB I eat from now on!\n",
      "I read about this product and decided to try it.  It tastes almost as good as regular peanut butter.  Although it is more expensive than regular peanut butter I think it is worth it considering how little fat and calories it has!  I havenot tried the chocolate version yet but considering how good the regular PB2 I am confident I will enjoy the chocolate version just as much.\n",
      "I am a peanut butter fanatic.  However, I try to limit my intake due to the high calorie content (200 cals per 2 tbs)..and always go for the all-natural to avoid trans-fats.  When PB2 came around I was ecstatic.  No oil, just powdered peanuts and all you have to do is add water until the desired consistency is reached.  The best part 2 tbs is only 45 calories and you donot have to deal with all that mixing in the oil.\n",
      "I love this peanut butter! Have mixed it to spread (though it took more water than suggested on the label), as well as used it in baking. So simple to measure and just add extra water to the ingredients. Just ordered the 1 lb. size, as it looks like Iwill probably go through it faster than I expected. The chocolate flavor doesnot seem to be overly chocolatey... I used it in a snack bar recipe, but can hardly taste the chocolate flavor. But thatis OK. Iwould already run out of the regular flavor! The fact that there is less fat hardly affected the recipes Ihave made, at least that I can tell.\n",
      "Love this product! My favorite way to use it is in smoothies! also enjoy it on sandwiches. Make sure you check out the website... it has lots of yummy recipes!\n",
      "This is the first Ihave tried powdered PB, and itis wonderful! Ihave used it in granola bars and that was a big hit! Nom, Nom, Nom. Will order again.\n",
      "I could eat peanut butter by the jar. When Iam looking to lose weight this is the stuff to go to. Having to measure out the powder and water to get the right consistency keeps me from binging on it. It is also fantastic to mix into smoothies or supplement powders for added flavor. Excited about the potential other uses for this product!\n",
      "Good flavor in smoothies.  I really like the cocoa peanut butter!  A little pricey, but overall for our needs we like it.\n",
      "I am on a diet, and this peanut butter is really really really really healthy. Will buy again in bulk.\n",
      "This is a great product for those, like me, who love peanut butter but need to watch the calories and fat.  PB2 provides the great taste and texture of peanut butter but at 15%  the fat and 15% the calories. The product is a fine powder that can be reconstituted with water in a 2:1 ratio.  It also is great mixed into yogurt or (no sugar added, low fat) ice cream.  PB2 also comes in a chocolate and peanut butter flavor that makes that no sugar added, low fat ice cream into a Reeseis Peanut Butter Cup flavor.\n",
      "Donot get me wrong... the idea is great and the taste isnt bad either. My main problem is the amound of pb2 you have to use to get a decent serving of peanut butter. I could go through a container per week and its too pricey for that. Also- donot expect it to taste like Jiff pb. I liked the taste but I also eat mostly natural peanut butter so Iam not used to the sugary kind.<br /><br />As for the chocolate pb2- Again I wasnot impressed. I could barely taste the chocolate flavor and ended up just mixing in more cocoa powder.\n",
      "This has been a fabulous addition to my healthy way of eating.  I always look at ingredients to limit taking in \"other stuff\". Itis truly just peanuts, sugar, and salt.\n",
      "I love this stuff! As a peanut butter freak, I appreciate that PB2 satisfies my peanut butter craving with fewer calories. Would buy again and again!\n",
      "I really do not know what to say about these products except I enjoy mixing them in my smoothies and drinking them.\n",
      "If you cannot get enough of the peanut butter taste, this product is for you! The taste is really strong and it is great! Perfect for shakes and just about anything that is blended.\n",
      "I absolutely LOVE this product! I am a peanut butter LOVER, but unfortunately Iam also a dieter that cannot afford the calories and fat from regular peanut butter. PB2 has saved my life! The texture is a little off from regular peanut butter but still delicious, and it is FABULOUS on rice cakes and in protein shakes, etc. and definitely worth it for such a major calorie difference!! Highly recommended!!\n",
      "I was pleasantly surprised with the taste of PB2. I was a little hesitant however I am so glad I purchased this. It mixes really well in yogurt and protein drinks and is a fraction of calories compared to real peanut butter. I cannot wait to use it when camping this summer and going on long bike rides.\n",
      "Great product both kinds taste amazing and very easy to make cant be beat! low calorie especially compared to reg PB and tastes better in my opinion :)\n",
      "I love this product! It doesnot taste EXACTLY like real peanut butter but it taste great! I wouldnot eat it out of the jar with a spoon but when put on a cracker or sandwhich with sugar free jelly or in a smoothie, you cannot tell much of a difference. I love both the regular and cocoa product although you cannot tell much difference between the two.\n",
      "I made it according to the directions (2 Tbs PB2 and 1 Tbs water) for a peanut butter and honey sandwich.  I was very pleasantly surprised.  It tasted just like \"real\" peanut butter but without the oily taste.  If youare looking to cut calories and like peanut butter, I donot think youwill miss the oil.  I bought the chocolate too but havenot tried it yet.  It certainly smells the same as the plain PB2.\n",
      "Love this stuff!  Especially good for weight watchers.  Many great recipes and uses.  I just ordered a case for my friends and self to split.  If you love peanut butter but stay away from it because of the fat or WW points, youwill Love it!\n",
      "I love this stuff! If you like peanut utter but want to cut calories and fat, then you must try this! Itis worth it! The thing you should know is that the chocolate is not very chocolaty.\n",
      "This stuff is amazing! Less calories and fat than a regular jar of peanut butter! I use this for my morning protein shakes. My kids especially like the chocolate PB2.\n",
      "I purchased this through Amazon for my 8 year olds birthday cake.  She was thrilled with it and so were her friends.  After I ordered it, I received both an email and a call to confirm what I wanted written on the image and it arrived safe and sound 2 days later.  I removed it easily and planted it on the cake (store bought icing works great), put it in the fridge and it was ready to go by the time the guests arrived.  So easy!!!\n",
      "The stars arenot a fair depiction of the product as the questions donot actually refer to what it is.  The toppers look great though!  it shipped quickly.\n",
      "think about it people, you are paying $45 for  oreos cookies, There is no way in the world this is justified<br /><br />Save your money, buy a bag of brachis candy corn and bag of golden oreos (cost about $4 total) slightly melt the candy corn in the microwave, pull the cookies apart spread the melted candy corn on the creame filling and there you go you just saved $40\n",
      "Despite the huge price tag, these were worth every penny!  They donot really taste like candy corn, in my opinion. They taste more like delicious cake batter. LOL.  Yummy!!!!\n",
      "This is not what you expect it to be they are not the company to buy this from they show you one thing but when you get it  it is something else.  They charge you for a limited edition and it is not. I can get the same item for 16 dollars.  They charge 60. So Collectible Racing Books is not a place to deal with.  I am sending the item back. Donot waste your time.\n",
      "Honeyville has wisely passed on very reasonable shipping costs on this fine product making it a great buy.  I am just finishing up my first bag, which I mix 50%/50% with the Honeyville 6 Grain Rolled Cereal mix<br /><br /><a href=\"http://www.amazon.com/gp/product/B00993H90S\">6 Grain Rolled Cereal Mix - 50 Pound Bag</a><br /><br /> also available with reasonable shipping right to your door on Amazon.  I mix them into bean soup and also make a great tasting hot breakfast cereal.  I highly recommend and am thankful in the days of $4.00 plus gasoline to have such a heavy purchase delivered to my door for a total price, including shipping that is fair and reasonable.  The quality has been so high I will be trying other Honeyville bulk staples.\n",
      "I will not know how good it is until I need to use it and if things get as bad as we all think it may be a true God send Im glad I have it saved for that rainy day after every thing goes to shit in a hand basket  U never know just in case thank you God Bless i will be getting much more as soon as I can. 60 servings of Freeze driedmeats Bucket 4-pounds ready to go\n",
      "We really like this caramel.Sightly lighter than others, it doesnot get hard when poured over ice cream. Also gluten free which is good for the wife. Just a real good flavor and texture.\n",
      "Wow! This variety pack is a little expensive on here! I paid under twenty dollars for it at my local Walmart, which makes it around nine cents per mini bar. Iam going to give these out to the trick-or-treaters this year.\n",
      "Going gluten free isnot easy.  However, there are plenty of options that will get you close to eating traditional bread.<br /><br />This is not one of them.<br /><br />The cooking process is pretty accurate on the box.  The dough mix is almost pure liquid so youwill need a pizza pan.  In my case, I used a cookie sheet which was deep enough to not slosh over.<br /><br />You cook the liquid mixture for 10 minutes or so, pull it out, puncture the air holes and then cook some more.  Toppings go on last and just long enough to melt.<br /><br />The final product was almost inedible.  The dough is tough and chewy.  It doesnot cut without a knife.  Because of the cookie sheet, a pizza cutter wouldnot get the edges and we had to push so hard to get through the fake bread leather that I dented the cookie sheet and destroyed it.<br /><br />However, the taste is worse than the texture.  The herbs and the mix itself make an almost bitter tasting dough.  The taste is just awful.<br /><br />The crust crisped a little around the edges but was still tough.<br /><br />There are better options out there.  Try Udiis, Rudiis or Glutino products either as already prepared pizza or already prepared crust.  If you have a Mellow Mushroom in town, try their pizza.  They are careful about cross contamination.<br /><br />Just donot get this one.\n",
      "This pumpkin pie syrup is absolutely delicious!  It made my lattes taste amazing.  Just like liquid pumpkin pie!  I will purchase this product again and again.\n",
      "I recently moved overseas and was missing/craving my pumpkin spice latteis from the states. I searched for a pumpkin syrup to make my own. This is PERFECT. Tastes delicious!! Just the right amount of pumpkin and spice. Not overwhelming as long as you add slowly to find your desired level. I have a feeling I will be ordering more from Amoretti!! Added bonus... they include a pump with the bottle. Other brands make you buy the pumps separately. Definitely worth the cost. Thanks so much!!!\n",
      "I refuse to spend $4 regularly for a coffee, but I LOVE the flavors of fall. So, a couple weeks ago, I found myself in need of a pick-me-up and the specialty coffee shop inside my Target had the sign out advertising their Pumpkin Latte. I couldnot resist. It was delicious, but the next day, I wanted another one. I had to look for an alternative! I read the reviews for the Amoretti Pumpkin Pie Syrup and figured Iwould give it a try. I love that it doesnot have so much sugar in it. I can use splenda, stevia, or agave and feel like I am making a better choice for my body and for my wallet! Ihave been having a pumpkin spice coffee every morning, and it makes me happy. When I want to be a bit more decadent, I add in a dollop of cool whip and sprinkle cinnamon on top. Yum!!!\n",
      "I regularly get the Starbucks coffee syrups for my lattes because they are easy to get and have great flavor. I hoped to buy the pumpkin spice syrup from Starbucks however they are not sold at any store.  So I found this after reading the reviews i was hopeful as one person tried the pumpkin spice and said it was horrible then they tried this one and enjoyed it.  I was excited to bring in the fall with a pumpkin latte this morning.  However i was surprised. my wife warned me that it was bitter and did not taste good.  I didnot believe her and made a latte following the instructions on the bottle which is nice. 2 pumps (it suggested 1.5) and I didnot taste much just some bitterness. so i doubled it and put in 4 pumps. it tasted nothing like pumpkin pie that i have made or bought in a store it was bitter and had a spice flavor to it.  it also tasted nothing like the Starbucks pumpkin latte i have had in the past, i tried drinking it to see if it got better but i could not do it. so i tried the syrup by itself and it was gross! bitter and nothing like pumpkin pie.  not sure if i got a bad batch or if this product just is horrible.<br /><br />Edited update.<br /><br />I just got off the phone with Amoretti and remade myself a latte with some new information.... First the Starbucks syrup that i use has 19 grams of sugar in every pump Amoretti has 4 grams.  This is significant if you have a sweet tooth and if you try to watch the calories.  In the 4 pumps of Starbucks syrup for my latte I am getting 76 grams of sugar with Amoretti i got 16 grams of sugar.  If you have a sweet tooth like me that makes a huge difference. Second the syrup is more of a syrup than sugar water like Starbucks so it is full of flavors.  When I put 4 pumps because it wasnot sweet it did make it bitter because i put in way to many spices.  so when i remade my latte (total 16 ounces) I put in 2 pumps, 1 at first and didnot taste anything so i added another one, with some agave nectar for my sweet tooth.  When i tried it there is no bitterness just pumpkin pie flavor that i can taste :)  So lesson learned read the directions and donot think every syrup is made the same.  The Amoretti is healthier and full of flavors, to much and it will be bitter, follow the directions around 1 pump for every 8 ounces.  Amoretti had great customer service when they called and explained the difference in the syrup. I assumed it would be like Starbucks and was wrong. Right now i am enjoying a pumpkin latte with the Amoretti pumpkin syrup.  They have a full line of syrups and i look forward to trying the CREMA DI syrups which have a creamer flavor which i like, cannot wait for them to arrive.\n",
      "I anticipated receiving this syrup to ring in the fall season we donot really get here in Florida.  I tried it this morning, making a homemade latte with my Tassimo machine and using 2 pumps of the syrup.  My first sip was very spicy and not sweet at all.  I decided to add a bit of stevia to help make it sweeter.  It helped, but it seemed to taste pretty bitter.  I put some whipped cream on top, and then it was easier to drink.  I am unsure if Amorettiis 'Pumpkin Spice' syrup would have tasted better, but the reviews were more favorable to this product.  Will have to keep experimenting and see if I can make it work better...<br /><br />****UPDATE****<br /><br />Received a call from Amoretti after writing this review.  Unusual, I know!  He (Paul) gave me some very helpful information regarding proper use of the syrups and to know that they contain a LOT less sugar (and artificial ingredients) than the other syrups available.  I have done much experimentation and have found a great balance that I love!  The syrup is also delicious on ice cream, vanilla yogurt, and apple pie!  I have tried several other products since, and have to say, they are just as delicious and the quality is unsurpassed!<br />Thanks, Paul, for your superb customer service, and to Amoretti for running a great American company that stands behind their product 100%.  Well done.<br /><br />p.s. I did forget to mention that I got a handwritten note thanking me for being a customer.  Love that.\n",
      "This is a very tasty syrup!  Ihave recently started making my own espresso drinks at home and decided it was time to start collecting different flavored syrups for the times that Iam looking for a more \"specialty\" drink.  This Amoretti syrup is quite tasty (if you like pumpkin pie) - it has a very nice pumpkin taste combined with some of the spices that one would expect.  It is quite potent - one pump in a standard 8oz cappuccino/latte (it comes with a pump) and you have a drink that will blow away the Starbucks equivalent (especially when one uses decent/fresh beans, a good grinder, etc).<br /><br />Iam quite happy with my purchase and I highly recommend it for those looking for a unique flavor...\n",
      "Firstly I am very pleased with the packaging and size of the syrup-it even comes with a pump which really excites me. The actual flavor of they syrup is different than I expected but that is only because I am used to the cloyingly sweet pumpkin syrups of Dunkin Donuts and Starbucks. This syrup says it only has 4gms of sugar per pump THAT IS NOT SWEET AT ALL, and a pump is a lot-I only put about 1/2 a pump in my latte; due to this the syrup comes across as less sweet but the spice adds a nice flavor to the coffee. I like that is has less sugar and if you want more of a pumpkin spice flavor then add more pumps or add a little regular sugar. I would buy again and I cannot wait to try all of the flavors.\n",
      "I received this product a day earlier than the estimated shipping date and was excited to try out my favorite coffee flavoring. Unfortunately, when it comes to this syrup I taste nothing but extremely strong spice, that gave me a bit of an upset stomach.<br /><br />*EDIT*<br />The same day I posted this review I received a call from Amoretti to discuss my review. I was given advice on using the syrups and had products sent out to try! Absolutely amazing customer service! Just amazing!\n",
      "Iam not surprised that my first Amazon review revolves around coffee.<br /><br />I was spending way too much money on chain brand pumpkin spice lattes, so I decided to give this product a try. I received it yesterday, and 4 cups of coffee later I think Iam hooked. Personally, I like that itis not too sweet so I can control how sweet I want it with extra sugar/sweetener. I think, in terms of flavor intensity, 1 pump goes well with 8-10oz of coffee. Add in 1-2 packs of sweetener and it has a very similar taste to coffee shop pumpkin spice.<br /><br />I was torn between this flavor and pumpkin spice, so Iam curious as to the flavor difference between the two. I might get the holiday syrup pack, and if I do, Iwill update my review with a comparison.\n",
      "Read the reviews and have more of a savory palate so the low sugar and spicy elements had great appeal. Followed the instructions, we make our lattes with a Nespresso machine and did 1.5 pumps into a Grande Starbucks cup (16oz), filling half the cup with soy milk (dairy issue), the 1.5 pumps of the Amoretti syrup, and then two Lungo pours from the Nespresso. So much better than a Starbucks Pumpkin Latte (which we find too sweet, if weare stuck getting one we do only 2 pumps, not the Starbucks standard 4). Subtle pumpkin with spice elements of cinnamon and cardamon. Looking forward to trying their other products. Didnot know they also make olive oils and martini mixes.\n",
      "I have seen lots of reviews about how bitter the taste is with coffee, may be I should have listened to them....not happy with the result.\n",
      "I agree with other reviews regarding the very high spice levels in this syrup.  I normally like a lot of cinnamon, nutmeg, allspice, etc but this syrup had too much for me.  The syrup smells like it will have more pumpkin flavor, but that is not delivered in taste.<br /><br />Amended review 10/25/12 : This company is better at customer service than any other consumer food company I have dealt with.  Perhaps it is due to the strong customer orientation in the part of their business selling high end products to bakeries, food service operations and food companies.  I got a call the same day as I filed my original review.  On that call I learned that their syrups are more concentrated so I need to make sure I go easy on the pumps.  Because they are concentrated and less sweet,  they have only 35 calories per serving which is much less than other syrups and makes it easier to use on my greek yogurt.  I also learned they are working on a third version of a pumpkin syrup which says a lot about how responsive they are to consumer feedback.  To make sure I understood they make high quality products, they also sent me some samples of their other lines which were all very tasty.<br /><br />So if you see a product from Amoretti that you are interested in, give it a try.  It is probably very good.  If it turns out the flavor is not to your liking, the company will make it right as they did for me.\n",
      "I purchased this product on Amazon.com based on some of the positive reviews. It was well worth it! I like pumpkin spiced coffees or lattes in the fall, but donot like paying the coffeehouse prices. And frankly, I was tired of the inconsistent flavoring added to my orders -- some would be bitterly spicy or have little pumpkin flavor at all.<br /><br />The Amoretti Premium Syrup solved those problems. By following the instructions for adding to coffee *exactly as written on the bottle*, my coffee beverages taste great. [This was noted in several of the reviews here, which was very helpful.)<br /><br />This is a quality syrup, and the free pump that comes with it is very convenient.\n",
      "We bought this for our office and have just been floored at how good it is. Itis making every cup of coffee we make a warm, tasty delight. EVERYONE loves it, including people not crazy about flavored coffee. Totally not the weird chemically taste you sometimes get with syrups, this one really does capture the essence of Pumpkin Pie. Next time weare ordering an entire CASE.\n",
      "This is great syrup, not too sweet (like many other syrups) with the perfect balance of pumpkin flavor and pie spice flavor.  If you are looking for something similar to that chain coffee storeis fall favorite at a fraction of the price, give this a try!  As an added bonus, it actually works much better with soy milk than whatever blend they use, a big plus for those of us who cannot drink regular milk.  Iam looking forward to trying other Amoretti flavors!  Thanks guys!\n",
      "Does not taste like pumpkin. Tastes like overpowering spice just as several other reviewers have stated. Unfortunately, I will be returning this.\n",
      "Agreeing w/other reviewers. This product should not be sold for this price. It is available from the source at a much lower price.\n",
      "I love Amazon but for this particular product you shouldnot purchase on this website. If you go to Nespresso online a you can buy a capsule for around $.50 a piece, bringing the same number of capsules offered here (50) to a total of about $25. Youare spending almost twice as much here vs. buying direct.\n",
      "I was looking for a second Nespresso machine when I ran across this and similar ads for capsules. I couldnot figure out if I was missing something in the description...perhaps 100 capsules for $55? No, 50 capsules for this price. Why would anyone in their right mind pay TWICE as much for the same thing you can get directly from Nespresso? Oh by the way, the coffee arrives the next day without having to pay for premium shipping. I have been buying directly from them for almost four years and have never had a problem. Amazon you really need to take these people off of your store! Some unsuspecting person will buy a machine on this site and buy coffee at a 100% mark up. They will not be happy when they find out how they got ripped off on the capsules.\n",
      "Like everyone else, buy the capsules from Nespresso.  I get mine in two days and this is the same cost as 100 capsules from Nespresso.\n",
      "If youare buying your Nespresso cups from anyplace that is not selling them for less than 0.57, youare getting ripped of. The cups are $0.57 from the Nespresso site, these people are simply hacks who buy it at the price online and then sell it to you at a 100% profit.\n",
      "This is  great variety espresso pack. It has a few different types from light, medium , and bold. If you just got your machine this is a great way to sample some.\n",
      "arrived on time, impecable packing and great price.<br />It was a new product and contains everything that I wanted it<br />No complaints at all, very satisfied!\n",
      "Over priced for what you can get from the manufacturer directly and also have a much larger selection of different coffees - as well as the new chocolate flavor - do not understand why anyone would buy USED coffee - by its nature coffee cannot be USED\n",
      "Go to nespressois website immediately. The capsules are .57 a piece instead of .80.  I cant believe that amazon cant get a better deal on these capsules. The nespresso website has a huge variety. Love the coffee....cant believe the amazon prices.\n",
      "Yes, I also got ripped off when I purchased this overpriced product. Letis be clear that Nespresso coffee is good. But I was suckered into purchasing this set of overpriced coffee capsules when it appeared as discount pricing together with a nice capsule stand. It was implied that I would be saving money, but as has already been adequately pointed out, the actual price here is double what the manufacturer charges.<br /><br />What disturbs me is that I tried to cancel this order before it was shipped. I have never had problems with Amazon before, but every time I tried to cancel (I tried at least 6 times), I got an error message that said to try again. Ultimately, the order was shipped (from Arizona I think) and I got it OK. But I cannot recommend this price or supplier.\n",
      "This coffee is available directly from Nespresso at .56 cents per capsule...$5.60 per sleeve????? This does not make sense...this item should not be sold here/\n",
      "I have not received the nespresso capsels as yet.  I am out of my old ones and anxious to have the new ones arrive.  I would appreciate your looking info this for me.\n",
      "One month and 1 day has gone by and I still havenot received my order. I realize the nespresso pods are great, Iam just saying this company sucks!\n",
      "I love the quality and especially the variety of flavors of coffee they are offering. The bad part is that it is too expensive on Amazon! I bought it the first time from Amazon and it ended up costing me close to $1/shot. Now Iam using Nespressois website and the best part, they have an App for phone that is really easy to use!!!\n",
      "I ordered decaffinated not the variety.  Also why are you so high compared to Nepresso pods. You are robbing us.\n",
      "The product is great.  Unfortunately, the companyis extraordinarily difficult website makes purchasing Nespresso capsules all but impossible.  That difficulty requires me to pay 40-60% higher prices by forcing me to buy from 3rd party providers like Amazon or Ebay.  Nespressois marketing strategy has created a BLACK MARKET in their Nespresso capsules.  I called their 800 phone number, it hangs up on me.  There is no customer support email to whom I can email my complaint, and their postal address is in England.  STAY AWAY FROM THIS PRODUCT.  IT IS FAR MORE TROUBLE AND EXPENSE THAN IT IS WORTH !!!<br /><br />David Hall<br />Austin, TX\n",
      "We have used pretty much every coffee brewing method, but I think for home or office use the Nespresso is best. We also have and use a Kurig. For larger cups of coffee we use it. But for the small tasty concentrated cups (expresso) we always use the Nespresso. The variety pack has a good variety of blends; coffee tastes fresh. In combine with the machine (we bought one without all the bells & whistles), it is simple to use and clean. My office bought one of the nespresso machines; then I bought one for home. It came very well packaged and with good set up directions. To be a perfect experience, the capsules would be more readily available -- you will find the machines, but not the capsules at many places.\n",
      "I was satisfied with those coffees but they seem to be a little expensive....I love it but still found those expensive..<br />I wish those could be priced down a little\n",
      "Coffee is nice but way over priced.  I was especially concerned by many of the revieweris disappointment with this Israeli production.  I personally prefer NOT to buy anything from Israel, so it is good to know the source of the product.\n",
      "I like the fact that you get all these varieties in one package.  Sure beats having to buy a lot of each flavor!\n",
      "This is the best coffee available for a one cup serving, we got this for our office along with the Espresso machine and we are saving $$ on waste and enjoying much more the coffee.\n",
      "I stopped bying the Nespresso capsules here- it is a lot cheaper and faster on nespresso.com!<br />The coffee is the best- donot like to drink any other coffee anymore!\n",
      "To any buyer out there!!!<br />Please go to Nespresso directly and pay $5 per sleeve (each sleeve contains 10 capsules)<br />Why they think to charge that much is an absolute craziness.<br /><br />Please take this product off Amazon.com<br />I have never thought anyone should worry about being ripped off on Amazon.com<br /><br />This makes me very sad.\n",
      "This was a Christmas gift for my son and he totally loved the variety. They were packaged well and easy to use.\n",
      "GREAT COFFEE VARIETY FOR ANYONE WITH NESPRESSO MACHINES HIGHLY RECCOMEND FOR EVERYONE, THE FLAVORS ARE AMZING AND GIVE YOUT HE CHANCE TO TRY THEM ALL\n",
      "I purchased the capsule via amazon as I do most of my purchases this way.  These ended up coming from is isreal. They were send in a flimsy bag and everything was crushed and unusable AND I waited 7 weeks for them.  Not acceptable and I can not believe this seller is on amazon.\n",
      "I have not yet received this shipment althought I made a claim few weeks ago. Please advise status or send a new shipment.\n",
      "this are perfect capsules mix for the daily use, came in perfect quality and form. you can used in any nespresso machine\n",
      "These pods cost way more than ordering through Nespresso. I didnot know that and paid about twice the amount I should have. Also it took 3 weeks to ship. When I ordered through Nespresso it took 3 days. On top of all that, many of the pods were crushed. Some didnot even work they were so crushed. In the end, donot buy the pods here. Just buy them from Nespressois website.\n",
      "Go to Nespresso.com and get them for half the price: DON'T BUY THESE. No reason for them to be available on Amazon; it is deceptive.\n",
      "While I am very pleased to see Nespresso machines available for sale on Amazon, it is very counter-Amazon that this supplier is being allowed to offer Nespresso coffee capsules on Amazon at such inflated prices and slow shipping times. One is supposed to be able to go to Amazon for better pricing and excellent order fulfillment/delivery.<br /><br />This supplier charges twice the amount that you will pay buying directly online from Nespresso (and from a much larger assortment as well!). Also, Nespresso express ships them in a matter of days versus weeks from this supplier.<br /><br />Nespresso coffee is excellent! The Nespresso system is one of the best additions I ever bought for our kitchen. However, while it could make sense for you to buy the machine here on Amazon, please do not buy the capsules from this supplier.\n",
      "This is not a good deal in any way, shape or form.  You can purchase the pods directly from Nespresso for 1/2 of the price and you will receive them within 2 days of your order.  If you buy these, youwill be paying way too much!\n",
      "I juat placed my first order through Nespresso.  An assortment of 50 capsules of four different flavors was $36 including shipping.<br /><br />Most pods are 55 cents each.  Some are 62 cents.  Minimum order is 50 pods, so for their BEST blends that is $31 for the pods plus $6 or $7 shipping.\n",
      "Seriously the best rub you can buy for pork ribs. Back or spare ribs. Tried Rendezvous, Corkyis, Memphis Championship BBQ \"Magic Dust\", Lucilleis, and my own recipes that I got from the net (technically not my own recipes. Not saying the ones I tried arenot good. Just saying that this Competition Rub is the best in my opinion. Just try the smaller one but I guarantee you will be ordering more.\n",
      "These crackers/crisps are very dry and not very savory. They definitely bear the taste of the garbanzo beans that are baked into them (they kind of taste like hummus in solid form), but other than that, there isnot really any flavor, not even from the garlic or salt on the list of ingredients. These definitely need to be serveda s pictured on the package: with some kind of flavorful topping, like feta cheese -- and definitely also with a drink, at least a glass of water. The crisp alone will leave your mouth completely dry. I get that itis supposed to be healthy, but it definitely disappoints in the taste and texture department.\n",
      "IT HAS THE BEST CRUNCH<br /><br />I LOVE IT ITS GREAT I SERVED IT AT A FAMILY PARTY AND EVERYONE LIKED IT FIBER ONE ROCKSSSSSSSSSSSSSSSSSSSSSS!!!!!!!!!!!!!!!!!!!!!!\n",
      "Do anybody on this site ever check what is written in product description?<br />Ingredients list:Vegetable cellulose, magnesium stearate (vegetable source), silica.<br />and pray tell,what is working as a diuretic?\n",
      "I recently bought this product from a festival. My dogs love them i bought a couple of bags and 3 sticks.<br />my dog sits by the ice box and waits for me to open it.heis hooked and so am I something that is very good for my dog and made in the USA. the sticks are very nice for walks he knows i have it and obeys my every command. I really give them 6 stars  the only thing is the price on amazon is very expensive you can buy the on the Ruff sticks website for 1.50  I hope amazon will catch on so id buy them here and group them together and get free shipping<br />  thanks chris\n",
      "I think the person equates gluten with wheat. Gluten is also in other grains, especially rye. See [...] This product is a good whole grain food, however to call it Gluten free is just plain wrong (and I wonder if dangerous to those with celiac disease).\n",
      "The product description is very accurate.  I received my item in a timely manner and the items were well packaged and still frozen.  The portions are large and are very easy to prepare in the oven.  And, of course, the Chicken Cordon Bleu has a wonderful, savory taste that isnot skimpy on either the ham or cheese.<br /><br />If I could rate 4.5 stars I would, simply due to price. However, donot let price stop you from ordering....these are delicious.\n",
      "After purchasing these steaks for myself. I found then to be so easy to store and very tasty when BBQwould. I decided to share them with my family and friends as gifts, they just loved them.\n",
      "These steaks came out really good, but the bacon doesnot have much flavor and doesnot seem to add to the steaks.  The size of the steaks are perfect though and I would recommend it unless you are looking for a lot of bacon flavor.\n",
      "The 12 pack is a great gift idea because Omaha Steaks packages them in two boxes of 6.  This makes it cheaper than the 6 pack if you are buying more than one quantity.  Omaha is always fast at shipping too.  Though Ihave had other Omaha Steaks products, I have only purchased these as gifts, so I cannot comment on taste.\n",
      "I had purchased the other ShaunWhite White Mint limited edition and loved it so I thought I would try this flavor. I donot like it as well, but that doesnot mean that it isnot good, just not to my liking. I hope there is some of the White Mint flavored gum still available because I will buying more of it!\n",
      "I have a large breed and a small breed.  The smaller has an extremely sensitive stomach and throws up every food we try.  Finally we have found something that is for our older dogs and great for our little guyis stomach!\n",
      "My 3 large breed dogs really loved this dog food. I have \"Buddy\" an older Blue Heeler, \"Rocky\" a Black & Tan coonhound and a very large Pit bull named \"Hutch\". Theyare not too picky by any means, but, they really cleaned their bowls when I fed them this dry food. I had previously been feeding them all the regular Active formula and they loved it too. Iwould highly recommend most of the Science Diet dry dog foods. My aunt raised and showed Dobermanis and all she would feed was Science Diet and she had several champion Dobermans. If itis good enough for those champions itis good enough for my dogs!<br /><br />The only thing I can find fault with is that if you are on a strict budget and have more than one dog, you will find this food a little on the pricy side. Which is unfortunately, why I no longer feed it to my dogs.\n",
      "I am obsessed with anything & everything pumpkin and pumpkin-related. A friend let me know she saw these cookies at her grocery store. I found them at my local Walmart.<br /><br />If you like the taste of pumpkin, seek out these cookies because they do taste like pumpkin. Iam guessing the cheesecake part of the cookie is what I originally thought were white chocolate bits. Great combo. Itis a shame they have to be a limited edition item because they should be available year round.<br /><br />Tastes really good.\n",
      "These Cookies are beyond tasty- They are heavenly & decadent! They have a cakelike texture with the perfect amount of pumpkin spices, and a cheesecake flavored white chip that completes the experience!  And, It is such a GOOD thing they are only available during the Holiday season (and I pray they keep it that way)or Iam telling you- I would be as big as the broadside of a barn.  That is no joke. Just one small cookie (approx. 1 oz with a 3\" diameter) contains a whopping 130 Calories, 4.5 grams of fat (2.5 saturated) and 21 grams of carbohydrates (12 of those sugar carbs).  So, just like everything else yummy in this world, this tasty tempation should be enjoyed in moderation. Thank you Pepperidge Farms for this tasty treat during the Holidays, and my waist, hips and behind would appreciate it if you keep it as a special Holiday only treat. :)\n",
      "Ordered these because I was super excited for new flavor. HUGE disappointment! Absolutely no candy corn flavor. The price is outrageous. Save your money, or if you really want to try them, go to Target, they are available, exclusively, there.\n",
      "I rarely buy spice blends - I mean, why would you buy 2 ounces of spices for 6 bucks? Thatis crazy! I have most of the spices at home already and I could combine them in the same way. But. This company (recently renamed but the same stuff) has a way with how they combine the flavors. Heat Wave is one of the best, but the other salt-based varieties are also amazing, like Oh Zone and Splash.<br /><br />After Ihave bought and used them up, MAYBE I would take the grinder and add back in my own raw spices and take it from there. But I doubt it. I just donot think it would have the same effect.\n",
      "Just bought a french press so went looking for some coffee to use in it.  Found Foolis coffee and liked that they had all sorts of flavors.  Came across the Bacon coffee and thought it sounded interesting.<br />The coffee smells great when you open the bag.  Perfect grind for the french press.  Made a batch and it is really good quality/tasting coffee.  My girlfriend even liked it and she had her reservations about it.  Only negative for me personally was that the bacon flavor was extremely subtle.  It was there but subtle.<br />My girlfriend thought is was a great delicious cup of coffee.<br />I thought the same but thought it needed more bacon flavor thus the 4 stars\n",
      "They deleted my previous review so I am writing another one.  This lemon verbena is garbage!  So many stems that it is impossible to make a decent cup of tea with this product without sifting through it to remove the woody material.  The leaf material was old and turns to dust in your fingers.  They asked me to remove my negative post because they didnot process the product, they just sold it to me!!  Huh????????? Itis your job to know what youare selling.  Send me a call tag and refund for the verbena and Iwill tell the community you did both.  My review of the product quality will remain.\n",
      "Ordered these because I was super excited for new flavor. HUGE disappointment! Absolutely no candy corn flavor. The price is outrageous, I thought I was ordering at least a box with four packages of cookies. Save your money, or if you really want to try them, go to Target, they are available, exclusively, there.\n",
      "Easy to use just add to a bottle of water or your pitcher. Can make just one cup if you wish. Put it in the microwave for a few seconds and you have a cup of warm tea or add ice and you have it cold. Taste Great!!!!!! Love this tea!!!\n",
      "This item is good but way overpriced from this vendor.  You can buy the mix directly from Trader Joeis for $2.99 (selling here for $17.95).\n",
      "My package was mailed out 1st and received on the 3rd in perfect condition. The tap fit the BIB with no trouble or leaks and is very easy to operate. I had a few questions; I emailed and received answers fast by the owner. The 1 gallon box of syrup is much smaller than I thought it would be, about the size of a medium cheese cake box. What I do is drain syrup into a washed out Sodastream container and store it in the fridge. The Sodastream syrup cap has 3 circles in it, bottom, second and top. The top circle is 2 oz. so you would fill it to that 3 times just remember after carbonating you water you remove 4 oz of water or the 1 liter bottle will over flow when adding the 6 oz. of syrup. 1 gallon BIBs are a good way to test if this is right for you before paying high price for the 5 gallon BIBs.\n",
      "I never thought Iwould say that about tea coming from a \"K\" cup! However, the favour is wonderful, and the color is pleasant; not too pale and not too dark.<br />I am really enjoying this purchase!<br />Thank you so much for bringing it to me.\n",
      "This kcup was pretty tasty once you get past the weird smell while brewing.  It was described as a bit \"funky\" by some coworkers.  I tried it out anyway and was impressed.  Itis very smooth and has a nice pumpkin flavor.  It gets better as it cools.  The clove flavor is only slighty noticeable which is a very good thing.  The flavor was pretty close to pumpkin pie.  This would mix really well with a good french vanilla kcup and some cinnamon.  The flavor is light years better than the Green Mountain pumpkin spice kcup. It took me a year to get through that box.  I threw out the last few.\n",
      "This is a LOT of money.  I can purchase this same thing from Dunkin Donuts store<br />for $11.99. I do not know who came up with this price but it is totally over priced.<br />The coffe is great!\n",
      "I normally prefer Starbucks pumpkin lattes to Dunkin donuts' but these kcups are amazing!  Wonot have to make my daily Starbucks visit!\n",
      "This is the ultimate in flavored coffee. Excellent body. Enjoy it while you can. But purchase at a Dunkin Donuts if at all possible since buying elsewhere is artificially high.\n",
      "Sooooooo delicious!!!  This coffee is so good that itis almost orgasmic!  I have tried a lot of coffees and none have ever beat out DDis Original Blend...NONE.  And now I can buy it in K-cup style; it is a little pricey, but you can best believe I will scour the web for a better deal.  This stuff beats Starebuckis Sunrise Morning Blend--hands down!!!\n",
      "Green Mountain has a reputation for making great coffee and I routinely have my favorites shipped to me.  But this blend is way too weak for me.<br /><br />My favorite coffee is <a href=\"http://www.amazon.com/gp/product/B004OLKF6K\">Barista Prima Coffeehouse, Italian Roast, 24- Count K-Cup Portion Pack for Keurig Brewers</a> and when I want something slightly weaker I drink <a href=\"http://www.amazon.com/gp/product/B000HZH8NA\">Timothyis World Coffee, Extra Bold Rainforest Espresso, K-Cups for Keurig Brewers, 24-Count Box (Pack of 2)</a>.  For the extended family, however, I keep medium, mild, decaf, and flavored coffees available.  The house favorite for medium is <a href=\"http://www.amazon.com/gp/product/B003TC7WN4\">Wolfgang Puck Coffee, Breakfast in Bed (Medium Roast),  24-Count K-Cups for Keurig Brewers</a>.<br /><br />I brewed this k-cup strong and tried it first without cream.  It had a definite coffee aroma but the taste was weak and unusual (not bad but grain?).  I then added 1/2 my usual cream and that actually made it worse.  I suppose if I drank it together with some sweet pastry it would taste fine but, by itself, itis just not appealing to me.<br /><br />I suggest, if you need extra vitamin C and E, you buy a better tasting coffee and drink it with a good multivitamin.\n",
      "Make no mistake, you must try this delicious Kramer Wing Rub!  I have used all three spices liberally on my chicken and also a wide variety of other meats and vegetables.  It provides a succulent taste without any of the vinegary tastes of many wing rubs or sauces.  I cook mine on the grill and they always provide an excellent dish for any party or sporting event!!\n",
      "Krameris Gourmet Rubs are excellent!  Theyhave gotten my husband to cooking again!  Good on wings, chicken, pork chops, vegetables, you name it!  Iam ordering lots of bottles for my hubby to give at Christmas time to all the people he works with at the office.  My girlfriends are getting some \"Easy Pickin',\"  too!  Enjoy!\n",
      "Krameris 3 Pack Wing Rub is the best deal! We use them for wings, ribs, and marinades. We like to toss Easy Pickin' onto some salmon and onto the grill. Mmmm. <a href=\"http://www.amazon.com/gp/product/B009EF4UYE\">Krameris Wing Rub (Easy Pickin')</a>\n",
      "Krameris easy pickins' are absolutely yummy!  I use them in everything including salsa, guacamole, chili, soups, and especially meat rubs.  Order extra because youwill run out fast!\n",
      "I was given the 3-pack by a friend of mine and I have to say that this person is definitely my best friend for life. I should begin by stating that I LOVE chicken wings - I try them everytime I see them on a menu. Since trying these rubs, however, especially the Finger Lickin', I just cannot bring myself to try them any place else.  The rub is perfectly spicy, perfectly smoky and leaves you craving more. We grill up these bad boys at least once a week in our household, but I have also marinated whole chickens, spiced up some grilled shrimp and even added to popcorn. AMAZING. The levels of heat are, shall we say, pretty extreme. The Easy Pickin' is for those of you that like a teeny-tiny amount of heat in your dishes (think poblano), Finger Lickin' for those a little more adventuresome (think jalapeno) and for those of you that ski the Black Diamonds, well, you really should try What Was I Thinkin' (think Ghost Pepper, times 4). The first bite I took made me kinda giggle like, hey, I got this. I defeat you Ghost Pepper. Then....it....hit. I have never sweated, cried and guffawed all at the same time. It was, truly, an unreal experience and Iam ever so grateful I tried it.<br /><br />I sure hope you give these a shot. You will truly be impressed with the flavor sensations!!!\n",
      "Krameris Wing Rubs are great for wings and much more. I used \"What Was I Thinkin\" to spice up my olive oil to create a spicy seasoning for all purposes. I also use it on Pork Shoulder which I slow smoke for a tasty pulled pork. Wings are great with this rub and you can grill them, get the same great hot wing taste without all the calories. Highly recommended.\n",
      "Krameris Wing Rub is incredible.  I love all three flavors, but my favorite is still, \"What Was I Thinkin'!\"  I put it on chicken wings, chicken breasts, and pork chops too!  I havenot tried the other Kramer products, but my friends say they are terrific.  As Melvin says, \"Keep on Rubbin'!\"\n",
      "Although it says \"Wing Rub\" donot be confused, I put this on everything! Everything!! One of the best on the market!! I have ordered many for family and friends (the three pack) and they all love it! Canot get enough of Kramers! You have to try it for yourself. The website has amazing recipes as well. Itis the gift that keeps on giving, until you have to order more!\n",
      "These biscuits are the greatest of all possible biscuits. They have jam, they have icing, they have coconut that makes you cough a bit sometimes because you inhale too quick. My only regret is that they are difficult to find in the USA.<br />Rest assured though, I have not forgotten them.<br />I love you... Iced... Vovo...\n",
      "Ihave always been a Starbucks coffee drinker--the bolder the better. Sumatra, Komoto Dragon. Then I got my Keurig coffee maker and began to experiment.<br /><br />Ihave tried most of the available coffees, including Starbucks K-cups and Caribou and even Folgers. I mean, you never know, do you? Then I tried this coffee. The extra bold. And I will not go back.<br /><br />I have a cabinet full of other coffees that Iwill offer guests when I entertain. Maybe they want to experiment, too. But for me, this is THE coffee. To think I might never have found it if I hadnot bought my Keurig machine.\n",
      "I usually try to find these in stores, but have had no success so far this year.  The basic price shown is not that high for two packs of twenty packages (a total of 40 half ounce packages), but the price becomes higher when the shipping charge is added.  They do make a unique Halloween treat, and children like them.\n",
      "Check around. There is a very large markup on this product.<br /><br />I like the idea of giving out animal cookies instead of so much surgery candy. Kids get too many sweets these days with corn syrup in everything.\n",
      "My wife picked this coffee up to try something different. I have never tasted anything like it in my life, (in a bad way.)  Do yourself a favor and go with an original flavor.\n",
      "These brownies are just terrific.  They taste the same as the Little Debbie regular iced brownies do, but theyare in the shape of a bat.  Very, very cute, particularly if you have children that are fond of the little guys, but they taste very, very good.  These are particularly nice as well for the chocoaholic in the family - the icing is all chocolate and without the sprinkles.  They also make their regular Cosmic brownies in fall colors, if youwould rather have those instead of the bats.  Just a great brownie, a house favorite.  Highly recommend!\n",
      "I love little debbie products and generally I consider them a great value. But $200 seems  a wee bit steep.\n",
      "I saw these cookies advertised in a magazine and thought they would be great.  None of my local grocery stores had them so I bought them from Amazon.<br />They are definitely NOT worth the almost $7 per bag price.  The bags have 8 cookies in them.  They are tasty but not that tasty.<br />Save your money and buy other Pepperidge Farm or other brand at your local store.\n",
      "This coffee is sooo good!  I was worried it would have an artificial taste and I usually donot like flavored coffee.  But I do like the pumpkin spice latte at Starbucks and I was hoping this would be similar.  It is even better!  It has a great pumpkin pie spice taste and when you add half and half and splenda it tastes like a dessert. It is a really good treat for a cold day.\n",
      "I received this starter in short order. It came complete with directions. I just followed the directions and it worked fine. About the fourth day this starter actually had a kind of honey like smell to it. The starter even smelled good.<br />Along with the starter was a recipe to make real artisan bread.Again, I just followed the recipe and the bread came out really good.It really looks and tastes like true artisan bread.<br />Thank you so much for this starter!\n",
      "I have been experimenting with baking my own bread, and have come to find out it is as much an art as a science.  I have gotten some starters from acquaintances, but did not like the taste.  I found this one online and decided to give it a try.  It worked great and tasted great.  Just like the package said, I added water and flour, and it was ready to use in a week.  I have the back up in the freezer, but am hoping to make this one last.\n",
      "Ihave been drinking Silverwater for a couple of years now and am very excited that it is available on Amazon.  Itis the first thing I drink in the morning and the last thing I drink at night.  Love it!\n",
      "I bought these to make homemade vanilla.  The quality of beans was very good.  Very \"meaty\" and full of beans.  It was also received very quickly and they were well packaged in a vacuum sealed package.  Would buy from this seller again.\n",
      "This is a great thing especially on a cold day.  It has more sodium than some things but the low calories and no fat is really nice.\n",
      "I absolutely LOVE the pumpkin spice latte they serve at Starbucks.  My friend told me about the Via Ready Brew Pumpkin Spice packs.  While there is no nutmeg on top this stuff still hits the spot (and I can also add my own nutmeg).  Also I donot have to drive 10 minutes just to get some, wait in line, etc... I can just heat up a small pan of milk on the stove, add the Via Ready Brew to my mug, pour, mix and enjoy!  Also it is cheaper than going to Starbucks.  Their grande size latte is about $4 whereas one packet of Via Ready Brew from Amazon comes out to $2.68 for a serving.  Also, depending on your mug size you can add more or not as much milk so the flavor is to your liking.  Iam going to stock up while I can on this :)\n",
      "I purchased 5lb of this for my girlfriendis cake making business. The consignment arrived well packed and on schedule and I thought the cost to here was very good. My girlfriend said she will easily get through this batch in about a couple of months so I may have to order a larger batch next time. I do like to keep with organic products as well.\n",
      "This stuff is delicious, sweet and fresh-tasting - no strange aftertastes like some brands (*cough* Vitacoco *cough*)- and the only ingredient is coconut water!  No preservatives, stabilizers, thickeners, or sweeteners. Iam hooked.\n",
      "The description for this item clearly says it is fruit (it even warns about the seeds) and that it is organic. What I received was mangosteen powder that is \"sustainably grown\" and raw rather than organic. The powder is fine I guess, but Amazon or Sunfood needs to change the description here to be accurate.\n",
      "Baked several of thier mixes in their machine and it will not rise.  Sadly all were yucky.  I was hoping for a real bread like product.  I could not recommend this to anyone.\n",
      "Get artisan style bread at home, fresh from your own oven. Amaze the family.<br /><br />You need to allow it to raise in a warm spot for 25 minutes. It doesnot swell up much, but makes an adequate sized loaf.<br /><br />Thereis no kneading involved. Just mix the cup of hot water with the sugar and yeast they provide. After 3 minutes, stir in the flour mixture and stir with a spoon. The dough is stiff and you place it on a greased cookie sheet. Shape it around the edges to be a round loaf or an elongated one.<br /><br />It goes in the 400 degree oven for 20 to 25 minutes. Cool on a rack for 5 minutes. So allow one hour from start to finish.<br /><br />Itis great with soup. This one had a tasty Italian herb flavor.\n",
      "Great BBQ sauce with a hint of sweetness and some smoky flavor. Not to smoky though. You can taste some of the bourbon as well. I have only used it for pork but Iam sure itis good on everything.\n",
      "I did a little research about these candies because I was invited to try them free. On their website youare able to compare a bag of Peanut M&Mis, their #54is, and an Orange.. (or compare regular M&Mis to the #41is in this review, and fruit). I was glad to see the list that they donot use partially hydrogenated oils (Trans Fats)...which I strictly ban in our house (but so do most candies nowadays, Corn Syrup is not a big priority for me as I donot consume much of it (and candy is a rare treat), ....GMOs (iam not sure if the M&Mis do (the side by side comparison should have shown us what they were up against. What I didnot like was that they failed to mention the saturated fat (which is at least around 3-4 grams...), AND the threw fresh fruit into the comparison. Why are you comparing candy and fresh fruit? This makes consumers think that your product is \"Healthy\" when in fact it is still candy, and should still be enjoyed in moderation, like all sweets that are heavy in fats, saturated fats, and sugars.<br /><br />Also, the #41 candy mentioned was 8 grams less per bag, which makes up for some of the lower amount in calories per bag, among other things. Iam glad to see the lower amount of overall sugar, which is a plus. But really, as someone who has struggled with weight all their life, this is still candy, not health-food. Moderation is key, regardless of GMOis, or high-fructose corn syrups.<br /><br />As a taste test, my husband and I decided to start with the #54is first. Ultimately these became our favorite. But we only each had a couple pieces and decided to call it quits. The #41is were fine. We just didnot feel like the candy was worth finishing. And we didnot finish it. This candy might satisfy someones sweet tooth, but if iam looking for a sweet treat, I know plenty of other things worth the splurge!<br /><br />Please, please, please Unreal, stop comparing your candy to fresh fruit!! :)\n",
      "My kidis love these! Two of my children are allergic to food dyes so this is a great alternative for them since they cannot eat M&Mis. However, there is no way I will ever buy them here as I can get them in stores for under $5 for the same size bag. I hope this is a typo and there are several 10.7 oz bags included in this offer.\n",
      "This is a very welcome product.  It is so difficult today to find any candies that are made without GMOis.  Having said that I must also say that I was astounded at the price listed.  I purchased these candies in a local supermarket for $3 a bag.  That is THREE, not thirty [when you add shipping].  Unrealis website lists many stores that will soon be carrying these products.  They are great everyday type candies I would recommend to anyone but not at the price listed.\n",
      "i just noticed that my local cvs pharmacy started carrying this brand, and iam so glad i did, they that better than the comparable milkyway bars to me and iam ALWAYS happy to find any food without preservatives and additives! candy will never be healthy, letis face it but iam glad i can indulge without chemicals now :)\n",
      "Less sugar, more protein, etc. I wondered, \"Is it edible?\" OH,YEAH! This variety is kind of like a Mars Bar, which would have been my junk choice. There are a couple of other varieties that I havenot gotten to yet, but this one was truly impressive. I got my first taste from a cash register display @ CVS. Iam hooked! A bit of history: a determined, candy-loving 12 year old loses war over Halloween candy with his stubborn, health conscious mom, the ideas was born to \"un-junk\" candy bars by removing the trans-fat, high fructose corn syrup, artificial colors, GMO ingredients and other nasty things. Common sense reigns st last! Guilt free yummy!\n",
      "If you love Snickers  you will love these!!!  No Gmois  not bad sugars  what more can you ask for??  I will be buying these  all the time now!  Also the M&Ms  ones are awesome too!  donot hesitate  buy these\n",
      "Very good product. 5 star.<br /><br />But the high cost from moonlittree is absurd and unjustified.<br /><br />A bag of a dozen should not cost $26($31+ with s/h). Not ever.<br /><br />Look elsewhere for this great product.\n",
      "Delicious and beautiful cookie platters! Love the bakery and so happy they decided to offer online ordering. Love this cookie tray to bring to dinner parties or any special occasion. If you live in the area, you HAVE to try their cakes. I had one at my baby shower and EVERYone commented on how amazing it was.\n",
      "I absolutely love this bakery, their cookies are so awesome. Definitely going to order some more in the near future!\n",
      "This is an awesome chocolate, with a nice crunch, but whatis with the price?  I bought this same exact thing for $3.99 at my local Trader Joeis yesterday.  $11.99?  Seriously?\n",
      "I was very unimpressed with these almonds.  They are very clovey and have a musty taste.  If you are expecting a sweet treat, you will not get it with these almonds.  Save your money and make your own!\n",
      "I agree with the other reviewer, these are a bit much of Cloves, however, if you have ever had pumpkin pie before, and liked it, than you will like these.  They are lacking the sweetness you might of thought, yet looking at the ingredients there is not much sugar in them.  They have a really good taste though, as pumpkin pie does.  These would be great in or on a pumpkin pie with the added flavor, or even added to some ice cream.  if you have a sweet tooth, than perhaps these are not for you.  If you like the musty and pungent taste of pumpkin and pumpkin pie.  Enjoy.\n",
      "My family and I have been going to Circois Pastry Shop for years now.  They have amazing and delicious cakes and pastries.  Their rainbow cookies are the best rainbow cookies I ever had!!!  I am also an amazon shopper and Iam so excited to start my shopping for cookies.  What a great and convenient idea!!\n",
      "My purse always has ready to eat snacks in it, but I find most fruit hard to take with me. These things are fantastic! First off, I love pineapple. This package contains individual 90 calorie packs that are the perfect snack on the go. The only thing I have to complain about in regards to these is that theyare hard to find locally, so Ihave been ordering them online. I cannot wait to try the other fruits they have available, I definitely recommend these for those who want a snack thatis not high in calories and sugar.\n",
      "These are a pretty spicy. The taste is very similar to the \"Flamming Cheettois\" but with the tangy taste of lemon.\n",
      "Ihave known about Toe Buddies almost since my dear friends started the company.  Itis been a true and utter joy to watch this idea of humor and quality chocolate come together.  What Jackie & Jeff donot know is that this chocolate has changed my life forever.  Iam never ever going to be able to buy cheaper chocolate again - even some of the more expensive fancy stuff isnot near the quality of these Toe Buddies - and that isnot even getting into how funny the shape is.  My first Amazon order is being sent to my running coach.  Getting this woman (me) up off the coach and jogging deserves quality chocolate and what is funnier than Toe Buddies being sent to my jogging buddies.<br />Being able to purchase and ship through Amazon has just made my gift giving so much easier.\n",
      "There are some days that I just need a pic me up. Thatis usually when I turn to something chocolatey, usually in the form of a cookie or cupcake. I signed up for the Cookie Athlete \"Cookie of the Month club\".<br /><br />I have loved getting gourmet cookies shipped right to my front door. I live in a small town, and I donot like store bought cookies. I know cookies, and when they are gross, they arenot worth the calories, but all in all I have been impressed with the cookies I have received (Iam on month 3 now!). I did count my cookies....I got between 1 dozen up to 15 cookies per box so far, but they have been worth every penny!<br /><br />To be honest, Ihave been thinking that this might be a fun gift to give all my girlfriends for Christmas! They are so hard to buy for....who doesnot love cookies?\n",
      "From the label on the Cadbury Screme Egg: \"ALLERGY INFORMATION: MANUFACTURED ON THE SAME EQUIPMENT THAT PROCESSES PEANUTS/TREE NUTS.\"<br /><br />The eggs are tasty, nonetheless, although milk chocolate is not my favorite.  Also, FYI, the filling is mostly white with a band of bright green running through it.\n",
      "This cappuccino is very good and tastes almost as good as Starbucks Latte Primo, T-Discs for Tassimo Coffeemakers, 8 Count Packages (Pack of 2). The cream foams up well in the Tassimo machine. The only difference in taste between this Cappuccino drink and the Starbucks Latte Primo is that the coffee flavor is slightly stronger in the Starbucks product. Also, with the Cappuccino you brew the coffee first and then use the milk disc. With the Starbucks Latte Primo you brew the milk first then the coffee.<br /><br />Overall, I think this is a bargain buy. As long as you are not looking for a slightly stronger coffee flavor, Iwould suggest purchasing this instead of the Starbucks brand as both products use expresso coffee and milk discs.\n",
      "Some product work needs to be done on the discs. I have wasted several of the milk creamers that would not \"read\" properly resulting in milk leaking all over the tassimo machine. It did not happen with Starbucks packages.\n",
      "I love coffee. Usually I would not recommend Maxwell House as I consider it a \"supermarket brand\". I was very surprised with the quality of this cappuccino. My wife loves it too!<br /><br />Contrary to instructions, we brew milk first then the espresso, this makes it look very nice, especially on a transparent cup. The taste is smooth and velvety, with low acidity and aftertaste. You can buy extra espresso T-Discs separately and brew an extra shot if you really like your coffee bold (like I do).<br /><br />In about a minute, you have a cappuccino that is as good as that of many coffee shops. Yes, it is not nearly close to making my personal list of best coffees I have tested, but you cannot beat the convenience and cost. We also use it a lot to entertain guests at our house. Works great with any dessert.<br /><br />Instead of buying them one box for 6 coffees at a time, this 5-pack from Amazon really saves us money. Each set comes with 16 T-Discs: 8 espresso and 8 milk. So this 5-pack will be good for 40 cappuccinos.\n",
      "The seller shipped very quickly and with secure packaging, such that the product all arrived frozen solid. Shipping obviously was a little high, especially for those of us used to having the Amazon Prime shipping deal; but it was reasonable compared to other sellers I had looked into.<br /><br />The actual product packaging is also well thought out. Each rectangular box (which stacks well in the freezer and conserves space) contains two vacuum-packed plastic bundles, each of which contains three bison patties, separated by butcheris paper. The outer boxes are sturdy enough to support and stack well without getting limp from moisture etc., and the inner plastic wrappings appear secure and so far havenot leaked (a problem Ihave had with many meat products in the past few years).<br /><br />Being someone who has consumed a lot of bison, I was a little dubious upon seeing these patties described as \"80/20\", which generally means 80% meat and 20% fat. My concern there was because bison has virtually no fat; my understanding is that one cannot really even find enough fat on the animal to add it to the ground meat to up the fat percentage for burgers. So I suspected (and this may be true) that this product has some beef fat added to it. The patties also hold together well (unusual for ground bison) and they donot have quite the normal dark red color, either.<br /><br />Still, upon cooking the patties, they appear to be pure bison texture-wise, and they taste like pure bison, if a little fattier than normal. They did release a fair amount of liquid (again abnormal for ground bison), so I do think something \"extra\" has been added. However, this is probably due to the fact that people expect \"burgers\" to have a certain cohesiveness and slightly fatty taste, and regular ground bison is actually difficult to form into a burger due to its leanness. Anyway - I wasnot overly concerned by the end about these issues, although I think such things should be clarified in the packaging information as well as on any websites where the product is being sold. I have encountered \"100% pure bison\" labels on products that had at least 10% beef added. Ihave even encountered claims stating that the \"law\" required them to add beef (which is nonsense). Anyway; could be Iam mistaken and these really are 100% bison; but in the end, after cooking, it appears that is what you are eating, even if beef fat was added.<br /><br />The burgers shrank a bit in cooking, but thatis normal for burgers; they remained a good size and I have enjoyed them. I would probably buy them again, even though I am still a little unsure about the mix issue.\n",
      "I recently discovered this mix on a trip to Florida and am delighted that I can order it through Amazon now that I am home.  If you like shrimp and you like crab and you like bloody mary drinks, you will love this.  Iam ordering a lot  - some for me, some as gifts!\n",
      "British Tea is undoubtedly the freshest and finest green tea. It comes in a variety of flavors including natural, strawberry, lemon, mint, jasmine and Earl Grey.My favorite is lemon. The flavor is lively, warm and comforting. it was a true pleasure not only to taste the superior blend and quality but also enjoy the protective antioxidants. I have no hesitation in giving it a highest  rating\n",
      "I always make green tea with loose leaves but decided to try these tea bags to speed things up. I was skeptical but still a little curious about the flavors as I have only tried flavored black tea before. I am happy to say that the tea is delicious and I am switching to tea bags for good!\n",
      "Best tea is grown in Sri Lanka and wanted to get this tea in US for a long time. I did not know this tea was actually from Sri Lanka and was surprised to find that it.<br /><br />Anyway, tea is superb. Would strongly recommend it.\n",
      "Scrumptious and morish is the only way to describe this product. When it first arrived in the post I couldnot wait for breakfast to come round again so we had it for dessert at dinner time. The cinnamon is very evident in this product which is great because I love cinnamon. My husband and I both loved it and weare about to order some more. Buy it, you will not regret it.\n",
      "My husband and I have tried many olive oils, both imported and domestic, pricey and inexpensive. Trader Joeis California Estate Olive Oil is by far the best tasting. If you have access to a Trader Joeis store, it is less expensive there.\n",
      "The spices tasted harsh and raw. There was a weird taste, maybe too much asafoetida. No comparison to simple homemade rasam! I tried to improve the flavor by adding cilantro....still the \"rasam\" still did not taste good. Next I added a packet of MTR ready to eat sambar and a small eggplant, some minced carrot, a diced potato, a few string beans and okra... And more cilantro. Now the rasam/sambar was passable but would have been a lot better if I had made it from scratch. All this took a lot of time which defeated the point of using a ready to eat packet!  I like the MTR spice mixtures but NOT the ready to eat!\n",
      "While on vacation to Hawaii I fell in love with the 7D mango brand. Compared to the other dry and hard mangoes out there in the market, these mangoes retain the mango taste fairly well and are soft to the bite. Ihave been looking to buy these mangoes for quite a while but most of the listings were overpriced.\n",
      "Ihave been stuck buying the only other overpriced 7D dried mango listing on Amazon for quite a while now. I stopped ordering a while back since it was too expensive to do so, but with this new listing offering these my favorite mangoes at a reasonable price, I guess itis back to healthy snacking!\n",
      "I snack on these delights on the road, in the office, and basically wherever and whenever I have time. Theyare simply so delicious and the fact that itis made out of real fruit makes it a healthier alternative than snacking on cookies or biscuits.\n",
      "We bought this tea for our office. Everyone seems to love it. I tried a few flavors and they are delicious. Will make both the black and the green varieties available at the office in the future.\n",
      "All the flavors in this package are very authentic. I had them out for a Tea party at my home and every single individual had a variety to choose from, which they enjoyed.<br />These would also make great christmas gifts for tea lovers!!!!<br />I sure am buying more.\n",
      "I have a Keurig in the office for guests (and I drink a cup occasionally, but usually my caffeine consumption is happening in the car on the way to work.) Now, I like dark roasts, and the famous \"burnt flavor\" of a lot of Starbucks blends is not to everyoneis tastes. Some people like a light, aromatic, slightly acidic blend and Veranda is just that.<br /><br />There is a faint \"woody\" taste that I can detect but it doesnot detract from the light flavor. Milk or cream make this even milder and if thatis how you like your brew, you may well like this very much. I keep some on hand and when we ask guests \"do you prefer a light or a dark roast coffee?\" itis surprising how many people donot like the ink-black French Roast that I typically drink (or the even darker Italian Roast.)<br /><br />Itis all in what you like. So if you make coffee for guests, a few of these may be a welcome cup for the light roast folks.\n",
      "This is a really great tea. Sweat and very flavorful with a hint of vinilla. Itis my go to drink every day.\n",
      "This coffee surprised me as I have tried so many different K cups and some are very good but most do not truly make a a cup of coffee at a strength I prefer. This one DOES and you can taste the bold, rich, strong coffee that I prefer over lighter weaker roasts and especially K cups where you cannot adjust the amount brewed. This one is rich enough that I only drank one strong cup of coffee vs. my usual two in the evening. I loved it and will buy these for my morning coffee on the weekends! Eight O'Clock coffee is one of the least expensive blends that has great flavor and you cannot go wrong with their beans, ground coffee and now the K cups! Enjoy!\n",
      "I used to use 8 o'clock coffee, both regular and dark, in my standard drip pot. I also have a Keurig but havenot found a coffee k cup I liked (my wife uses it mostly, with half-caff), then I found the 8 o'clock in a k-cup and itis great. Maybe not as fine as the drip pot, because you can adjust the strength, but still well worthy and Ihave reordered. Iwould like to try the dark version but amazon wants too much more than the standard so forget it.\n",
      "I got hooked on Wild Tiger while deployed to Iraq in 2009-2010.  Iwould buy it by the case from the little Iraqi store on Forward Operating Base Warrior in Kirkuk... Thank God, someone is finally supplying it.  It tastes like Smarties candy and it works!  The energy is definitely there.  The taste isnot terrible, like a lot of energy drinks... Itis a little pricey, at 30 bucks a can and 13 for shipping... But get some friends together, chip in and see whatis up.\n",
      "These are really gross. They taste like 20 calories worth of chocolate and peanut butter covered cardboard. I would not recommend this large of a box unless youhave tried a smaller box or sample and liked it first.\n",
      "My wife and I use this everyday in our dinners.  The crystal is a clean white finishing salt and with 33%lower sodium then table salt and 2% of our magnesium and calcium it is super healthy.  Ihave used it in my water during workouts (just a little pinch) for a good electrolyte boost.  iam a big fan of this product and honestly cannot recommend it enough.  It reminds me of a higher quality fleur de sel.\n",
      "I love the taste of this salt.  It works in all my recipes and is wonderful on raw veggies like cucumbers and tomatoes.  I was very happy to learn that it was also healthy for me. It is in large chunks however, so you have to grind it if you are using it in baking.  I used a mortar and pestle and it worked easily.  I think itis cool that 2% of the profit of this salt goes to the Dolphin Project.\n",
      "After trying this, I thought it was amazing and tasted great accompanying a typical dinner. Since I donot consider myself an expert in the world of wine tasting, organic olive oils, etc, I figured that this was just my average Joe opinion and personal preference. However, my opinion was more than confirmed at a recent get together with friends. We have a \"tradition\" of get togethers / bbq with the same set of 8-10 friends periodically and the menu of what we serve stays consistent for the most part per our \"tradition\" (e.g. fish, meat, baked desserts). The only thing that changed recently was that we incorporated this olive oil into everything from the fish to baking(having used different kinds including other organic brands in the past). Letis just say that at first bite (from people that have tasted the menu many times before), we were asked what we changed. The general comment was that altough the guests could not pinpoint exactly what it was, the flavor was much richer than previous times. We of course responded that there is a secret ingredient, but knew that this olive oil did the trick. This will definitely be part of the ingredient list going forward.\n",
      "I am a stay at home mom of two small kids and am always looking for good organic products to cook with for my family.  I came across this one and was so thrilled! My son likes to eat foods with flavor and this oil enhanced the taste of my pasta dish while still being healthy. My son ate it all up!  I cannot wait to use it on more dishes!  I would definitely recommend this product!!  It is also excellent at the end of the day, once the kids are in bed, to use as a dipping sauce with some bread and your favorite glass of wine.\n",
      "I decided to try this product after searching for some organic products online that could be stocked in my kitchen and easily incorporated into my everyday cooking ... I have been on an 'organic' kick lately, making a conscious effort to choose healthier organic products for me and my family which includes 2 young children.  I love making different sauces, salads and mixed vegetables and have now used this olive oil to do so.  Let me say, I LOVE IT !  You can definately taste the difference.  I had never tried olive oil from Spain, I found that this particular one has a nice finish to it.  I felt it really enhanced my dishes nicely.  I used this for \"dipping\" some nice warm Italian bread too ... I thought it was fantastic!  I wish it were more readily avilable in stores... I havenot been able to find it in any local market yet.  So, thank you to AMAZON for having this product just a click away from my door !  Would highly recommend this product and would purchase it again.  Just ordered some other products (sundried organic veggies) that were available on amazon from this same company ... will post a review for those soon!\n",
      "I heard so much about this Chicago Mix popcorn from people who visited Chicago I decided to see what all the fuss was about. When I saw it on Amazon, I had to try it. It lived up to all that I had heard. I could not stop eating it! I have recommended it to many others. It makes a good gift for friends or co-workers or a special little treat for yourself.\n",
      "Whenever I visit Chicago , I have to  stop by Garrettis popcorn shop and pick up some Chicago style Mix. It is the best popcorn that I have ever had. I am so glad that Amazon now sells it so I can order me some  whenever I WANT !!!\n",
      "My kids used these for their science fair at their elementary school and won second place. My kids especially enjoyed watching the leaves grow. We kept it growing right on our kitchen counter so we could note changes in growth daily. Super fun experiment.\n",
      "I bought this for my elderly mother who loves flowers. These are very low maintenance and just last week she told me that they had bloomed\n",
      "Our parents were very pleased with what they received. Thanks for sending us such high quality flower bulbs. We are really happy and will order some more around Christmas\n",
      "A friend of mine recently planted these Christmas Blooming Amaryllis and they looked so good in bloom! I knew I needed to have some so I bought these two bulbs and planted them. I grew the flowers with care and now they are in bloom and look great! Iam so glad I purchased these bulbs because my garden looks so pretty now! I have already gotten tons of compliments from my other neighbors about how good my new flowers look. These flowers are great to accompany any garden!\n",
      "Last year I ordered the Candy Cane for the holidays instead of going with the traditional poinsettia, and this little addition was the talk of the family reunion.  So cheery, so warm, so full of life!  Thank you!\n",
      "Cost was great, delivery was fast, and the flowers grew rapidly. I love being able to grow flowers indoors. People always thing of outdoor gardening but what gives me the most joy is growing flowers inside this time of year.\n",
      "Makes a delightful gift for friends and family who enjoy doing things themselves . The blossoms were cool looking and long-lasting.\" Believe me when I say that even those without green thumbs are guaranteed success.\n",
      "I recently had the set of Apple Blossom Amaryllis' shipped to my aunt, and when the flowers started to bloom, she was speechless.  The colors were so gorgeous that she ordered more to have an entire room filled with them.  Thank you for the great bulbs!\n",
      "This Trader Joeis product is good quality.  But buy it straight from TJis.  This retailer selling this product for twice the price that TJis sells it for is reprehensible.  Shame on you!\n",
      "I gave these bulbs to the receptionist at my local elder home that I volunteer at, and we have all enjoyed watching these flowers bloom from leaves to blossom.  Everything about the order was perfect from the checkout to its arrival to its growth.  Thank you, and Iwill be ordering more when the holiday gets closer.\n",
      "I tried this after reading the ingredients which include sweet agave, and an anti-oxidant extracted from \"Porphyra yezoensis Ueda\", a type of seaweed commonly made into seaweed crackers or \"nori\", and l-carnitine.<br /><br />The effect was noticeable and with a quick onset, but without the increased blood pressure normally associated with stronger energy drinks.<br /><br />The flavor is excellent with no hint of bitterness.\n",
      "The most watery and tasteless pinot noir on the planet.Cali tools must be brain dead to give this a 90 rating,obviously shill rated.With all the bargain priced euro wines out there you would have to be pretty stupid to fall for this shill rated drainpour.\n",
      "I usually drink Green Machine but I really wanted to try Blue Machine and...<br />YUMMY!!!<br />Blueberries.<br />Blackberries.<br />Apples.<br />And a banana.<br />Throw in just about every B vitamin, some vitamin C and E and you have a winner.<br />Delicious and good for you.<br />Recommended.\n",
      "I have purchased several other Amaryllis from this seller, but none of them compare to the Thanksgiving Orange Amaryllis.  The color is amazing and adds so much life to my living room.\n",
      "My neighborhood recently decided to create a neighborhood garden and that we would all have our own section. I decided to get something bright and cheerful that would stand out, so I found this and purchased the bulbs. I planted them when we started the garden and waited. When the flowers bloomed they looked so good! MY section was instantly envied by all the other women in my neighborhood. This flower is very pretty and can brighten up any garden!\n",
      "....my true love gave to me, a Christmas Blooming Amaryllis Collection.  And even after the holidays have come and gone, I still get the pleasure of dancing in its glory!\n",
      "I was a bit hesitant to buy this tea due to the low price. But, the truth is that this is some very high quality tea at a bargain generic price.  We have spent 3 or 4 times as much for bags of less quality.  This tea has excellent flavor and aroma, perfect for a good, strong cup of tea.  Ihave also noticed that this tea brews much quicker than other brands.\n",
      "I am an avid tea drinker and enjoy my tea warm and cold, depending on the mood.  This green tea mix is some of the best Ihave had.  It dissolves quickly and really goes down even quicker!  The only green tea Ihave had that tasted this good was at coffee shop in London.  I actually remember talking to the properitor at the time asking her if there was any way she could send me some of her tea, she said no : (.  When I tasted this tea for the first time, it took me right back to London, wonderful!  If you enjoy mixing your own tea and adding your sweeteners, this is the tea for you!\n",
      "My wife and I have been using unsweetened iced tea for years.  Itis great if youare watching your sugar, however it is rather difficult to find an instant iced tea that is absolutely pure, without any sweeteners, flavorings, or additives.  We sometimes add stevia powder to sweeten it up and it tastes absolutely delicious.  This tea mix specifically is now our favorite.  Wehave tries many brands, which many of them we also like, but this is the best we have found. The taste is good, it dissolves easily, and it is pure.\n",
      "Any product by My Personal Pantry is so delicious! We love it! My kids ask for the pancakes all the time now! And it is inexpensive enough that we can actually afford to buy it! We can get 6 cans for 5 bucks more than the other brands. I love this stuff! Cant say it enough\n",
      "Ihave been using Fat to Skinny Zero since it was first introduced. Itis the first non-sugar sweetener that actually tastes like SUGAR! Itis a remarkable product - I would not steer you wrong. There is absolutely NO AFTERTASTE! It doesnot give you a tummy ache like some sweetener products can, and the food prepared with it tastes like it was made with regular sugar. My mouth is SO HAPPY!<br /><br />I use it for candy, cream-cheese cake frosting, beverages, cakes, desserts - anywhere regular sugar can be used. I keep a bottle in my purse and use it on the road as well. (Donot leave home without it!) Itis a keeper!\n",
      "This sweetner is so great. A little bit goes a long way. I have used several differnt sweetners in the past. This sweetner is by far my favorite.\n",
      "Fat to Skinny Zero is a wonderful sweetener! I use it in everything from baking to sweet tea. As the bottle claims there is NO aftertaste. It offers all the sweetness of sugar without any guilt for those counting calories or carbs. The price is better than other similar products I have tried... and it is tastier! I go through about a bottle a month. It is small enough to carry in a purse. Anyone interested in this should also check out the Fat To Skinny books. I have found so much success with this life changer! :)\n",
      "Zero sweetner is the BEST I have ever used.One drop in<br />my cup of coffee is all it takes. I use it all the time!<br />No after taste what so ever.\n",
      "Great product not too expensive easy to use. Ships quickly.<br />Easy to bake with. Please check out the fat to skinny book.\n",
      "I have been using this product a bit over six months now and absolutely love it!<br />I use it in almost all dishes and beverages (hot or cold) that could use sweetening.<br /><br />Unlike most that can cause digestive problems, Fat To Skinny Zero does not.<br />Plus, it does not have a weird aftertaste!<br /><br />When you buy this remarkable stuff, remember that a little really does go a loooooooong way!!!\n",
      "I have been using the Fat To Skinny Zero sweetener for almost a year now.  It is the only sweetener I ever use in my morning coffee, and I would never use anything else.  I used to use Sweet N Low, but there were too many stories about side effects.  Some of the others donot taste that bad, but have higher carb counts.  ZERO is the only one I have found that tastes great, is safe to use, AND has zero carbs.  With that combination of benefits, itis the only one I ever use.  And even though I use it literally every day, a single bottle lasts me about 4 months.  I lost 80 pounds using the \"Fat To Skinny\" way of eating, and this product is a great way to stay on that track.  Highly recommended.\n",
      "I love this sweetener.  I use it to replace sugar in everything. It has no funny aftertaste, and it is so easy to use.\n",
      "LOVE, LOVE this sweetener!!  I use it in all my baking, my unsweetened flavored DD coffees, our unsweetened fruit teas, hot cereals - anywhere you use regular sugar.  No calories, no carbs, no tummy problems, no aftertaste, no kidding!!  A pork/kraut recipe called for apple juice, which I didnot have - I substituted ZERO drops mixed with apple cider vinegar, and no one ever suspected!!  One drop = 1 tsp of sugar so it lasts a long time - I keep one at home and another in my purse/car/office...\n",
      "Packets of powdered sweeteners usually have a little dextrose (aka sugar) in them, but liquid sucralose has no sugar whatsoever. The squeeze bottle is small enough to take along to restaurants in a handbag! The taste is perfect, with no aftertaste.\n",
      "What a wonderful product! Itis perfect to use in baking or anything you need to add sweetness to.  I am a diabetic, and like most folks had trouble controlling my blood sugar even with medication. That is until I found the low carbohydrate lifestyle of Fat to Skinny and the help of Fat to Skinny zero sweetener. I have almost made it to my goal weight, stabilized my blood sugar, come off of all my diabetes, cholesterol, and blood pressure medications all the while still getting to enjoy my desserts. How great is that!!  I notice no aftertaste but the best part no tummy issues that some sweeteners can have. I used to love to use Splenda® (or any of the store brands) in packets or bulk powder form, but unlike those this has no added fillers to add carbohydrates and to spike my blood sugar. This little bottle holds the equivalent of 6 lbs. of sugar and is so easy to just throw in my purse to take along with me. I would  recommend it to anyone if you are looking to reduce or replace sugar in your diet.\n",
      "This is what I use when Iam baking instead of sugar.  I use it for my cakes, whipped cream and for anything that needs a touch of sweetness.  You donot even realise that the sugar has been substituted.  Zero calories, zero side effects and easy to carry with you.\n",
      "I have been using this product for 4 months now and I will never go back to any other sweetener. It taste amazing and I use it in everything I would normally use \"sugar \" in . What a wonderful replacement. !!!\n",
      "FTS Zero is the best sweetener I have ever tried! No aftertaste ,no stomach issues and the bottle lasts forever as you get a potent dose with just one drop!\n",
      "You have to try this sauce to believe it! It starts out a little sweet with honey then your taste buds become alive with flavors of sweet onion, garlic, whiskey and a mesquite smoked flavor then just as you are analyzing all the flavors, about 20 seconds in, you get an awesome habanero kick that comes up in the back side of your mouth, that slowly rises in heat about 1 stage hotter than their <a href=\"http://www.amazon.com/gp/product/B009SASBCW\">Sweet Whiskey Habanero</a> sauce, but is in no way overwhelming and leaves no bad taste in your mouth. Simply perfect!! I cant wait to try their <a href=\"http://www.amazon.com/gp/product/B009SCMUOA\">Smoked Tennessee Maple</a> sauce next!\n",
      "I bought this Hazelnut Paste (Nocciola Spread) at a local shop in Palm Cost, Florida. The taste is excellent and healthier than Nutella.\n",
      "Purchased this product at a local store in NY and my kids and i love it. Its a quick easy meal. You can put in a toaster oven on toast for 6 min. and its ready to eat.<br />strongly recommend\n",
      "I purchased this to send to my son whois away at college. It was delivered right to his dorm room with very fast shipping. He loved it so much he called me to thank me, and sadly, he hardly ever calls me anymore! If you want your kids to call home, and have some good snack to get them through midterms then send them this.\n"
     ]
    }
   ],
   "source": [
    "import re\n",
    "\n",
    "for phrase in dup_ds['Text']:\n",
    "    \n",
    "    # Exceptional short forms\n",
    "    phrase = re.sub(\"won't\", \"will not\", phrase)\n",
    "    phrase = re.sub(\"can\\'t\", \"cannot\", phrase)\n",
    "    \n",
    "    #general short forms\n",
    "    phrase = re.sub(r'n\\'t', 'not', phrase)\n",
    "    phrase = re.sub(r'\\'ll', 'will', phrase)\n",
    "    phrase = re.sub(r'\\'d', 'would', phrase)\n",
    "    phrase = re.sub(r'\\'re', 'are', phrase)\n",
    "    phrase = re.sub(r'\\'s', 'is', phrase)\n",
    "    phrase = re.sub(r'\\'ve', 'have', phrase)\n",
    "    phrase = re.sub(r'\\'m', 'am', phrase)\n",
    "    \n",
    "    print(phrase)\n",
    "    \n",
    "   "
   ]
  },
  {
   "cell_type": "code",
   "execution_count": 16,
   "id": "277b0074",
   "metadata": {},
   "outputs": [
    {
     "name": "stderr",
     "output_type": "stream",
     "text": [
      "[nltk_data] Downloading package stopwords to\n",
      "[nltk_data]     C:\\Users\\shash\\AppData\\Roaming\\nltk_data...\n",
      "[nltk_data]   Package stopwords is already up-to-date!\n"
     ]
    }
   ],
   "source": [
    "import string\n",
    "import nltk\n",
    "nltk.download('stopwords')\n",
    "from nltk.corpus import stopwords\n",
    "all_stopwords = stopwords.words('english')"
   ]
  },
  {
   "cell_type": "code",
   "execution_count": 17,
   "id": "e106737b",
   "metadata": {},
   "outputs": [],
   "source": [
    "all_stopwords.remove('not')\n",
    "all_stopwords.remove('no')\n",
    "all_stopwords.remove('nor')"
   ]
  },
  {
   "cell_type": "code",
   "execution_count": 18,
   "id": "074e7ba5",
   "metadata": {},
   "outputs": [],
   "source": [
    "from tqdm import tqdm  # tqdm displays the status bar while the code is getting executed\n",
    "from nltk.tokenize import word_tokenize\n",
    "from nltk.stem import PorterStemmer\n",
    "from nltk.stem.wordnet import WordNetLemmatizer\n",
    "from bs4 import BeautifulSoup  # removes the HTML tags"
   ]
  },
  {
   "cell_type": "code",
   "execution_count": 19,
   "id": "1737d663",
   "metadata": {},
   "outputs": [],
   "source": [
    "exclude = string.punctuation\n",
    "\n",
    "def remove_punctuation(text):\n",
    "    \n",
    "    for char in exclude:\n",
    "\n",
    "        return text.translate(str.maketrans('', '', exclude))"
   ]
  },
  {
   "cell_type": "code",
   "execution_count": 20,
   "id": "d58477bb",
   "metadata": {},
   "outputs": [
    {
     "name": "stderr",
     "output_type": "stream",
     "text": [
      "100%|█████████████████████████████████████████████████████████████████████████| 393931/393931 [10:04<00:00, 651.68it/s]\n"
     ]
    }
   ],
   "source": [
    "preprocessed_reviews = []\n",
    "\n",
    "for sentence in tqdm(dup_ds['Text'].values):\n",
    "    \n",
    "    sentence = re.sub(r\"http\\S*\", \"\", sentence)   # to remove URL\n",
    "    \n",
    "    sentence = BeautifulSoup(sentence).get_text() # to remove HTML Tags\n",
    "    \n",
    "    sentence = re.sub(r\"[^A-Za-z]\", \" \", sentence) # to remove all other character apart from alphabets\n",
    "    \n",
    "    sentence = remove_punctuation(sentence) # to remove punctuation\n",
    "    \n",
    "    #tokenization and Lemmatization\n",
    "    sentence_words = word_tokenize(sentence)\n",
    "    sentence_lemma = []\n",
    "    for word in sentence_words:\n",
    "        sentence_lemma.append(WordNetLemmatizer().lemmatize(word, pos = 'v'))\n",
    "    \n",
    "    sentence = \" \".join(e.lower() for e in sentence_lemma if e.lower() not in all_stopwords)  # filters stopwords and converts the alphabets to lower case\n",
    "    \n",
    "    preprocessed_reviews.append(sentence)"
   ]
  },
  {
   "cell_type": "code",
   "execution_count": 21,
   "id": "48ce6745",
   "metadata": {},
   "outputs": [
    {
     "data": {
      "text/plain": [
       "'received gum manufacture package expect note glee gum taste great one minute need chew another piece not seller fault recommend seller'"
      ]
     },
     "execution_count": 21,
     "metadata": {},
     "output_type": "execute_result"
    }
   ],
   "source": [
    "preprocessed_reviews[100000]"
   ]
  },
  {
   "cell_type": "code",
   "execution_count": 22,
   "id": "ef9a0e29",
   "metadata": {},
   "outputs": [
    {
     "data": {
      "text/plain": [
       "'kid son th birthday love sweet tart flavor stackable lego like candy son lego theme b day party kid stragled sit table give bag label name block candy busy build eat everyone arrive set timer build talest stack candy could time buzzer go party start apparent lego theme activity game leftovers goodie bag would buy not buy company'"
      ]
     },
     "execution_count": 22,
     "metadata": {},
     "output_type": "execute_result"
    }
   ],
   "source": [
    "preprocessed_reviews[5258]"
   ]
  },
  {
   "cell_type": "code",
   "execution_count": 23,
   "id": "b673ba1d",
   "metadata": {},
   "outputs": [
    {
     "data": {
      "text/plain": [
       "393931"
      ]
     },
     "execution_count": 23,
     "metadata": {},
     "output_type": "execute_result"
    }
   ],
   "source": [
    "len(preprocessed_reviews)"
   ]
  },
  {
   "cell_type": "code",
   "execution_count": 24,
   "id": "220dea8d",
   "metadata": {},
   "outputs": [
    {
     "data": {
      "text/plain": [
       "list"
      ]
     },
     "execution_count": 24,
     "metadata": {},
     "output_type": "execute_result"
    }
   ],
   "source": [
    "type(preprocessed_reviews)"
   ]
  },
  {
   "cell_type": "markdown",
   "id": "f5fdd1f6",
   "metadata": {},
   "source": [
    "#### concatenating the processed dataset to the main dataset"
   ]
  },
  {
   "cell_type": "code",
   "execution_count": 25,
   "id": "6bceeda6",
   "metadata": {},
   "outputs": [],
   "source": [
    "dup_ds['preprocessed']=preprocessed_reviews"
   ]
  },
  {
   "cell_type": "code",
   "execution_count": 26,
   "id": "36b6e51f",
   "metadata": {},
   "outputs": [
    {
     "data": {
      "text/html": [
       "<div>\n",
       "<style scoped>\n",
       "    .dataframe tbody tr th:only-of-type {\n",
       "        vertical-align: middle;\n",
       "    }\n",
       "\n",
       "    .dataframe tbody tr th {\n",
       "        vertical-align: top;\n",
       "    }\n",
       "\n",
       "    .dataframe thead th {\n",
       "        text-align: right;\n",
       "    }\n",
       "</style>\n",
       "<table border=\"1\" class=\"dataframe\">\n",
       "  <thead>\n",
       "    <tr style=\"text-align: right;\">\n",
       "      <th></th>\n",
       "      <th>Id</th>\n",
       "      <th>ProductId</th>\n",
       "      <th>UserId</th>\n",
       "      <th>ProfileName</th>\n",
       "      <th>HelpfulnessNumerator</th>\n",
       "      <th>HelpfulnessDenominator</th>\n",
       "      <th>Score</th>\n",
       "      <th>Time</th>\n",
       "      <th>Summary</th>\n",
       "      <th>Text</th>\n",
       "      <th>sentiment</th>\n",
       "      <th>preprocessed</th>\n",
       "    </tr>\n",
       "  </thead>\n",
       "  <tbody>\n",
       "    <tr>\n",
       "      <th>150528</th>\n",
       "      <td>150529</td>\n",
       "      <td>0006641040</td>\n",
       "      <td>A25ACLV5KPB4W</td>\n",
       "      <td>Matt Hetling \"Matt\"</td>\n",
       "      <td>0</td>\n",
       "      <td>1</td>\n",
       "      <td>4</td>\n",
       "      <td>1108425600</td>\n",
       "      <td>Nice cadence, catchy rhymes</td>\n",
       "      <td>In June&lt;br /&gt;I saw a charming group&lt;br /&gt;of ro...</td>\n",
       "      <td>1</td>\n",
       "      <td>junei saw charm groupof roses beginto droopi p...</td>\n",
       "    </tr>\n",
       "    <tr>\n",
       "      <th>150506</th>\n",
       "      <td>150507</td>\n",
       "      <td>0006641040</td>\n",
       "      <td>A1S4A3IQ2MU7V4</td>\n",
       "      <td>sally sue \"sally sue\"</td>\n",
       "      <td>1</td>\n",
       "      <td>1</td>\n",
       "      <td>4</td>\n",
       "      <td>1191456000</td>\n",
       "      <td>chicken soup with rice months</td>\n",
       "      <td>This is a fun way for children to learn their ...</td>\n",
       "      <td>1</td>\n",
       "      <td>fun way children learn months year learn poems...</td>\n",
       "    </tr>\n",
       "    <tr>\n",
       "      <th>150505</th>\n",
       "      <td>150506</td>\n",
       "      <td>0006641040</td>\n",
       "      <td>A2IW4PEEKO2R0U</td>\n",
       "      <td>Tracy</td>\n",
       "      <td>1</td>\n",
       "      <td>1</td>\n",
       "      <td>4</td>\n",
       "      <td>1194739200</td>\n",
       "      <td>Love the book, miss the hard cover version</td>\n",
       "      <td>I grew up reading these Sendak books, and watc...</td>\n",
       "      <td>1</td>\n",
       "      <td>grow read sendak book watch really rosie movie...</td>\n",
       "    </tr>\n",
       "    <tr>\n",
       "      <th>150504</th>\n",
       "      <td>150505</td>\n",
       "      <td>0006641040</td>\n",
       "      <td>A2PTSM496CF40Z</td>\n",
       "      <td>Jason A. Teeple \"Nobody made a greater mistak...</td>\n",
       "      <td>1</td>\n",
       "      <td>1</td>\n",
       "      <td>4</td>\n",
       "      <td>1210809600</td>\n",
       "      <td>A classic</td>\n",
       "      <td>Get the movie or sound track and sing along wi...</td>\n",
       "      <td>1</td>\n",
       "      <td>get movie sound track sing along carol king gr...</td>\n",
       "    </tr>\n",
       "    <tr>\n",
       "      <th>150503</th>\n",
       "      <td>150504</td>\n",
       "      <td>0006641040</td>\n",
       "      <td>AQEYF1AXARWJZ</td>\n",
       "      <td>Les Sinclair \"book maven\"</td>\n",
       "      <td>1</td>\n",
       "      <td>1</td>\n",
       "      <td>4</td>\n",
       "      <td>1212278400</td>\n",
       "      <td>Chicken Soup with Rice</td>\n",
       "      <td>A very entertaining rhyming story--cleaver and...</td>\n",
       "      <td>1</td>\n",
       "      <td>entertain rhyme story cleaver catchy illustrat...</td>\n",
       "    </tr>\n",
       "  </tbody>\n",
       "</table>\n",
       "</div>"
      ],
      "text/plain": [
       "            Id   ProductId          UserId  \\\n",
       "150528  150529  0006641040   A25ACLV5KPB4W   \n",
       "150506  150507  0006641040  A1S4A3IQ2MU7V4   \n",
       "150505  150506  0006641040  A2IW4PEEKO2R0U   \n",
       "150504  150505  0006641040  A2PTSM496CF40Z   \n",
       "150503  150504  0006641040   AQEYF1AXARWJZ   \n",
       "\n",
       "                                             ProfileName  \\\n",
       "150528                               Matt Hetling \"Matt\"   \n",
       "150506                             sally sue \"sally sue\"   \n",
       "150505                                             Tracy   \n",
       "150504  Jason A. Teeple \"Nobody made a greater mistak...   \n",
       "150503                         Les Sinclair \"book maven\"   \n",
       "\n",
       "        HelpfulnessNumerator  HelpfulnessDenominator  Score        Time  \\\n",
       "150528                     0                       1      4  1108425600   \n",
       "150506                     1                       1      4  1191456000   \n",
       "150505                     1                       1      4  1194739200   \n",
       "150504                     1                       1      4  1210809600   \n",
       "150503                     1                       1      4  1212278400   \n",
       "\n",
       "                                           Summary  \\\n",
       "150528                 Nice cadence, catchy rhymes   \n",
       "150506               chicken soup with rice months   \n",
       "150505  Love the book, miss the hard cover version   \n",
       "150504                                   A classic   \n",
       "150503                      Chicken Soup with Rice   \n",
       "\n",
       "                                                     Text  sentiment  \\\n",
       "150528  In June<br />I saw a charming group<br />of ro...          1   \n",
       "150506  This is a fun way for children to learn their ...          1   \n",
       "150505  I grew up reading these Sendak books, and watc...          1   \n",
       "150504  Get the movie or sound track and sing along wi...          1   \n",
       "150503  A very entertaining rhyming story--cleaver and...          1   \n",
       "\n",
       "                                             preprocessed  \n",
       "150528  junei saw charm groupof roses beginto droopi p...  \n",
       "150506  fun way children learn months year learn poems...  \n",
       "150505  grow read sendak book watch really rosie movie...  \n",
       "150504  get movie sound track sing along carol king gr...  \n",
       "150503  entertain rhyme story cleaver catchy illustrat...  "
      ]
     },
     "execution_count": 26,
     "metadata": {},
     "output_type": "execute_result"
    }
   ],
   "source": [
    "dup_ds.head()"
   ]
  },
  {
   "cell_type": "markdown",
   "id": "a8dbea79",
   "metadata": {},
   "source": [
    "### convert the review to vectors"
   ]
  },
  {
   "cell_type": "code",
   "execution_count": 400,
   "id": "b3d5def3",
   "metadata": {},
   "outputs": [
    {
     "data": {
      "text/html": [
       "<div>\n",
       "<style scoped>\n",
       "    .dataframe tbody tr th:only-of-type {\n",
       "        vertical-align: middle;\n",
       "    }\n",
       "\n",
       "    .dataframe tbody tr th {\n",
       "        vertical-align: top;\n",
       "    }\n",
       "\n",
       "    .dataframe thead th {\n",
       "        text-align: right;\n",
       "    }\n",
       "</style>\n",
       "<table border=\"1\" class=\"dataframe\">\n",
       "  <thead>\n",
       "    <tr style=\"text-align: right;\">\n",
       "      <th></th>\n",
       "      <th>Id</th>\n",
       "      <th>ProductId</th>\n",
       "      <th>UserId</th>\n",
       "      <th>ProfileName</th>\n",
       "      <th>HelpfulnessNumerator</th>\n",
       "      <th>HelpfulnessDenominator</th>\n",
       "      <th>Score</th>\n",
       "      <th>Time</th>\n",
       "      <th>Summary</th>\n",
       "      <th>Text</th>\n",
       "      <th>sentiment</th>\n",
       "      <th>preprocessed</th>\n",
       "    </tr>\n",
       "  </thead>\n",
       "  <tbody>\n",
       "    <tr>\n",
       "      <th>286455</th>\n",
       "      <td>286456</td>\n",
       "      <td>B0078ETYX0</td>\n",
       "      <td>AY12DBB0U420B</td>\n",
       "      <td>Gary Peterson</td>\n",
       "      <td>0</td>\n",
       "      <td>0</td>\n",
       "      <td>4</td>\n",
       "      <td>1334102400</td>\n",
       "      <td>The Lobster Bisque was Quite Good.</td>\n",
       "      <td>I had a simple lunch today. It consisted of  a...</td>\n",
       "      <td>1</td>\n",
       "      <td>simple lunch today consist ounce serve one bar...</td>\n",
       "    </tr>\n",
       "    <tr>\n",
       "      <th>272898</th>\n",
       "      <td>272899</td>\n",
       "      <td>B003FX1CYC</td>\n",
       "      <td>A2JEI7NC94Z4PN</td>\n",
       "      <td>Friendly Bubba</td>\n",
       "      <td>3</td>\n",
       "      <td>5</td>\n",
       "      <td>5</td>\n",
       "      <td>1306454400</td>\n",
       "      <td>Smooth and Flavorful</td>\n",
       "      <td>Typhoo is a British tea. After drinking Typhoo...</td>\n",
       "      <td>1</td>\n",
       "      <td>typhoo british tea drink typhoo never satisfy ...</td>\n",
       "    </tr>\n",
       "    <tr>\n",
       "      <th>91450</th>\n",
       "      <td>91451</td>\n",
       "      <td>B002F8XFNE</td>\n",
       "      <td>A3T1TMBUXHADLO</td>\n",
       "      <td>Vinit Gupta</td>\n",
       "      <td>1</td>\n",
       "      <td>1</td>\n",
       "      <td>1</td>\n",
       "      <td>1304035200</td>\n",
       "      <td>The heart shapes died</td>\n",
       "      <td>I got the plant in good shape however the the ...</td>\n",
       "      <td>0</td>\n",
       "      <td>get plant good shape however center bamboo hea...</td>\n",
       "    </tr>\n",
       "    <tr>\n",
       "      <th>255539</th>\n",
       "      <td>255540</td>\n",
       "      <td>B00472G6R8</td>\n",
       "      <td>A1L9UADH1ND31K</td>\n",
       "      <td>Nancy Ehrlich</td>\n",
       "      <td>0</td>\n",
       "      <td>0</td>\n",
       "      <td>4</td>\n",
       "      <td>1317945600</td>\n",
       "      <td>Angie's Kettle Corn</td>\n",
       "      <td>I love Angies's Kettle Corn, it is the best on...</td>\n",
       "      <td>1</td>\n",
       "      <td>love angies kettle corn best market would give...</td>\n",
       "    </tr>\n",
       "    <tr>\n",
       "      <th>311062</th>\n",
       "      <td>311063</td>\n",
       "      <td>B000F4DK9Y</td>\n",
       "      <td>A1U9ZT7CNT1CZY</td>\n",
       "      <td>S. Winsor \"Trekker\"</td>\n",
       "      <td>0</td>\n",
       "      <td>0</td>\n",
       "      <td>5</td>\n",
       "      <td>1344470400</td>\n",
       "      <td>Love this tea</td>\n",
       "      <td>I have been drinking Twinnings prince of Wales...</td>\n",
       "      <td>1</td>\n",
       "      <td>drink twinnings prince wales tea years love af...</td>\n",
       "    </tr>\n",
       "  </tbody>\n",
       "</table>\n",
       "</div>"
      ],
      "text/plain": [
       "            Id   ProductId          UserId          ProfileName  \\\n",
       "286455  286456  B0078ETYX0   AY12DBB0U420B        Gary Peterson   \n",
       "272898  272899  B003FX1CYC  A2JEI7NC94Z4PN       Friendly Bubba   \n",
       "91450    91451  B002F8XFNE  A3T1TMBUXHADLO          Vinit Gupta   \n",
       "255539  255540  B00472G6R8  A1L9UADH1ND31K        Nancy Ehrlich   \n",
       "311062  311063  B000F4DK9Y  A1U9ZT7CNT1CZY  S. Winsor \"Trekker\"   \n",
       "\n",
       "        HelpfulnessNumerator  HelpfulnessDenominator  Score        Time  \\\n",
       "286455                     0                       0      4  1334102400   \n",
       "272898                     3                       5      5  1306454400   \n",
       "91450                      1                       1      1  1304035200   \n",
       "255539                     0                       0      4  1317945600   \n",
       "311062                     0                       0      5  1344470400   \n",
       "\n",
       "                                   Summary  \\\n",
       "286455  The Lobster Bisque was Quite Good.   \n",
       "272898                Smooth and Flavorful   \n",
       "91450                The heart shapes died   \n",
       "255539                 Angie's Kettle Corn   \n",
       "311062                       Love this tea   \n",
       "\n",
       "                                                     Text  sentiment  \\\n",
       "286455  I had a simple lunch today. It consisted of  a...          1   \n",
       "272898  Typhoo is a British tea. After drinking Typhoo...          1   \n",
       "91450   I got the plant in good shape however the the ...          0   \n",
       "255539  I love Angies's Kettle Corn, it is the best on...          1   \n",
       "311062  I have been drinking Twinnings prince of Wales...          1   \n",
       "\n",
       "                                             preprocessed  \n",
       "286455  simple lunch today consist ounce serve one bar...  \n",
       "272898  typhoo british tea drink typhoo never satisfy ...  \n",
       "91450   get plant good shape however center bamboo hea...  \n",
       "255539  love angies kettle corn best market would give...  \n",
       "311062  drink twinnings prince wales tea years love af...  "
      ]
     },
     "execution_count": 400,
     "metadata": {},
     "output_type": "execute_result"
    }
   ],
   "source": [
    "sample_data = dup_ds.sample(n=5000)\n",
    "sample_data.head()"
   ]
  },
  {
   "cell_type": "code",
   "execution_count": 401,
   "id": "ff91aefc",
   "metadata": {},
   "outputs": [],
   "source": [
    "sample_data.drop(columns = ['Id', 'ProductId', 'UserId', 'ProfileName', 'Score', 'Time', 'Summary', 'Text'], inplace = True)"
   ]
  },
  {
   "cell_type": "code",
   "execution_count": 402,
   "id": "d735335b",
   "metadata": {},
   "outputs": [
    {
     "data": {
      "text/html": [
       "<div>\n",
       "<style scoped>\n",
       "    .dataframe tbody tr th:only-of-type {\n",
       "        vertical-align: middle;\n",
       "    }\n",
       "\n",
       "    .dataframe tbody tr th {\n",
       "        vertical-align: top;\n",
       "    }\n",
       "\n",
       "    .dataframe thead th {\n",
       "        text-align: right;\n",
       "    }\n",
       "</style>\n",
       "<table border=\"1\" class=\"dataframe\">\n",
       "  <thead>\n",
       "    <tr style=\"text-align: right;\">\n",
       "      <th></th>\n",
       "      <th>HelpfulnessNumerator</th>\n",
       "      <th>HelpfulnessDenominator</th>\n",
       "      <th>sentiment</th>\n",
       "      <th>preprocessed</th>\n",
       "    </tr>\n",
       "  </thead>\n",
       "  <tbody>\n",
       "    <tr>\n",
       "      <th>286455</th>\n",
       "      <td>0</td>\n",
       "      <td>0</td>\n",
       "      <td>1</td>\n",
       "      <td>simple lunch today consist ounce serve one bar...</td>\n",
       "    </tr>\n",
       "    <tr>\n",
       "      <th>272898</th>\n",
       "      <td>3</td>\n",
       "      <td>5</td>\n",
       "      <td>1</td>\n",
       "      <td>typhoo british tea drink typhoo never satisfy ...</td>\n",
       "    </tr>\n",
       "    <tr>\n",
       "      <th>91450</th>\n",
       "      <td>1</td>\n",
       "      <td>1</td>\n",
       "      <td>0</td>\n",
       "      <td>get plant good shape however center bamboo hea...</td>\n",
       "    </tr>\n",
       "    <tr>\n",
       "      <th>255539</th>\n",
       "      <td>0</td>\n",
       "      <td>0</td>\n",
       "      <td>1</td>\n",
       "      <td>love angies kettle corn best market would give...</td>\n",
       "    </tr>\n",
       "    <tr>\n",
       "      <th>311062</th>\n",
       "      <td>0</td>\n",
       "      <td>0</td>\n",
       "      <td>1</td>\n",
       "      <td>drink twinnings prince wales tea years love af...</td>\n",
       "    </tr>\n",
       "  </tbody>\n",
       "</table>\n",
       "</div>"
      ],
      "text/plain": [
       "        HelpfulnessNumerator  HelpfulnessDenominator  sentiment  \\\n",
       "286455                     0                       0          1   \n",
       "272898                     3                       5          1   \n",
       "91450                      1                       1          0   \n",
       "255539                     0                       0          1   \n",
       "311062                     0                       0          1   \n",
       "\n",
       "                                             preprocessed  \n",
       "286455  simple lunch today consist ounce serve one bar...  \n",
       "272898  typhoo british tea drink typhoo never satisfy ...  \n",
       "91450   get plant good shape however center bamboo hea...  \n",
       "255539  love angies kettle corn best market would give...  \n",
       "311062  drink twinnings prince wales tea years love af...  "
      ]
     },
     "execution_count": 402,
     "metadata": {},
     "output_type": "execute_result"
    }
   ],
   "source": [
    "sample_data.head()"
   ]
  },
  {
   "cell_type": "markdown",
   "id": "e8abdb1e",
   "metadata": {},
   "source": [
    "#### seggregation of dependent and independent variable"
   ]
  },
  {
   "cell_type": "code",
   "execution_count": 403,
   "id": "c867190f",
   "metadata": {},
   "outputs": [
    {
     "name": "stdout",
     "output_type": "stream",
     "text": [
      "Index(['HelpfulnessNumerator', 'HelpfulnessDenominator', 'preprocessed'], dtype='object')\n",
      "(5000, 3) (5000,)\n"
     ]
    }
   ],
   "source": [
    "x = sample_data.drop(columns = ['sentiment'])\n",
    "y = sample_data['sentiment'].values\n",
    "print(x.columns)\n",
    "print(x.shape, y.shape)"
   ]
  },
  {
   "cell_type": "code",
   "execution_count": 404,
   "id": "cfa7800d",
   "metadata": {},
   "outputs": [
    {
     "data": {
      "text/plain": [
       "1    3873\n",
       "0    1127\n",
       "Name: sentiment, dtype: int64"
      ]
     },
     "execution_count": 404,
     "metadata": {},
     "output_type": "execute_result"
    }
   ],
   "source": [
    "sample_data['sentiment'].value_counts()"
   ]
  },
  {
   "cell_type": "code",
   "execution_count": 405,
   "id": "17a3ff1a",
   "metadata": {},
   "outputs": [],
   "source": [
    "from sklearn.model_selection import train_test_split\n",
    "\n",
    "x_train, x_test, y_train, y_test = train_test_split(x, y, test_size=0.2, random_state=24)"
   ]
  },
  {
   "cell_type": "markdown",
   "id": "d69ac850",
   "metadata": {},
   "source": [
    "### Bag of words model"
   ]
  },
  {
   "cell_type": "code",
   "execution_count": 406,
   "id": "5d4d9936",
   "metadata": {},
   "outputs": [],
   "source": [
    "from sklearn.feature_extraction.text import CountVectorizer\n",
    "\n",
    "cv = CountVectorizer()"
   ]
  },
  {
   "cell_type": "markdown",
   "id": "fd2bab92",
   "metadata": {},
   "source": [
    "#### text vectorization of training data"
   ]
  },
  {
   "cell_type": "markdown",
   "id": "b764a0dc",
   "metadata": {},
   "source": [
    "feature names printing"
   ]
  },
  {
   "cell_type": "code",
   "execution_count": 407,
   "id": "359c9e61",
   "metadata": {},
   "outputs": [
    {
     "name": "stdout",
     "output_type": "stream",
     "text": [
      "some feature names ['aa', 'aaah', 'aback', 'abandon', 'abbey', 'abbie', 'abbot', 'abbreviation', 'abeja', 'abejas']\n"
     ]
    }
   ],
   "source": [
    "feature_name = cv.fit(x_train['preprocessed'])\n",
    "\n",
    "print(\"some feature names\", feature_name.get_feature_names()[:10])"
   ]
  },
  {
   "cell_type": "code",
   "execution_count": 408,
   "id": "bdd909e9",
   "metadata": {},
   "outputs": [],
   "source": [
    "x_train_vector1 = cv.fit_transform(x_train['preprocessed'])"
   ]
  },
  {
   "cell_type": "code",
   "execution_count": 409,
   "id": "fa65bc10",
   "metadata": {},
   "outputs": [
    {
     "data": {
      "text/plain": [
       "(4000, 11319)"
      ]
     },
     "execution_count": 409,
     "metadata": {},
     "output_type": "execute_result"
    }
   ],
   "source": [
    "x_train_vector1.shape"
   ]
  },
  {
   "cell_type": "code",
   "execution_count": 410,
   "id": "6bf575c3",
   "metadata": {},
   "outputs": [
    {
     "data": {
      "text/plain": [
       "(4000, 2)"
      ]
     },
     "execution_count": 410,
     "metadata": {},
     "output_type": "execute_result"
    }
   ],
   "source": [
    "x_train_vector2 = x_train[[\"HelpfulnessNumerator\", \"HelpfulnessDenominator\"]].values\n",
    "\n",
    "x_train_vector2.shape"
   ]
  },
  {
   "cell_type": "code",
   "execution_count": 411,
   "id": "89860726",
   "metadata": {},
   "outputs": [
    {
     "data": {
      "text/plain": [
       "array([[0, 0],\n",
       "       [1, 1],\n",
       "       [0, 0],\n",
       "       ...,\n",
       "       [1, 3],\n",
       "       [0, 0],\n",
       "       [5, 5]], dtype=int64)"
      ]
     },
     "execution_count": 411,
     "metadata": {},
     "output_type": "execute_result"
    }
   ],
   "source": [
    "x_train_vector2"
   ]
  },
  {
   "cell_type": "markdown",
   "id": "4f8c1fe9",
   "metadata": {},
   "source": [
    "#### concatenation of x_train_vector1 and x_train_vector2 as one single entity."
   ]
  },
  {
   "cell_type": "code",
   "execution_count": 412,
   "id": "53c52e67",
   "metadata": {},
   "outputs": [
    {
     "data": {
      "text/plain": [
       "(4000, 11321)"
      ]
     },
     "execution_count": 412,
     "metadata": {},
     "output_type": "execute_result"
    }
   ],
   "source": [
    "from scipy import sparse\n",
    "\n",
    "x_train_bow = sparse.hstack(( x_train_vector2, x_train_vector1))\n",
    "\n",
    "x_train_bow.shape"
   ]
  },
  {
   "cell_type": "markdown",
   "id": "9825f3b8",
   "metadata": {},
   "source": [
    "#### text vectorization of testing data"
   ]
  },
  {
   "cell_type": "code",
   "execution_count": 413,
   "id": "4e05383f",
   "metadata": {},
   "outputs": [
    {
     "data": {
      "text/plain": [
       "(1000, 11319)"
      ]
     },
     "execution_count": 413,
     "metadata": {},
     "output_type": "execute_result"
    }
   ],
   "source": [
    "x_test_vector1 = cv.transform(x_test['preprocessed'])\n",
    "\n",
    "x_test_vector1.shape"
   ]
  },
  {
   "cell_type": "code",
   "execution_count": 414,
   "id": "9262cb2c",
   "metadata": {},
   "outputs": [
    {
     "data": {
      "text/plain": [
       "(1000, 2)"
      ]
     },
     "execution_count": 414,
     "metadata": {},
     "output_type": "execute_result"
    }
   ],
   "source": [
    "x_test_vector2 = x_test[[\"HelpfulnessNumerator\", \"HelpfulnessDenominator\"]].values\n",
    "\n",
    "x_test_vector2.shape"
   ]
  },
  {
   "cell_type": "markdown",
   "id": "1ae4d073",
   "metadata": {},
   "source": [
    "#### concatenation of x_test_vector1 and x_test_vector2 as one single entity."
   ]
  },
  {
   "cell_type": "code",
   "execution_count": 415,
   "id": "578e5c76",
   "metadata": {},
   "outputs": [
    {
     "data": {
      "text/plain": [
       "(1000, 11321)"
      ]
     },
     "execution_count": 415,
     "metadata": {},
     "output_type": "execute_result"
    }
   ],
   "source": [
    "from scipy import sparse\n",
    "\n",
    "x_test_bow = sparse.hstack(( x_test_vector2, x_test_vector1))\n",
    "\n",
    "x_test_bow.shape"
   ]
  },
  {
   "cell_type": "markdown",
   "id": "abe04bc7",
   "metadata": {},
   "source": [
    "### TF_IDF method"
   ]
  },
  {
   "cell_type": "code",
   "execution_count": 416,
   "id": "6ee70a87",
   "metadata": {},
   "outputs": [],
   "source": [
    "from sklearn.feature_extraction.text import TfidfVectorizer\n",
    "\n",
    "tfidf = TfidfVectorizer()"
   ]
  },
  {
   "cell_type": "code",
   "execution_count": 417,
   "id": "a1207b25",
   "metadata": {},
   "outputs": [
    {
     "data": {
      "text/plain": [
       "(4000, 11319)"
      ]
     },
     "execution_count": 417,
     "metadata": {},
     "output_type": "execute_result"
    }
   ],
   "source": [
    "x_train_vector_i = tfidf.fit_transform(x_train['preprocessed'])\n",
    "\n",
    "x_train_vector_i.shape"
   ]
  },
  {
   "cell_type": "code",
   "execution_count": 418,
   "id": "cec5f5c9",
   "metadata": {},
   "outputs": [
    {
     "data": {
      "text/plain": [
       "(4000, 11321)"
      ]
     },
     "execution_count": 418,
     "metadata": {},
     "output_type": "execute_result"
    }
   ],
   "source": [
    "x_train_vector_ii = x_train[[\"HelpfulnessNumerator\", \"HelpfulnessDenominator\"]].values\n",
    "\n",
    "x_train_tfidf = sparse.hstack(( x_train_vector_ii, x_train_vector_i))\n",
    "\n",
    "x_train_tfidf.shape"
   ]
  },
  {
   "cell_type": "code",
   "execution_count": 419,
   "id": "74c0d076",
   "metadata": {},
   "outputs": [
    {
     "data": {
      "text/plain": [
       "(1000, 11319)"
      ]
     },
     "execution_count": 419,
     "metadata": {},
     "output_type": "execute_result"
    }
   ],
   "source": [
    "x_test_vector_i = tfidf.transform(x_test['preprocessed'])\n",
    "\n",
    "x_test_vector_i.shape"
   ]
  },
  {
   "cell_type": "code",
   "execution_count": 420,
   "id": "5342ab0d",
   "metadata": {},
   "outputs": [
    {
     "data": {
      "text/plain": [
       "(1000, 11321)"
      ]
     },
     "execution_count": 420,
     "metadata": {},
     "output_type": "execute_result"
    }
   ],
   "source": [
    "from scipy import sparse\n",
    "\n",
    "x_test_vector_ii = x_test[[\"HelpfulnessNumerator\", \"HelpfulnessDenominator\"]].values\n",
    "\n",
    "x_test_tfidf = sparse.hstack(( x_test_vector_ii, x_test_vector_i))\n",
    "\n",
    "x_test_tfidf.shape"
   ]
  },
  {
   "cell_type": "markdown",
   "id": "5a136f37",
   "metadata": {},
   "source": [
    "### Model deployment"
   ]
  },
  {
   "cell_type": "markdown",
   "id": "79e5d0ec",
   "metadata": {},
   "source": [
    "#### Logistic Regression"
   ]
  },
  {
   "cell_type": "code",
   "execution_count": 421,
   "id": "4eaf39a7",
   "metadata": {},
   "outputs": [
    {
     "data": {
      "text/plain": [
       "LogisticRegression(max_iter=15000)"
      ]
     },
     "execution_count": 421,
     "metadata": {},
     "output_type": "execute_result"
    }
   ],
   "source": [
    "from sklearn.linear_model import LogisticRegression\n",
    "\n",
    "LR_BOW = LogisticRegression(max_iter = 15000)\n",
    "LR_tf = LogisticRegression(max_iter = 15000)\n",
    "\n",
    "LR_BOW.fit(x_train_bow, y_train)\n",
    "LR_tf.fit(x_train_tfidf, y_train)"
   ]
  },
  {
   "cell_type": "code",
   "execution_count": 422,
   "id": "6ad1ac58",
   "metadata": {},
   "outputs": [],
   "source": [
    "y_pred_bow = LR_BOW.predict(x_test_bow)\n",
    "y_pred_tf = LR_tf.predict(x_test_tfidf)"
   ]
  },
  {
   "cell_type": "code",
   "execution_count": 423,
   "id": "15230260",
   "metadata": {},
   "outputs": [
    {
     "name": "stdout",
     "output_type": "stream",
     "text": [
      "accuracy score for BOW is: 0.857\n",
      "accuracy score for TF-IDF is: 0.846\n",
      "[[127  55]\n",
      " [ 88 730]]\n",
      "[[ 76  15]\n",
      " [139 770]]\n"
     ]
    }
   ],
   "source": [
    "from sklearn.metrics import accuracy_score, classification_report, confusion_matrix\n",
    "\n",
    "print(\"accuracy score for BOW is:\", accuracy_score(y_pred_bow, y_test))\n",
    "\n",
    "print(\"accuracy score for TF-IDF is:\", accuracy_score(y_pred_tf, y_test))\n",
    "\n",
    "print(confusion_matrix(y_pred_bow, y_test))\n",
    "\n",
    "print(confusion_matrix(y_pred_tf, y_test))"
   ]
  },
  {
   "cell_type": "code",
   "execution_count": 424,
   "id": "35ab7c2a",
   "metadata": {},
   "outputs": [
    {
     "name": "stdout",
     "output_type": "stream",
     "text": [
      "             Classification report: BOW                     \n",
      "                                                            \n",
      "              precision    recall  f1-score   support\n",
      "\n",
      "           0       0.59      0.70      0.64       182\n",
      "           1       0.93      0.89      0.91       818\n",
      "\n",
      "    accuracy                           0.86      1000\n",
      "   macro avg       0.76      0.80      0.78      1000\n",
      "weighted avg       0.87      0.86      0.86      1000\n",
      "\n",
      "                                                            \n",
      "             Classification report: TF-IDF                  \n",
      "                                                            \n",
      "              precision    recall  f1-score   support\n",
      "\n",
      "           0       0.35      0.84      0.50        91\n",
      "           1       0.98      0.85      0.91       909\n",
      "\n",
      "    accuracy                           0.85      1000\n",
      "   macro avg       0.67      0.84      0.70      1000\n",
      "weighted avg       0.92      0.85      0.87      1000\n",
      "\n"
     ]
    }
   ],
   "source": [
    "print(\"             Classification report: BOW                     \")\n",
    "print(\"                                                            \")\n",
    "print(classification_report(y_pred_bow, y_test))\n",
    "print(\"                                                            \")\n",
    "print(\"             Classification report: TF-IDF                  \")\n",
    "print(\"                                                            \")\n",
    "print(classification_report(y_pred_tf, y_test))"
   ]
  },
  {
   "cell_type": "markdown",
   "id": "b0900ffd",
   "metadata": {},
   "source": [
    "#### Naive bayes"
   ]
  },
  {
   "cell_type": "code",
   "execution_count": 425,
   "id": "7731b0ef",
   "metadata": {},
   "outputs": [
    {
     "data": {
      "text/plain": [
       "GaussianNB()"
      ]
     },
     "execution_count": 425,
     "metadata": {},
     "output_type": "execute_result"
    }
   ],
   "source": [
    "from sklearn.naive_bayes import GaussianNB\n",
    "\n",
    "GNB_BOW = GaussianNB()\n",
    "GNB_tf = GaussianNB()\n",
    "\n",
    "GNB_BOW.fit(x_train_bow.toarray(), y_train)\n",
    "GNB_tf.fit(x_train_tfidf.toarray(), y_train)"
   ]
  },
  {
   "cell_type": "code",
   "execution_count": 426,
   "id": "80aea97b",
   "metadata": {},
   "outputs": [],
   "source": [
    "y_pred_NB = GNB_BOW.predict(x_test_bow.toarray())\n",
    "y_pred_tf = GNB_tf.predict(x_test_tfidf.toarray())"
   ]
  },
  {
   "cell_type": "code",
   "execution_count": 427,
   "id": "59e15c77",
   "metadata": {},
   "outputs": [
    {
     "name": "stdout",
     "output_type": "stream",
     "text": [
      "accuracy score for BOW is: 0.59\n",
      "accuracy score for TF-IDF is: 0.592\n"
     ]
    }
   ],
   "source": [
    "print(\"accuracy score for BOW is:\", accuracy_score(y_test, y_pred_NB))\n",
    "print(\"accuracy score for TF-IDF is:\", accuracy_score(y_test, y_pred_tf))"
   ]
  },
  {
   "cell_type": "markdown",
   "id": "545305f6",
   "metadata": {},
   "source": [
    "#### Random Forest classifier"
   ]
  },
  {
   "cell_type": "code",
   "execution_count": 428,
   "id": "446081b6",
   "metadata": {},
   "outputs": [
    {
     "data": {
      "text/plain": [
       "RandomForestClassifier(criterion='entropy', n_estimators=10, random_state=0)"
      ]
     },
     "execution_count": 428,
     "metadata": {},
     "output_type": "execute_result"
    }
   ],
   "source": [
    "from sklearn.ensemble import RandomForestClassifier\n",
    "\n",
    "RF_BOW = RandomForestClassifier(criterion='entropy', random_state=0, n_estimators = 10)\n",
    "RF_tfidf = RandomForestClassifier(criterion='entropy', random_state=0, n_estimators = 10)\n",
    "\n",
    "RF_BOW.fit(x_train_bow.toarray(), y_train)\n",
    "RF_tfidf.fit(x_train_tfidf.toarray(), y_train)"
   ]
  },
  {
   "cell_type": "code",
   "execution_count": 429,
   "id": "1bbf4b47",
   "metadata": {},
   "outputs": [],
   "source": [
    "y_pred_BOW = RF_BOW.predict(x_test_bow.toarray())\n",
    "y_pred_tf = RF_tfidf.predict(x_test_tfidf.toarray())"
   ]
  },
  {
   "cell_type": "code",
   "execution_count": 430,
   "id": "34f8c4d6",
   "metadata": {},
   "outputs": [
    {
     "name": "stdout",
     "output_type": "stream",
     "text": [
      "accuracy score for BOW is: 0.811\n",
      "accuracy score for TF-IDF is: 0.816\n"
     ]
    }
   ],
   "source": [
    "print(\"accuracy score for BOW is:\" ,accuracy_score(y_pred_BOW, y_test))\n",
    "print(\"accuracy score for TF-IDF is:\" ,accuracy_score(y_pred_tf, y_test))"
   ]
  },
  {
   "cell_type": "markdown",
   "id": "c2a8e153",
   "metadata": {},
   "source": [
    "#### support vector classification"
   ]
  },
  {
   "cell_type": "code",
   "execution_count": 431,
   "id": "aea04ae1",
   "metadata": {},
   "outputs": [
    {
     "data": {
      "text/plain": [
       "SVC(kernel='sigmoid', random_state=0)"
      ]
     },
     "execution_count": 431,
     "metadata": {},
     "output_type": "execute_result"
    }
   ],
   "source": [
    "from sklearn.svm import SVC\n",
    "\n",
    "svc_BOW = SVC(kernel = 'sigmoid', random_state = 0)\n",
    "svc_tfidf = SVC(kernel = 'sigmoid', random_state = 0)\n",
    "\n",
    "svc_BOW.fit(x_train_bow.toarray(), y_train)\n",
    "svc_tfidf.fit(x_train_bow.toarray(), y_train)"
   ]
  },
  {
   "cell_type": "code",
   "execution_count": 434,
   "id": "1b1ba4b9",
   "metadata": {},
   "outputs": [],
   "source": [
    "y_pred_BOW = svc_BOW.predict(x_test_bow.toarray())\n",
    "y_pred_tf = svc_tfidf.predict(x_test_tfidf.toarray())"
   ]
  },
  {
   "cell_type": "code",
   "execution_count": 435,
   "id": "cbf1734b",
   "metadata": {},
   "outputs": [
    {
     "name": "stdout",
     "output_type": "stream",
     "text": [
      "accuracy score for BOW is: 0.786\n",
      "accuracy score for TF-IDF is: 0.784\n"
     ]
    }
   ],
   "source": [
    "print(\"accuracy score for BOW is:\" ,accuracy_score(y_pred_BOW, y_test))\n",
    "print(\"accuracy score for TF-IDF is:\" ,accuracy_score(y_pred_tf, y_test))"
   ]
  },
  {
   "cell_type": "markdown",
   "id": "a19c635d",
   "metadata": {},
   "source": [
    "### Conclusion: Logistic regression method performs better with BOW MODEL as feature engg "
   ]
  },
  {
   "cell_type": "code",
   "execution_count": null,
   "id": "40206945",
   "metadata": {},
   "outputs": [],
   "source": []
  }
 ],
 "metadata": {
  "kernelspec": {
   "display_name": "Python 3 (ipykernel)",
   "language": "python",
   "name": "python3"
  },
  "language_info": {
   "codemirror_mode": {
    "name": "ipython",
    "version": 3
   },
   "file_extension": ".py",
   "mimetype": "text/x-python",
   "name": "python",
   "nbconvert_exporter": "python",
   "pygments_lexer": "ipython3",
   "version": "3.9.13"
  }
 },
 "nbformat": 4,
 "nbformat_minor": 5
}
